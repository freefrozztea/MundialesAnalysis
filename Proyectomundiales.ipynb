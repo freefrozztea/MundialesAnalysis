{
 "metadata": {
  "language_info": {
   "codemirror_mode": {
    "name": "ipython",
    "version": 3
   },
   "file_extension": ".py",
   "mimetype": "text/x-python",
   "name": "python",
   "nbconvert_exporter": "python",
   "pygments_lexer": "ipython3",
   "version": "3.7.8"
  },
  "orig_nbformat": 2,
  "kernelspec": {
   "name": "python378jvsc74a57bd032f262ceacbcee35c301e541b72ba64e26a93751cc3370651951bddbfcf1b724",
   "display_name": "Python 3.7.8 32-bit"
  },
  "metadata": {
   "interpreter": {
    "hash": "32f262ceacbcee35c301e541b72ba64e26a93751cc3370651951bddbfcf1b724"
   }
  }
 },
 "nbformat": 4,
 "nbformat_minor": 2,
 "cells": [
  {
   "cell_type": "code",
   "execution_count": 2,
   "metadata": {},
   "outputs": [],
   "source": [
    "import numpy\n",
    "import pandas as pd\n",
    "import os"
   ]
  },
  {
   "cell_type": "code",
   "execution_count": 14,
   "metadata": {},
   "outputs": [],
   "source": [
    "df_mundiales = pd.read_excel('./DatasetsInput/world_cups2.xlsx', sheet_name='world_cups')"
   ]
  },
  {
   "cell_type": "code",
   "execution_count": 15,
   "metadata": {},
   "outputs": [
    {
     "output_type": "execute_result",
     "data": {
      "text/plain": [
       "   Year      Country      Winner      Runners-Up    Third      Fourth  \\\n",
       "0  1930      Uruguay     Uruguay       Argentina      USA  Yugoslavia   \n",
       "1  1934        Italy       Italy  Czechoslovakia  Germany     Austria   \n",
       "2  1938       France       Italy         Hungary   Brazil      Sweden   \n",
       "3  1950       Brazil     Uruguay          Brazil   Sweden       Spain   \n",
       "4  1954  Switzerland  Germany FR         Hungary  Austria     Uruguay   \n",
       "\n",
       "   GoalsScored  QualifiedTeams  MatchesPlayed Attendance  \n",
       "0           70              13             18    590.549  \n",
       "1           70              16             17        363  \n",
       "2           84              15             18      375.7  \n",
       "3           88              13             22  1.045.246  \n",
       "4          140              16             26    768.607  "
      ],
      "text/html": "<div>\n<style scoped>\n    .dataframe tbody tr th:only-of-type {\n        vertical-align: middle;\n    }\n\n    .dataframe tbody tr th {\n        vertical-align: top;\n    }\n\n    .dataframe thead th {\n        text-align: right;\n    }\n</style>\n<table border=\"1\" class=\"dataframe\">\n  <thead>\n    <tr style=\"text-align: right;\">\n      <th></th>\n      <th>Year</th>\n      <th>Country</th>\n      <th>Winner</th>\n      <th>Runners-Up</th>\n      <th>Third</th>\n      <th>Fourth</th>\n      <th>GoalsScored</th>\n      <th>QualifiedTeams</th>\n      <th>MatchesPlayed</th>\n      <th>Attendance</th>\n    </tr>\n  </thead>\n  <tbody>\n    <tr>\n      <th>0</th>\n      <td>1930</td>\n      <td>Uruguay</td>\n      <td>Uruguay</td>\n      <td>Argentina</td>\n      <td>USA</td>\n      <td>Yugoslavia</td>\n      <td>70</td>\n      <td>13</td>\n      <td>18</td>\n      <td>590.549</td>\n    </tr>\n    <tr>\n      <th>1</th>\n      <td>1934</td>\n      <td>Italy</td>\n      <td>Italy</td>\n      <td>Czechoslovakia</td>\n      <td>Germany</td>\n      <td>Austria</td>\n      <td>70</td>\n      <td>16</td>\n      <td>17</td>\n      <td>363</td>\n    </tr>\n    <tr>\n      <th>2</th>\n      <td>1938</td>\n      <td>France</td>\n      <td>Italy</td>\n      <td>Hungary</td>\n      <td>Brazil</td>\n      <td>Sweden</td>\n      <td>84</td>\n      <td>15</td>\n      <td>18</td>\n      <td>375.7</td>\n    </tr>\n    <tr>\n      <th>3</th>\n      <td>1950</td>\n      <td>Brazil</td>\n      <td>Uruguay</td>\n      <td>Brazil</td>\n      <td>Sweden</td>\n      <td>Spain</td>\n      <td>88</td>\n      <td>13</td>\n      <td>22</td>\n      <td>1.045.246</td>\n    </tr>\n    <tr>\n      <th>4</th>\n      <td>1954</td>\n      <td>Switzerland</td>\n      <td>Germany FR</td>\n      <td>Hungary</td>\n      <td>Austria</td>\n      <td>Uruguay</td>\n      <td>140</td>\n      <td>16</td>\n      <td>26</td>\n      <td>768.607</td>\n    </tr>\n  </tbody>\n</table>\n</div>"
     },
     "metadata": {},
     "execution_count": 15
    }
   ],
   "source": [
    "df_mundiales.head()"
   ]
  },
  {
   "cell_type": "code",
   "execution_count": 49,
   "metadata": {},
   "outputs": [
    {
     "output_type": "execute_result",
     "data": {
      "text/plain": [
       "   Year              Datetime    Stage         Stadium         City  \\\n",
       "0  1930  13 Jul 1930 - 15:00   Group 1         Pocitos  Montevideo    \n",
       "1  1930  13 Jul 1930 - 15:00   Group 4  Parque Central  Montevideo    \n",
       "2  1930  14 Jul 1930 - 12:45   Group 2  Parque Central  Montevideo    \n",
       "3  1930  14 Jul 1930 - 14:50   Group 3         Pocitos  Montevideo    \n",
       "4  1930  15 Jul 1930 - 16:00   Group 1  Parque Central  Montevideo    \n",
       "\n",
       "  Home Team Name  Home Team Goals  Away Team Goals Away Team Name  \\\n",
       "0         France                4                1         Mexico   \n",
       "1            USA                3                0        Belgium   \n",
       "2     Yugoslavia                2                1         Brazil   \n",
       "3        Romania                3                1           Peru   \n",
       "4      Argentina                1                0         France   \n",
       "\n",
       "  Win conditions  Attendance  Half-time Home Goals  Half-time Away Goals  \\\n",
       "0                     4444.0                     3                     0   \n",
       "1                    18346.0                     2                     0   \n",
       "2                    24059.0                     2                     0   \n",
       "3                     2549.0                     1                     0   \n",
       "4                    23409.0                     0                     0   \n",
       "\n",
       "                  Referee               Assistant 1  \\\n",
       "0  LOMBARDI Domingo (URU)     CRISTOPHE Henry (BEL)   \n",
       "1       MACIAS Jose (ARG)  MATEUCCI Francisco (URU)   \n",
       "2     TEJADA Anibal (URU)   VALLARINO Ricardo (URU)   \n",
       "3   WARNKEN Alberto (CHI)       LANGENUS Jean (BEL)   \n",
       "4     REGO Gilberto (BRA)      SAUCEDO Ulises (BOL)   \n",
       "\n",
       "                  Assistant 2  RoundID  MatchID Home Team Initials  \\\n",
       "0         REGO Gilberto (BRA)      201     1096                FRA   \n",
       "1       WARNKEN Alberto (CHI)      201     1090                USA   \n",
       "2         BALWAY Thomas (FRA)      201     1093                YUG   \n",
       "3    MATEUCCI Francisco (URU)      201     1098                ROU   \n",
       "4  RADULESCU Constantin (ROU)      201     1085                ARG   \n",
       "\n",
       "  Away Team Initials  \n",
       "0                MEX  \n",
       "1                BEL  \n",
       "2                BRA  \n",
       "3                PER  \n",
       "4                FRA  "
      ],
      "text/html": "<div>\n<style scoped>\n    .dataframe tbody tr th:only-of-type {\n        vertical-align: middle;\n    }\n\n    .dataframe tbody tr th {\n        vertical-align: top;\n    }\n\n    .dataframe thead th {\n        text-align: right;\n    }\n</style>\n<table border=\"1\" class=\"dataframe\">\n  <thead>\n    <tr style=\"text-align: right;\">\n      <th></th>\n      <th>Year</th>\n      <th>Datetime</th>\n      <th>Stage</th>\n      <th>Stadium</th>\n      <th>City</th>\n      <th>Home Team Name</th>\n      <th>Home Team Goals</th>\n      <th>Away Team Goals</th>\n      <th>Away Team Name</th>\n      <th>Win conditions</th>\n      <th>Attendance</th>\n      <th>Half-time Home Goals</th>\n      <th>Half-time Away Goals</th>\n      <th>Referee</th>\n      <th>Assistant 1</th>\n      <th>Assistant 2</th>\n      <th>RoundID</th>\n      <th>MatchID</th>\n      <th>Home Team Initials</th>\n      <th>Away Team Initials</th>\n    </tr>\n  </thead>\n  <tbody>\n    <tr>\n      <th>0</th>\n      <td>1930</td>\n      <td>13 Jul 1930 - 15:00</td>\n      <td>Group 1</td>\n      <td>Pocitos</td>\n      <td>Montevideo</td>\n      <td>France</td>\n      <td>4</td>\n      <td>1</td>\n      <td>Mexico</td>\n      <td></td>\n      <td>4444.0</td>\n      <td>3</td>\n      <td>0</td>\n      <td>LOMBARDI Domingo (URU)</td>\n      <td>CRISTOPHE Henry (BEL)</td>\n      <td>REGO Gilberto (BRA)</td>\n      <td>201</td>\n      <td>1096</td>\n      <td>FRA</td>\n      <td>MEX</td>\n    </tr>\n    <tr>\n      <th>1</th>\n      <td>1930</td>\n      <td>13 Jul 1930 - 15:00</td>\n      <td>Group 4</td>\n      <td>Parque Central</td>\n      <td>Montevideo</td>\n      <td>USA</td>\n      <td>3</td>\n      <td>0</td>\n      <td>Belgium</td>\n      <td></td>\n      <td>18346.0</td>\n      <td>2</td>\n      <td>0</td>\n      <td>MACIAS Jose (ARG)</td>\n      <td>MATEUCCI Francisco (URU)</td>\n      <td>WARNKEN Alberto (CHI)</td>\n      <td>201</td>\n      <td>1090</td>\n      <td>USA</td>\n      <td>BEL</td>\n    </tr>\n    <tr>\n      <th>2</th>\n      <td>1930</td>\n      <td>14 Jul 1930 - 12:45</td>\n      <td>Group 2</td>\n      <td>Parque Central</td>\n      <td>Montevideo</td>\n      <td>Yugoslavia</td>\n      <td>2</td>\n      <td>1</td>\n      <td>Brazil</td>\n      <td></td>\n      <td>24059.0</td>\n      <td>2</td>\n      <td>0</td>\n      <td>TEJADA Anibal (URU)</td>\n      <td>VALLARINO Ricardo (URU)</td>\n      <td>BALWAY Thomas (FRA)</td>\n      <td>201</td>\n      <td>1093</td>\n      <td>YUG</td>\n      <td>BRA</td>\n    </tr>\n    <tr>\n      <th>3</th>\n      <td>1930</td>\n      <td>14 Jul 1930 - 14:50</td>\n      <td>Group 3</td>\n      <td>Pocitos</td>\n      <td>Montevideo</td>\n      <td>Romania</td>\n      <td>3</td>\n      <td>1</td>\n      <td>Peru</td>\n      <td></td>\n      <td>2549.0</td>\n      <td>1</td>\n      <td>0</td>\n      <td>WARNKEN Alberto (CHI)</td>\n      <td>LANGENUS Jean (BEL)</td>\n      <td>MATEUCCI Francisco (URU)</td>\n      <td>201</td>\n      <td>1098</td>\n      <td>ROU</td>\n      <td>PER</td>\n    </tr>\n    <tr>\n      <th>4</th>\n      <td>1930</td>\n      <td>15 Jul 1930 - 16:00</td>\n      <td>Group 1</td>\n      <td>Parque Central</td>\n      <td>Montevideo</td>\n      <td>Argentina</td>\n      <td>1</td>\n      <td>0</td>\n      <td>France</td>\n      <td></td>\n      <td>23409.0</td>\n      <td>0</td>\n      <td>0</td>\n      <td>REGO Gilberto (BRA)</td>\n      <td>SAUCEDO Ulises (BOL)</td>\n      <td>RADULESCU Constantin (ROU)</td>\n      <td>201</td>\n      <td>1085</td>\n      <td>ARG</td>\n      <td>FRA</td>\n    </tr>\n  </tbody>\n</table>\n</div>"
     },
     "metadata": {},
     "execution_count": 49
    }
   ],
   "source": [
    "df_matches = pd.read_excel('./DatasetsInput/world_cups2.xlsx', sheet_name='matches')\n",
    "df_matches.head()"
   ]
  },
  {
   "cell_type": "code",
   "execution_count": 29,
   "metadata": {},
   "outputs": [
    {
     "output_type": "execute_result",
     "data": {
      "text/plain": [
       "   RoundID  MatchID Team Initials           Coach Name Line-up  Shirt Number  \\\n",
       "0      201     1096           FRA  CAUDRON Raoul (FRA)       S             0   \n",
       "1      201     1096           MEX     LUQUE Juan (MEX)       S             0   \n",
       "2      201     1096           FRA  CAUDRON Raoul (FRA)       S             0   \n",
       "3      201     1096           MEX     LUQUE Juan (MEX)       S             0   \n",
       "4      201     1096           FRA  CAUDRON Raoul (FRA)       S             0   \n",
       "\n",
       "        Player Name Position Event  \n",
       "0       Alex THEPOT       GK   NaN  \n",
       "1   Oscar BONFIGLIO       GK   NaN  \n",
       "2  Marcel LANGILLER      NaN  G40'  \n",
       "3      Juan CARRENO      NaN  G70'  \n",
       "4   Ernest LIBERATI      NaN   NaN  "
      ],
      "text/html": "<div>\n<style scoped>\n    .dataframe tbody tr th:only-of-type {\n        vertical-align: middle;\n    }\n\n    .dataframe tbody tr th {\n        vertical-align: top;\n    }\n\n    .dataframe thead th {\n        text-align: right;\n    }\n</style>\n<table border=\"1\" class=\"dataframe\">\n  <thead>\n    <tr style=\"text-align: right;\">\n      <th></th>\n      <th>RoundID</th>\n      <th>MatchID</th>\n      <th>Team Initials</th>\n      <th>Coach Name</th>\n      <th>Line-up</th>\n      <th>Shirt Number</th>\n      <th>Player Name</th>\n      <th>Position</th>\n      <th>Event</th>\n    </tr>\n  </thead>\n  <tbody>\n    <tr>\n      <th>0</th>\n      <td>201</td>\n      <td>1096</td>\n      <td>FRA</td>\n      <td>CAUDRON Raoul (FRA)</td>\n      <td>S</td>\n      <td>0</td>\n      <td>Alex THEPOT</td>\n      <td>GK</td>\n      <td>NaN</td>\n    </tr>\n    <tr>\n      <th>1</th>\n      <td>201</td>\n      <td>1096</td>\n      <td>MEX</td>\n      <td>LUQUE Juan (MEX)</td>\n      <td>S</td>\n      <td>0</td>\n      <td>Oscar BONFIGLIO</td>\n      <td>GK</td>\n      <td>NaN</td>\n    </tr>\n    <tr>\n      <th>2</th>\n      <td>201</td>\n      <td>1096</td>\n      <td>FRA</td>\n      <td>CAUDRON Raoul (FRA)</td>\n      <td>S</td>\n      <td>0</td>\n      <td>Marcel LANGILLER</td>\n      <td>NaN</td>\n      <td>G40'</td>\n    </tr>\n    <tr>\n      <th>3</th>\n      <td>201</td>\n      <td>1096</td>\n      <td>MEX</td>\n      <td>LUQUE Juan (MEX)</td>\n      <td>S</td>\n      <td>0</td>\n      <td>Juan CARRENO</td>\n      <td>NaN</td>\n      <td>G70'</td>\n    </tr>\n    <tr>\n      <th>4</th>\n      <td>201</td>\n      <td>1096</td>\n      <td>FRA</td>\n      <td>CAUDRON Raoul (FRA)</td>\n      <td>S</td>\n      <td>0</td>\n      <td>Ernest LIBERATI</td>\n      <td>NaN</td>\n      <td>NaN</td>\n    </tr>\n  </tbody>\n</table>\n</div>"
     },
     "metadata": {},
     "execution_count": 29
    }
   ],
   "source": [
    "# Usamos sheets que son los sheets de excel(recordar que son como las pestañas que contienen cada tabla distinta de un mismo archivo)\n",
    "df_players = pd.read_excel('./DatasetsInput/world_cups2.xlsx', sheet_name='players')\n",
    "df_players.head()"
   ]
  },
  {
   "cell_type": "code",
   "execution_count": 30,
   "metadata": {},
   "outputs": [
    {
     "output_type": "execute_result",
     "data": {
      "text/plain": [
       "(20, 10)"
      ]
     },
     "metadata": {},
     "execution_count": 30
    }
   ],
   "source": [
    "# Primera forma de obtener la cantidad de mundiales de los cuales tenemos información\n",
    "df_mundiales.shape"
   ]
  },
  {
   "cell_type": "code",
   "execution_count": 31,
   "metadata": {},
   "outputs": [
    {
     "output_type": "execute_result",
     "data": {
      "text/plain": [
       "20"
      ]
     },
     "metadata": {},
     "execution_count": 31
    }
   ],
   "source": [
    "# Segunda forma de obtener la cantidad de mundiales de los cuales tenemos información\n",
    "len(df_mundiales)"
   ]
  },
  {
   "source": [
    "# Obtener el nombre completo de cada mundial\n"
   ],
   "cell_type": "markdown",
   "metadata": {}
  },
  {
   "cell_type": "code",
   "execution_count": 32,
   "metadata": {},
   "outputs": [],
   "source": [
    "df_mundiales['Year'] = df_mundiales['Year'].astype('str')"
   ]
  },
  {
   "cell_type": "code",
   "execution_count": 36,
   "metadata": {},
   "outputs": [
    {
     "output_type": "execute_result",
     "data": {
      "text/plain": [
       "   Year      Country      Winner      Runners-Up    Third      Fourth  \\\n",
       "0  1930      Uruguay     Uruguay       Argentina      USA  Yugoslavia   \n",
       "1  1934        Italy       Italy  Czechoslovakia  Germany     Austria   \n",
       "2  1938       France       Italy         Hungary   Brazil      Sweden   \n",
       "3  1950       Brazil     Uruguay          Brazil   Sweden       Spain   \n",
       "4  1954  Switzerland  Germany FR         Hungary  Austria     Uruguay   \n",
       "\n",
       "   GoalsScored  QualifiedTeams  MatchesPlayed Attendance              Name  \n",
       "0           70              13             18    590.549      Uruguay 1930  \n",
       "1           70              16             17        363        Italy 1934  \n",
       "2           84              15             18      375.7       France 1938  \n",
       "3           88              13             22  1.045.246       Brazil 1950  \n",
       "4          140              16             26    768.607  Switzerland 1954  "
      ],
      "text/html": "<div>\n<style scoped>\n    .dataframe tbody tr th:only-of-type {\n        vertical-align: middle;\n    }\n\n    .dataframe tbody tr th {\n        vertical-align: top;\n    }\n\n    .dataframe thead th {\n        text-align: right;\n    }\n</style>\n<table border=\"1\" class=\"dataframe\">\n  <thead>\n    <tr style=\"text-align: right;\">\n      <th></th>\n      <th>Year</th>\n      <th>Country</th>\n      <th>Winner</th>\n      <th>Runners-Up</th>\n      <th>Third</th>\n      <th>Fourth</th>\n      <th>GoalsScored</th>\n      <th>QualifiedTeams</th>\n      <th>MatchesPlayed</th>\n      <th>Attendance</th>\n      <th>Name</th>\n    </tr>\n  </thead>\n  <tbody>\n    <tr>\n      <th>0</th>\n      <td>1930</td>\n      <td>Uruguay</td>\n      <td>Uruguay</td>\n      <td>Argentina</td>\n      <td>USA</td>\n      <td>Yugoslavia</td>\n      <td>70</td>\n      <td>13</td>\n      <td>18</td>\n      <td>590.549</td>\n      <td>Uruguay 1930</td>\n    </tr>\n    <tr>\n      <th>1</th>\n      <td>1934</td>\n      <td>Italy</td>\n      <td>Italy</td>\n      <td>Czechoslovakia</td>\n      <td>Germany</td>\n      <td>Austria</td>\n      <td>70</td>\n      <td>16</td>\n      <td>17</td>\n      <td>363</td>\n      <td>Italy 1934</td>\n    </tr>\n    <tr>\n      <th>2</th>\n      <td>1938</td>\n      <td>France</td>\n      <td>Italy</td>\n      <td>Hungary</td>\n      <td>Brazil</td>\n      <td>Sweden</td>\n      <td>84</td>\n      <td>15</td>\n      <td>18</td>\n      <td>375.7</td>\n      <td>France 1938</td>\n    </tr>\n    <tr>\n      <th>3</th>\n      <td>1950</td>\n      <td>Brazil</td>\n      <td>Uruguay</td>\n      <td>Brazil</td>\n      <td>Sweden</td>\n      <td>Spain</td>\n      <td>88</td>\n      <td>13</td>\n      <td>22</td>\n      <td>1.045.246</td>\n      <td>Brazil 1950</td>\n    </tr>\n    <tr>\n      <th>4</th>\n      <td>1954</td>\n      <td>Switzerland</td>\n      <td>Germany FR</td>\n      <td>Hungary</td>\n      <td>Austria</td>\n      <td>Uruguay</td>\n      <td>140</td>\n      <td>16</td>\n      <td>26</td>\n      <td>768.607</td>\n      <td>Switzerland 1954</td>\n    </tr>\n  </tbody>\n</table>\n</div>"
     },
     "metadata": {},
     "execution_count": 36
    }
   ],
   "source": [
    "df_mundiales['Name'] = df_mundiales['Country'] + \" \" + df_mundiales['Year']\n",
    "df_mundiales.head()"
   ]
  },
  {
   "cell_type": "code",
   "execution_count": 38,
   "metadata": {},
   "outputs": [
    {
     "output_type": "execute_result",
     "data": {
      "text/plain": [
       "['Year',\n",
       " 'Country',\n",
       " 'Winner',\n",
       " 'Runners-Up',\n",
       " 'Third',\n",
       " 'Fourth',\n",
       " 'GoalsScored',\n",
       " 'QualifiedTeams',\n",
       " 'MatchesPlayed',\n",
       " 'Attendance',\n",
       " 'Name']"
      ]
     },
     "metadata": {},
     "execution_count": 38
    }
   ],
   "source": [
    "columnas = list(df_mundiales.columns)\n",
    "columnas"
   ]
  },
  {
   "cell_type": "code",
   "execution_count": 39,
   "metadata": {},
   "outputs": [
    {
     "output_type": "execute_result",
     "data": {
      "text/plain": [
       "['Name',\n",
       " 'Year',\n",
       " 'Country',\n",
       " 'Winner',\n",
       " 'Runners-Up',\n",
       " 'Third',\n",
       " 'Fourth',\n",
       " 'GoalsScored',\n",
       " 'QualifiedTeams',\n",
       " 'MatchesPlayed',\n",
       " 'Attendance']"
      ]
     },
     "metadata": {},
     "execution_count": 39
    }
   ],
   "source": [
    "# Cambiando el orden, Name lo pongo al principio\n",
    "columnas = ['Name'] + columnas[:-1]\n",
    "columnas"
   ]
  },
  {
   "cell_type": "code",
   "execution_count": 40,
   "metadata": {},
   "outputs": [
    {
     "output_type": "execute_result",
     "data": {
      "text/plain": [
       "               Name  Year      Country      Winner      Runners-Up    Third  \\\n",
       "0      Uruguay 1930  1930      Uruguay     Uruguay       Argentina      USA   \n",
       "1        Italy 1934  1934        Italy       Italy  Czechoslovakia  Germany   \n",
       "2       France 1938  1938       France       Italy         Hungary   Brazil   \n",
       "3       Brazil 1950  1950       Brazil     Uruguay          Brazil   Sweden   \n",
       "4  Switzerland 1954  1954  Switzerland  Germany FR         Hungary  Austria   \n",
       "\n",
       "       Fourth  GoalsScored  QualifiedTeams  MatchesPlayed Attendance  \n",
       "0  Yugoslavia           70              13             18    590.549  \n",
       "1     Austria           70              16             17        363  \n",
       "2      Sweden           84              15             18      375.7  \n",
       "3       Spain           88              13             22  1.045.246  \n",
       "4     Uruguay          140              16             26    768.607  "
      ],
      "text/html": "<div>\n<style scoped>\n    .dataframe tbody tr th:only-of-type {\n        vertical-align: middle;\n    }\n\n    .dataframe tbody tr th {\n        vertical-align: top;\n    }\n\n    .dataframe thead th {\n        text-align: right;\n    }\n</style>\n<table border=\"1\" class=\"dataframe\">\n  <thead>\n    <tr style=\"text-align: right;\">\n      <th></th>\n      <th>Name</th>\n      <th>Year</th>\n      <th>Country</th>\n      <th>Winner</th>\n      <th>Runners-Up</th>\n      <th>Third</th>\n      <th>Fourth</th>\n      <th>GoalsScored</th>\n      <th>QualifiedTeams</th>\n      <th>MatchesPlayed</th>\n      <th>Attendance</th>\n    </tr>\n  </thead>\n  <tbody>\n    <tr>\n      <th>0</th>\n      <td>Uruguay 1930</td>\n      <td>1930</td>\n      <td>Uruguay</td>\n      <td>Uruguay</td>\n      <td>Argentina</td>\n      <td>USA</td>\n      <td>Yugoslavia</td>\n      <td>70</td>\n      <td>13</td>\n      <td>18</td>\n      <td>590.549</td>\n    </tr>\n    <tr>\n      <th>1</th>\n      <td>Italy 1934</td>\n      <td>1934</td>\n      <td>Italy</td>\n      <td>Italy</td>\n      <td>Czechoslovakia</td>\n      <td>Germany</td>\n      <td>Austria</td>\n      <td>70</td>\n      <td>16</td>\n      <td>17</td>\n      <td>363</td>\n    </tr>\n    <tr>\n      <th>2</th>\n      <td>France 1938</td>\n      <td>1938</td>\n      <td>France</td>\n      <td>Italy</td>\n      <td>Hungary</td>\n      <td>Brazil</td>\n      <td>Sweden</td>\n      <td>84</td>\n      <td>15</td>\n      <td>18</td>\n      <td>375.7</td>\n    </tr>\n    <tr>\n      <th>3</th>\n      <td>Brazil 1950</td>\n      <td>1950</td>\n      <td>Brazil</td>\n      <td>Uruguay</td>\n      <td>Brazil</td>\n      <td>Sweden</td>\n      <td>Spain</td>\n      <td>88</td>\n      <td>13</td>\n      <td>22</td>\n      <td>1.045.246</td>\n    </tr>\n    <tr>\n      <th>4</th>\n      <td>Switzerland 1954</td>\n      <td>1954</td>\n      <td>Switzerland</td>\n      <td>Germany FR</td>\n      <td>Hungary</td>\n      <td>Austria</td>\n      <td>Uruguay</td>\n      <td>140</td>\n      <td>16</td>\n      <td>26</td>\n      <td>768.607</td>\n    </tr>\n  </tbody>\n</table>\n</div>"
     },
     "metadata": {},
     "execution_count": 40
    }
   ],
   "source": [
    "df_mundiales = df_mundiales.get(columnas)\n",
    "df_mundiales.head()"
   ]
  },
  {
   "source": [
    "PAISES QUE CAMPEONARON COMO LOCALES"
   ],
   "cell_type": "markdown",
   "metadata": {}
  },
  {
   "cell_type": "code",
   "execution_count": 43,
   "metadata": {},
   "outputs": [
    {
     "output_type": "execute_result",
     "data": {
      "text/plain": [
       "              Name  Year    Country     Winner      Runners-Up     Third  \\\n",
       "0     Uruguay 1930  1930    Uruguay    Uruguay       Argentina       USA   \n",
       "1       Italy 1934  1934      Italy      Italy  Czechoslovakia   Germany   \n",
       "7     England 1966  1966    England    England      Germany FR  Portugal   \n",
       "10  Argentina 1978  1978  Argentina  Argentina     Netherlands    Brazil   \n",
       "15     France 1998  1998     France     France          Brazil   Croatia   \n",
       "\n",
       "          Fourth  GoalsScored  QualifiedTeams  MatchesPlayed Attendance  \n",
       "0     Yugoslavia           70              13             18    590.549  \n",
       "1        Austria           70              16             17        363  \n",
       "7   Soviet Union           89              16             32  1.563.135  \n",
       "10         Italy          102              16             38  1.545.791  \n",
       "15   Netherlands          171              32             64  2.785.100  "
      ],
      "text/html": "<div>\n<style scoped>\n    .dataframe tbody tr th:only-of-type {\n        vertical-align: middle;\n    }\n\n    .dataframe tbody tr th {\n        vertical-align: top;\n    }\n\n    .dataframe thead th {\n        text-align: right;\n    }\n</style>\n<table border=\"1\" class=\"dataframe\">\n  <thead>\n    <tr style=\"text-align: right;\">\n      <th></th>\n      <th>Name</th>\n      <th>Year</th>\n      <th>Country</th>\n      <th>Winner</th>\n      <th>Runners-Up</th>\n      <th>Third</th>\n      <th>Fourth</th>\n      <th>GoalsScored</th>\n      <th>QualifiedTeams</th>\n      <th>MatchesPlayed</th>\n      <th>Attendance</th>\n    </tr>\n  </thead>\n  <tbody>\n    <tr>\n      <th>0</th>\n      <td>Uruguay 1930</td>\n      <td>1930</td>\n      <td>Uruguay</td>\n      <td>Uruguay</td>\n      <td>Argentina</td>\n      <td>USA</td>\n      <td>Yugoslavia</td>\n      <td>70</td>\n      <td>13</td>\n      <td>18</td>\n      <td>590.549</td>\n    </tr>\n    <tr>\n      <th>1</th>\n      <td>Italy 1934</td>\n      <td>1934</td>\n      <td>Italy</td>\n      <td>Italy</td>\n      <td>Czechoslovakia</td>\n      <td>Germany</td>\n      <td>Austria</td>\n      <td>70</td>\n      <td>16</td>\n      <td>17</td>\n      <td>363</td>\n    </tr>\n    <tr>\n      <th>7</th>\n      <td>England 1966</td>\n      <td>1966</td>\n      <td>England</td>\n      <td>England</td>\n      <td>Germany FR</td>\n      <td>Portugal</td>\n      <td>Soviet Union</td>\n      <td>89</td>\n      <td>16</td>\n      <td>32</td>\n      <td>1.563.135</td>\n    </tr>\n    <tr>\n      <th>10</th>\n      <td>Argentina 1978</td>\n      <td>1978</td>\n      <td>Argentina</td>\n      <td>Argentina</td>\n      <td>Netherlands</td>\n      <td>Brazil</td>\n      <td>Italy</td>\n      <td>102</td>\n      <td>16</td>\n      <td>38</td>\n      <td>1.545.791</td>\n    </tr>\n    <tr>\n      <th>15</th>\n      <td>France 1998</td>\n      <td>1998</td>\n      <td>France</td>\n      <td>France</td>\n      <td>Brazil</td>\n      <td>Croatia</td>\n      <td>Netherlands</td>\n      <td>171</td>\n      <td>32</td>\n      <td>64</td>\n      <td>2.785.100</td>\n    </tr>\n  </tbody>\n</table>\n</div>"
     },
     "metadata": {},
     "execution_count": 43
    }
   ],
   "source": [
    "# Opción más recomendad\n",
    "df_locales = df_mundiales.loc[df_mundiales['Country'] == df_mundiales['Winner']]\n",
    "df_locales"
   ]
  },
  {
   "cell_type": "code",
   "execution_count": 44,
   "metadata": {},
   "outputs": [
    {
     "output_type": "execute_result",
     "data": {
      "text/plain": [
       "              Name  Year    Country     Winner      Runners-Up     Third  \\\n",
       "0     Uruguay 1930  1930    Uruguay    Uruguay       Argentina       USA   \n",
       "1       Italy 1934  1934      Italy      Italy  Czechoslovakia   Germany   \n",
       "7     England 1966  1966    England    England      Germany FR  Portugal   \n",
       "10  Argentina 1978  1978  Argentina  Argentina     Netherlands    Brazil   \n",
       "15     France 1998  1998     France     France          Brazil   Croatia   \n",
       "\n",
       "          Fourth  GoalsScored  QualifiedTeams  MatchesPlayed Attendance  \n",
       "0     Yugoslavia           70              13             18    590.549  \n",
       "1        Austria           70              16             17        363  \n",
       "7   Soviet Union           89              16             32  1.563.135  \n",
       "10         Italy          102              16             38  1.545.791  \n",
       "15   Netherlands          171              32             64  2.785.100  "
      ],
      "text/html": "<div>\n<style scoped>\n    .dataframe tbody tr th:only-of-type {\n        vertical-align: middle;\n    }\n\n    .dataframe tbody tr th {\n        vertical-align: top;\n    }\n\n    .dataframe thead th {\n        text-align: right;\n    }\n</style>\n<table border=\"1\" class=\"dataframe\">\n  <thead>\n    <tr style=\"text-align: right;\">\n      <th></th>\n      <th>Name</th>\n      <th>Year</th>\n      <th>Country</th>\n      <th>Winner</th>\n      <th>Runners-Up</th>\n      <th>Third</th>\n      <th>Fourth</th>\n      <th>GoalsScored</th>\n      <th>QualifiedTeams</th>\n      <th>MatchesPlayed</th>\n      <th>Attendance</th>\n    </tr>\n  </thead>\n  <tbody>\n    <tr>\n      <th>0</th>\n      <td>Uruguay 1930</td>\n      <td>1930</td>\n      <td>Uruguay</td>\n      <td>Uruguay</td>\n      <td>Argentina</td>\n      <td>USA</td>\n      <td>Yugoslavia</td>\n      <td>70</td>\n      <td>13</td>\n      <td>18</td>\n      <td>590.549</td>\n    </tr>\n    <tr>\n      <th>1</th>\n      <td>Italy 1934</td>\n      <td>1934</td>\n      <td>Italy</td>\n      <td>Italy</td>\n      <td>Czechoslovakia</td>\n      <td>Germany</td>\n      <td>Austria</td>\n      <td>70</td>\n      <td>16</td>\n      <td>17</td>\n      <td>363</td>\n    </tr>\n    <tr>\n      <th>7</th>\n      <td>England 1966</td>\n      <td>1966</td>\n      <td>England</td>\n      <td>England</td>\n      <td>Germany FR</td>\n      <td>Portugal</td>\n      <td>Soviet Union</td>\n      <td>89</td>\n      <td>16</td>\n      <td>32</td>\n      <td>1.563.135</td>\n    </tr>\n    <tr>\n      <th>10</th>\n      <td>Argentina 1978</td>\n      <td>1978</td>\n      <td>Argentina</td>\n      <td>Argentina</td>\n      <td>Netherlands</td>\n      <td>Brazil</td>\n      <td>Italy</td>\n      <td>102</td>\n      <td>16</td>\n      <td>38</td>\n      <td>1.545.791</td>\n    </tr>\n    <tr>\n      <th>15</th>\n      <td>France 1998</td>\n      <td>1998</td>\n      <td>France</td>\n      <td>France</td>\n      <td>Brazil</td>\n      <td>Croatia</td>\n      <td>Netherlands</td>\n      <td>171</td>\n      <td>32</td>\n      <td>64</td>\n      <td>2.785.100</td>\n    </tr>\n  </tbody>\n</table>\n</div>"
     },
     "metadata": {},
     "execution_count": 44
    }
   ],
   "source": [
    "# Otra opción\n",
    "df_locales2 = df_mundiales.query('Country == Winner')\n",
    "df_locales2"
   ]
  },
  {
   "source": [
    "Partidos de mundiales con más goles"
   ],
   "cell_type": "markdown",
   "metadata": {}
  },
  {
   "cell_type": "code",
   "execution_count": 51,
   "metadata": {},
   "outputs": [
    {
     "output_type": "execute_result",
     "data": {
      "text/plain": [
       "   Year Home Team Name Away Team Name  Home Team Goals  Away Team Goals\n",
       "0  1930         France         Mexico                4                1\n",
       "1  1930            USA        Belgium                3                0\n",
       "2  1930     Yugoslavia         Brazil                2                1\n",
       "3  1930        Romania           Peru                3                1\n",
       "4  1930      Argentina         France                1                0"
      ],
      "text/html": "<div>\n<style scoped>\n    .dataframe tbody tr th:only-of-type {\n        vertical-align: middle;\n    }\n\n    .dataframe tbody tr th {\n        vertical-align: top;\n    }\n\n    .dataframe thead th {\n        text-align: right;\n    }\n</style>\n<table border=\"1\" class=\"dataframe\">\n  <thead>\n    <tr style=\"text-align: right;\">\n      <th></th>\n      <th>Year</th>\n      <th>Home Team Name</th>\n      <th>Away Team Name</th>\n      <th>Home Team Goals</th>\n      <th>Away Team Goals</th>\n    </tr>\n  </thead>\n  <tbody>\n    <tr>\n      <th>0</th>\n      <td>1930</td>\n      <td>France</td>\n      <td>Mexico</td>\n      <td>4</td>\n      <td>1</td>\n    </tr>\n    <tr>\n      <th>1</th>\n      <td>1930</td>\n      <td>USA</td>\n      <td>Belgium</td>\n      <td>3</td>\n      <td>0</td>\n    </tr>\n    <tr>\n      <th>2</th>\n      <td>1930</td>\n      <td>Yugoslavia</td>\n      <td>Brazil</td>\n      <td>2</td>\n      <td>1</td>\n    </tr>\n    <tr>\n      <th>3</th>\n      <td>1930</td>\n      <td>Romania</td>\n      <td>Peru</td>\n      <td>3</td>\n      <td>1</td>\n    </tr>\n    <tr>\n      <th>4</th>\n      <td>1930</td>\n      <td>Argentina</td>\n      <td>France</td>\n      <td>1</td>\n      <td>0</td>\n    </tr>\n  </tbody>\n</table>\n</div>"
     },
     "metadata": {},
     "execution_count": 51
    }
   ],
   "source": [
    "df_matches_short = df_matches.get(['Year', 'Home Team Name', 'Away Team Name', 'Home Team Goals', 'Away Team Goals'])\n",
    "df_matches_short.head()"
   ]
  },
  {
   "cell_type": "code",
   "execution_count": 54,
   "metadata": {},
   "outputs": [
    {
     "output_type": "stream",
     "name": "stderr",
     "text": [
      "ipykernel_launcher:1: SettingWithCopyWarning: \nA value is trying to be set on a copy of a slice from a DataFrame.\nTry using .loc[row_indexer,col_indexer] = value instead\n\nSee the caveats in the documentation: https://pandas.pydata.org/pandas-docs/stable/user_guide/indexing.html#returning-a-view-versus-a-copy\n"
     ]
    }
   ],
   "source": [
    "df_matches_short['Total Goals'] = df_matches_short['Home Team Goals'] + df_matches_short['Away Team Goals'] "
   ]
  },
  {
   "cell_type": "code",
   "execution_count": 53,
   "metadata": {},
   "outputs": [
    {
     "output_type": "execute_result",
     "data": {
      "text/plain": [
       "   Year Home Team Name Away Team Name  Home Team Goals  Away Team Goals  \\\n",
       "0  1930         France         Mexico                4                1   \n",
       "1  1930            USA        Belgium                3                0   \n",
       "2  1930     Yugoslavia         Brazil                2                1   \n",
       "3  1930        Romania           Peru                3                1   \n",
       "4  1930      Argentina         France                1                0   \n",
       "\n",
       "   Total Goals  \n",
       "0            5  \n",
       "1            3  \n",
       "2            3  \n",
       "3            4  \n",
       "4            1  "
      ],
      "text/html": "<div>\n<style scoped>\n    .dataframe tbody tr th:only-of-type {\n        vertical-align: middle;\n    }\n\n    .dataframe tbody tr th {\n        vertical-align: top;\n    }\n\n    .dataframe thead th {\n        text-align: right;\n    }\n</style>\n<table border=\"1\" class=\"dataframe\">\n  <thead>\n    <tr style=\"text-align: right;\">\n      <th></th>\n      <th>Year</th>\n      <th>Home Team Name</th>\n      <th>Away Team Name</th>\n      <th>Home Team Goals</th>\n      <th>Away Team Goals</th>\n      <th>Total Goals</th>\n    </tr>\n  </thead>\n  <tbody>\n    <tr>\n      <th>0</th>\n      <td>1930</td>\n      <td>France</td>\n      <td>Mexico</td>\n      <td>4</td>\n      <td>1</td>\n      <td>5</td>\n    </tr>\n    <tr>\n      <th>1</th>\n      <td>1930</td>\n      <td>USA</td>\n      <td>Belgium</td>\n      <td>3</td>\n      <td>0</td>\n      <td>3</td>\n    </tr>\n    <tr>\n      <th>2</th>\n      <td>1930</td>\n      <td>Yugoslavia</td>\n      <td>Brazil</td>\n      <td>2</td>\n      <td>1</td>\n      <td>3</td>\n    </tr>\n    <tr>\n      <th>3</th>\n      <td>1930</td>\n      <td>Romania</td>\n      <td>Peru</td>\n      <td>3</td>\n      <td>1</td>\n      <td>4</td>\n    </tr>\n    <tr>\n      <th>4</th>\n      <td>1930</td>\n      <td>Argentina</td>\n      <td>France</td>\n      <td>1</td>\n      <td>0</td>\n      <td>1</td>\n    </tr>\n  </tbody>\n</table>\n</div>"
     },
     "metadata": {},
     "execution_count": 53
    }
   ],
   "source": [
    "df_matches_short.head()"
   ]
  },
  {
   "cell_type": "code",
   "execution_count": 73,
   "metadata": {},
   "outputs": [
    {
     "output_type": "execute_result",
     "data": {
      "text/plain": [
       "     Year Home Team Name  Away Team Name  Home Team Goals  Away Team Goals  \\\n",
       "94   1954        Austria     Switzerland                7                5   \n",
       "312  1982        Hungary     El Salvador               10                1   \n",
       "87   1954        Hungary      Germany FR                8                3   \n",
       "40   1938         Brazil          Poland                6                5   \n",
       "105  1958         France        Paraguay                7                3   \n",
       "10   1930      Argentina          Mexico                6                3   \n",
       "91   1954     Germany FR          Turkey                7                2   \n",
       "243  1974     Yugoslavia           Zaire                9                0   \n",
       "80   1954        Hungary  Korea Republic                9                0   \n",
       "134  1958         France      Germany FR                6                3   \n",
       "70   1950         Brazil          Sweden                7                1   \n",
       "848  2014         Brazil         Germany                1                7   \n",
       "148  1962   Soviet Union        Colombia                4                4   \n",
       "826  2014         Brazil         Germany                1                7   \n",
       "24   1934          Italy             USA                7                1   \n",
       "\n",
       "     Total Goals  Goal Differences  \n",
       "94            12                 2  \n",
       "312           11                 9  \n",
       "87            11                 5  \n",
       "40            11                 1  \n",
       "105           10                 4  \n",
       "10             9                 3  \n",
       "91             9                 5  \n",
       "243            9                 9  \n",
       "80             9                 9  \n",
       "134            9                 3  \n",
       "70             8                 6  \n",
       "848            8                 6  \n",
       "148            8                 0  \n",
       "826            8                 6  \n",
       "24             8                 6  "
      ],
      "text/html": "<div>\n<style scoped>\n    .dataframe tbody tr th:only-of-type {\n        vertical-align: middle;\n    }\n\n    .dataframe tbody tr th {\n        vertical-align: top;\n    }\n\n    .dataframe thead th {\n        text-align: right;\n    }\n</style>\n<table border=\"1\" class=\"dataframe\">\n  <thead>\n    <tr style=\"text-align: right;\">\n      <th></th>\n      <th>Year</th>\n      <th>Home Team Name</th>\n      <th>Away Team Name</th>\n      <th>Home Team Goals</th>\n      <th>Away Team Goals</th>\n      <th>Total Goals</th>\n      <th>Goal Differences</th>\n    </tr>\n  </thead>\n  <tbody>\n    <tr>\n      <th>94</th>\n      <td>1954</td>\n      <td>Austria</td>\n      <td>Switzerland</td>\n      <td>7</td>\n      <td>5</td>\n      <td>12</td>\n      <td>2</td>\n    </tr>\n    <tr>\n      <th>312</th>\n      <td>1982</td>\n      <td>Hungary</td>\n      <td>El Salvador</td>\n      <td>10</td>\n      <td>1</td>\n      <td>11</td>\n      <td>9</td>\n    </tr>\n    <tr>\n      <th>87</th>\n      <td>1954</td>\n      <td>Hungary</td>\n      <td>Germany FR</td>\n      <td>8</td>\n      <td>3</td>\n      <td>11</td>\n      <td>5</td>\n    </tr>\n    <tr>\n      <th>40</th>\n      <td>1938</td>\n      <td>Brazil</td>\n      <td>Poland</td>\n      <td>6</td>\n      <td>5</td>\n      <td>11</td>\n      <td>1</td>\n    </tr>\n    <tr>\n      <th>105</th>\n      <td>1958</td>\n      <td>France</td>\n      <td>Paraguay</td>\n      <td>7</td>\n      <td>3</td>\n      <td>10</td>\n      <td>4</td>\n    </tr>\n    <tr>\n      <th>10</th>\n      <td>1930</td>\n      <td>Argentina</td>\n      <td>Mexico</td>\n      <td>6</td>\n      <td>3</td>\n      <td>9</td>\n      <td>3</td>\n    </tr>\n    <tr>\n      <th>91</th>\n      <td>1954</td>\n      <td>Germany FR</td>\n      <td>Turkey</td>\n      <td>7</td>\n      <td>2</td>\n      <td>9</td>\n      <td>5</td>\n    </tr>\n    <tr>\n      <th>243</th>\n      <td>1974</td>\n      <td>Yugoslavia</td>\n      <td>Zaire</td>\n      <td>9</td>\n      <td>0</td>\n      <td>9</td>\n      <td>9</td>\n    </tr>\n    <tr>\n      <th>80</th>\n      <td>1954</td>\n      <td>Hungary</td>\n      <td>Korea Republic</td>\n      <td>9</td>\n      <td>0</td>\n      <td>9</td>\n      <td>9</td>\n    </tr>\n    <tr>\n      <th>134</th>\n      <td>1958</td>\n      <td>France</td>\n      <td>Germany FR</td>\n      <td>6</td>\n      <td>3</td>\n      <td>9</td>\n      <td>3</td>\n    </tr>\n    <tr>\n      <th>70</th>\n      <td>1950</td>\n      <td>Brazil</td>\n      <td>Sweden</td>\n      <td>7</td>\n      <td>1</td>\n      <td>8</td>\n      <td>6</td>\n    </tr>\n    <tr>\n      <th>848</th>\n      <td>2014</td>\n      <td>Brazil</td>\n      <td>Germany</td>\n      <td>1</td>\n      <td>7</td>\n      <td>8</td>\n      <td>6</td>\n    </tr>\n    <tr>\n      <th>148</th>\n      <td>1962</td>\n      <td>Soviet Union</td>\n      <td>Colombia</td>\n      <td>4</td>\n      <td>4</td>\n      <td>8</td>\n      <td>0</td>\n    </tr>\n    <tr>\n      <th>826</th>\n      <td>2014</td>\n      <td>Brazil</td>\n      <td>Germany</td>\n      <td>1</td>\n      <td>7</td>\n      <td>8</td>\n      <td>6</td>\n    </tr>\n    <tr>\n      <th>24</th>\n      <td>1934</td>\n      <td>Italy</td>\n      <td>USA</td>\n      <td>7</td>\n      <td>1</td>\n      <td>8</td>\n      <td>6</td>\n    </tr>\n  </tbody>\n</table>\n</div>"
     },
     "metadata": {},
     "execution_count": 73
    }
   ],
   "source": [
    "df_matches_short.sort_values(by = 'Total Goals', ascending=False).head(15)"
   ]
  },
  {
   "cell_type": "code",
   "execution_count": 66,
   "metadata": {},
   "outputs": [
    {
     "output_type": "stream",
     "name": "stderr",
     "text": [
      "ipykernel_launcher:1: SettingWithCopyWarning: \nA value is trying to be set on a copy of a slice from a DataFrame.\nTry using .loc[row_indexer,col_indexer] = value instead\n\nSee the caveats in the documentation: https://pandas.pydata.org/pandas-docs/stable/user_guide/indexing.html#returning-a-view-versus-a-copy\n"
     ]
    }
   ],
   "source": [
    "df_matches_short['Goal Differences'] = abs(df_matches_short['Home Team Goals'] - df_matches_short['Away Team Goals']) "
   ]
  },
  {
   "cell_type": "code",
   "execution_count": 67,
   "metadata": {},
   "outputs": [
    {
     "output_type": "execute_result",
     "data": {
      "text/plain": [
       "   Year Home Team Name Away Team Name  Home Team Goals  Away Team Goals  \\\n",
       "0  1930         France         Mexico                4                1   \n",
       "1  1930            USA        Belgium                3                0   \n",
       "2  1930     Yugoslavia         Brazil                2                1   \n",
       "3  1930        Romania           Peru                3                1   \n",
       "4  1930      Argentina         France                1                0   \n",
       "\n",
       "   Total Goals  Greater Differences  Differences  Goal Differences  \n",
       "0            5                    3            3                 3  \n",
       "1            3                    3            3                 3  \n",
       "2            3                    1            1                 1  \n",
       "3            4                    2            2                 2  \n",
       "4            1                    1            1                 1  "
      ],
      "text/html": "<div>\n<style scoped>\n    .dataframe tbody tr th:only-of-type {\n        vertical-align: middle;\n    }\n\n    .dataframe tbody tr th {\n        vertical-align: top;\n    }\n\n    .dataframe thead th {\n        text-align: right;\n    }\n</style>\n<table border=\"1\" class=\"dataframe\">\n  <thead>\n    <tr style=\"text-align: right;\">\n      <th></th>\n      <th>Year</th>\n      <th>Home Team Name</th>\n      <th>Away Team Name</th>\n      <th>Home Team Goals</th>\n      <th>Away Team Goals</th>\n      <th>Total Goals</th>\n      <th>Greater Differences</th>\n      <th>Differences</th>\n      <th>Goal Differences</th>\n    </tr>\n  </thead>\n  <tbody>\n    <tr>\n      <th>0</th>\n      <td>1930</td>\n      <td>France</td>\n      <td>Mexico</td>\n      <td>4</td>\n      <td>1</td>\n      <td>5</td>\n      <td>3</td>\n      <td>3</td>\n      <td>3</td>\n    </tr>\n    <tr>\n      <th>1</th>\n      <td>1930</td>\n      <td>USA</td>\n      <td>Belgium</td>\n      <td>3</td>\n      <td>0</td>\n      <td>3</td>\n      <td>3</td>\n      <td>3</td>\n      <td>3</td>\n    </tr>\n    <tr>\n      <th>2</th>\n      <td>1930</td>\n      <td>Yugoslavia</td>\n      <td>Brazil</td>\n      <td>2</td>\n      <td>1</td>\n      <td>3</td>\n      <td>1</td>\n      <td>1</td>\n      <td>1</td>\n    </tr>\n    <tr>\n      <th>3</th>\n      <td>1930</td>\n      <td>Romania</td>\n      <td>Peru</td>\n      <td>3</td>\n      <td>1</td>\n      <td>4</td>\n      <td>2</td>\n      <td>2</td>\n      <td>2</td>\n    </tr>\n    <tr>\n      <th>4</th>\n      <td>1930</td>\n      <td>Argentina</td>\n      <td>France</td>\n      <td>1</td>\n      <td>0</td>\n      <td>1</td>\n      <td>1</td>\n      <td>1</td>\n      <td>1</td>\n    </tr>\n  </tbody>\n</table>\n</div>"
     },
     "metadata": {},
     "execution_count": 67
    }
   ],
   "source": [
    "df_matches_short.head()"
   ]
  },
  {
   "cell_type": "code",
   "execution_count": 74,
   "metadata": {},
   "outputs": [
    {
     "output_type": "error",
     "ename": "KeyError",
     "evalue": "\"['Greater Differences' 'Differences'] not found in axis\"",
     "traceback": [
      "\u001b[1;31m---------------------------------------------------------------------------\u001b[0m",
      "\u001b[1;31mKeyError\u001b[0m                                  Traceback (most recent call last)",
      "\u001b[1;32m<ipython-input-74-4b194d78f082>\u001b[0m in \u001b[0;36m<module>\u001b[1;34m\u001b[0m\n\u001b[1;32m----> 1\u001b[1;33m \u001b[0mdf_matches_short\u001b[0m \u001b[1;33m=\u001b[0m \u001b[0mdf_matches_short\u001b[0m\u001b[1;33m.\u001b[0m\u001b[0mdrop\u001b[0m\u001b[1;33m(\u001b[0m\u001b[1;33m[\u001b[0m\u001b[1;34m'Greater Differences'\u001b[0m\u001b[1;33m,\u001b[0m \u001b[1;34m'Differences'\u001b[0m\u001b[1;33m]\u001b[0m\u001b[1;33m,\u001b[0m \u001b[0maxis\u001b[0m\u001b[1;33m=\u001b[0m\u001b[1;36m1\u001b[0m\u001b[1;33m)\u001b[0m\u001b[1;33m\u001b[0m\u001b[1;33m\u001b[0m\u001b[0m\n\u001b[0m",
      "\u001b[1;32m~\\AppData\\Local\\Programs\\Python\\Python37-32\\lib\\site-packages\\pandas\\core\\frame.py\u001b[0m in \u001b[0;36mdrop\u001b[1;34m(self, labels, axis, index, columns, level, inplace, errors)\u001b[0m\n\u001b[0;32m   4313\u001b[0m             \u001b[0mlevel\u001b[0m\u001b[1;33m=\u001b[0m\u001b[0mlevel\u001b[0m\u001b[1;33m,\u001b[0m\u001b[1;33m\u001b[0m\u001b[1;33m\u001b[0m\u001b[0m\n\u001b[0;32m   4314\u001b[0m             \u001b[0minplace\u001b[0m\u001b[1;33m=\u001b[0m\u001b[0minplace\u001b[0m\u001b[1;33m,\u001b[0m\u001b[1;33m\u001b[0m\u001b[1;33m\u001b[0m\u001b[0m\n\u001b[1;32m-> 4315\u001b[1;33m             \u001b[0merrors\u001b[0m\u001b[1;33m=\u001b[0m\u001b[0merrors\u001b[0m\u001b[1;33m,\u001b[0m\u001b[1;33m\u001b[0m\u001b[1;33m\u001b[0m\u001b[0m\n\u001b[0m\u001b[0;32m   4316\u001b[0m         )\n\u001b[0;32m   4317\u001b[0m \u001b[1;33m\u001b[0m\u001b[0m\n",
      "\u001b[1;32m~\\AppData\\Local\\Programs\\Python\\Python37-32\\lib\\site-packages\\pandas\\core\\generic.py\u001b[0m in \u001b[0;36mdrop\u001b[1;34m(self, labels, axis, index, columns, level, inplace, errors)\u001b[0m\n\u001b[0;32m   4151\u001b[0m         \u001b[1;32mfor\u001b[0m \u001b[0maxis\u001b[0m\u001b[1;33m,\u001b[0m \u001b[0mlabels\u001b[0m \u001b[1;32min\u001b[0m \u001b[0maxes\u001b[0m\u001b[1;33m.\u001b[0m\u001b[0mitems\u001b[0m\u001b[1;33m(\u001b[0m\u001b[1;33m)\u001b[0m\u001b[1;33m:\u001b[0m\u001b[1;33m\u001b[0m\u001b[1;33m\u001b[0m\u001b[0m\n\u001b[0;32m   4152\u001b[0m             \u001b[1;32mif\u001b[0m \u001b[0mlabels\u001b[0m \u001b[1;32mis\u001b[0m \u001b[1;32mnot\u001b[0m \u001b[1;32mNone\u001b[0m\u001b[1;33m:\u001b[0m\u001b[1;33m\u001b[0m\u001b[1;33m\u001b[0m\u001b[0m\n\u001b[1;32m-> 4153\u001b[1;33m                 \u001b[0mobj\u001b[0m \u001b[1;33m=\u001b[0m \u001b[0mobj\u001b[0m\u001b[1;33m.\u001b[0m\u001b[0m_drop_axis\u001b[0m\u001b[1;33m(\u001b[0m\u001b[0mlabels\u001b[0m\u001b[1;33m,\u001b[0m \u001b[0maxis\u001b[0m\u001b[1;33m,\u001b[0m \u001b[0mlevel\u001b[0m\u001b[1;33m=\u001b[0m\u001b[0mlevel\u001b[0m\u001b[1;33m,\u001b[0m \u001b[0merrors\u001b[0m\u001b[1;33m=\u001b[0m\u001b[0merrors\u001b[0m\u001b[1;33m)\u001b[0m\u001b[1;33m\u001b[0m\u001b[1;33m\u001b[0m\u001b[0m\n\u001b[0m\u001b[0;32m   4154\u001b[0m \u001b[1;33m\u001b[0m\u001b[0m\n\u001b[0;32m   4155\u001b[0m         \u001b[1;32mif\u001b[0m \u001b[0minplace\u001b[0m\u001b[1;33m:\u001b[0m\u001b[1;33m\u001b[0m\u001b[1;33m\u001b[0m\u001b[0m\n",
      "\u001b[1;32m~\\AppData\\Local\\Programs\\Python\\Python37-32\\lib\\site-packages\\pandas\\core\\generic.py\u001b[0m in \u001b[0;36m_drop_axis\u001b[1;34m(self, labels, axis, level, errors)\u001b[0m\n\u001b[0;32m   4186\u001b[0m                 \u001b[0mnew_axis\u001b[0m \u001b[1;33m=\u001b[0m \u001b[0maxis\u001b[0m\u001b[1;33m.\u001b[0m\u001b[0mdrop\u001b[0m\u001b[1;33m(\u001b[0m\u001b[0mlabels\u001b[0m\u001b[1;33m,\u001b[0m \u001b[0mlevel\u001b[0m\u001b[1;33m=\u001b[0m\u001b[0mlevel\u001b[0m\u001b[1;33m,\u001b[0m \u001b[0merrors\u001b[0m\u001b[1;33m=\u001b[0m\u001b[0merrors\u001b[0m\u001b[1;33m)\u001b[0m\u001b[1;33m\u001b[0m\u001b[1;33m\u001b[0m\u001b[0m\n\u001b[0;32m   4187\u001b[0m             \u001b[1;32melse\u001b[0m\u001b[1;33m:\u001b[0m\u001b[1;33m\u001b[0m\u001b[1;33m\u001b[0m\u001b[0m\n\u001b[1;32m-> 4188\u001b[1;33m                 \u001b[0mnew_axis\u001b[0m \u001b[1;33m=\u001b[0m \u001b[0maxis\u001b[0m\u001b[1;33m.\u001b[0m\u001b[0mdrop\u001b[0m\u001b[1;33m(\u001b[0m\u001b[0mlabels\u001b[0m\u001b[1;33m,\u001b[0m \u001b[0merrors\u001b[0m\u001b[1;33m=\u001b[0m\u001b[0merrors\u001b[0m\u001b[1;33m)\u001b[0m\u001b[1;33m\u001b[0m\u001b[1;33m\u001b[0m\u001b[0m\n\u001b[0m\u001b[0;32m   4189\u001b[0m             \u001b[0mresult\u001b[0m \u001b[1;33m=\u001b[0m \u001b[0mself\u001b[0m\u001b[1;33m.\u001b[0m\u001b[0mreindex\u001b[0m\u001b[1;33m(\u001b[0m\u001b[1;33m**\u001b[0m\u001b[1;33m{\u001b[0m\u001b[0maxis_name\u001b[0m\u001b[1;33m:\u001b[0m \u001b[0mnew_axis\u001b[0m\u001b[1;33m}\u001b[0m\u001b[1;33m)\u001b[0m\u001b[1;33m\u001b[0m\u001b[1;33m\u001b[0m\u001b[0m\n\u001b[0;32m   4190\u001b[0m \u001b[1;33m\u001b[0m\u001b[0m\n",
      "\u001b[1;32m~\\AppData\\Local\\Programs\\Python\\Python37-32\\lib\\site-packages\\pandas\\core\\indexes\\base.py\u001b[0m in \u001b[0;36mdrop\u001b[1;34m(self, labels, errors)\u001b[0m\n\u001b[0;32m   5589\u001b[0m         \u001b[1;32mif\u001b[0m \u001b[0mmask\u001b[0m\u001b[1;33m.\u001b[0m\u001b[0many\u001b[0m\u001b[1;33m(\u001b[0m\u001b[1;33m)\u001b[0m\u001b[1;33m:\u001b[0m\u001b[1;33m\u001b[0m\u001b[1;33m\u001b[0m\u001b[0m\n\u001b[0;32m   5590\u001b[0m             \u001b[1;32mif\u001b[0m \u001b[0merrors\u001b[0m \u001b[1;33m!=\u001b[0m \u001b[1;34m\"ignore\"\u001b[0m\u001b[1;33m:\u001b[0m\u001b[1;33m\u001b[0m\u001b[1;33m\u001b[0m\u001b[0m\n\u001b[1;32m-> 5591\u001b[1;33m                 \u001b[1;32mraise\u001b[0m \u001b[0mKeyError\u001b[0m\u001b[1;33m(\u001b[0m\u001b[1;34mf\"{labels[mask]} not found in axis\"\u001b[0m\u001b[1;33m)\u001b[0m\u001b[1;33m\u001b[0m\u001b[1;33m\u001b[0m\u001b[0m\n\u001b[0m\u001b[0;32m   5592\u001b[0m             \u001b[0mindexer\u001b[0m \u001b[1;33m=\u001b[0m \u001b[0mindexer\u001b[0m\u001b[1;33m[\u001b[0m\u001b[1;33m~\u001b[0m\u001b[0mmask\u001b[0m\u001b[1;33m]\u001b[0m\u001b[1;33m\u001b[0m\u001b[1;33m\u001b[0m\u001b[0m\n\u001b[0;32m   5593\u001b[0m         \u001b[1;32mreturn\u001b[0m \u001b[0mself\u001b[0m\u001b[1;33m.\u001b[0m\u001b[0mdelete\u001b[0m\u001b[1;33m(\u001b[0m\u001b[0mindexer\u001b[0m\u001b[1;33m)\u001b[0m\u001b[1;33m\u001b[0m\u001b[1;33m\u001b[0m\u001b[0m\n",
      "\u001b[1;31mKeyError\u001b[0m: \"['Greater Differences' 'Differences'] not found in axis\""
     ]
    }
   ],
   "source": [
    "df_matches_short = df_matches_short.drop(['Greater Differences', 'Differences'], axis=1)"
   ]
  },
  {
   "cell_type": "code",
   "execution_count": 72,
   "metadata": {},
   "outputs": [
    {
     "output_type": "execute_result",
     "data": {
      "text/plain": [
       "     Year Home Team Name  Away Team Name  Home Team Goals  Away Team Goals  \\\n",
       "80   1954        Hungary  Korea Republic                9                0   \n",
       "243  1974     Yugoslavia           Zaire                9                0   \n",
       "312  1982        Hungary     El Salvador               10                1   \n",
       "66   1950        Uruguay         Bolivia                8                0   \n",
       "46   1938         Sweden            Cuba                8                0   \n",
       "583  2002        Germany    Saudi Arabia                8                0   \n",
       "88   1954         Turkey  Korea Republic                7                0   \n",
       "737  2010       Portugal       Korea DPR                7                0   \n",
       "246  1974          Haiti          Poland                0                7   \n",
       "83   1954        Uruguay        Scotland                7                0   \n",
       "24   1934          Italy             USA                7                1   \n",
       "848  2014         Brazil         Germany                1                7   \n",
       "70   1950         Brazil          Sweden                7                1   \n",
       "305  1978      Argentina            Peru                6                0   \n",
       "280  1978     Germany FR          Mexico                6                0   \n",
       "\n",
       "     Total Goals  Goal Differences  \n",
       "80             9                 9  \n",
       "243            9                 9  \n",
       "312           11                 9  \n",
       "66             8                 8  \n",
       "46             8                 8  \n",
       "583            8                 8  \n",
       "88             7                 7  \n",
       "737            7                 7  \n",
       "246            7                 7  \n",
       "83             7                 7  \n",
       "24             8                 6  \n",
       "848            8                 6  \n",
       "70             8                 6  \n",
       "305            6                 6  \n",
       "280            6                 6  "
      ],
      "text/html": "<div>\n<style scoped>\n    .dataframe tbody tr th:only-of-type {\n        vertical-align: middle;\n    }\n\n    .dataframe tbody tr th {\n        vertical-align: top;\n    }\n\n    .dataframe thead th {\n        text-align: right;\n    }\n</style>\n<table border=\"1\" class=\"dataframe\">\n  <thead>\n    <tr style=\"text-align: right;\">\n      <th></th>\n      <th>Year</th>\n      <th>Home Team Name</th>\n      <th>Away Team Name</th>\n      <th>Home Team Goals</th>\n      <th>Away Team Goals</th>\n      <th>Total Goals</th>\n      <th>Goal Differences</th>\n    </tr>\n  </thead>\n  <tbody>\n    <tr>\n      <th>80</th>\n      <td>1954</td>\n      <td>Hungary</td>\n      <td>Korea Republic</td>\n      <td>9</td>\n      <td>0</td>\n      <td>9</td>\n      <td>9</td>\n    </tr>\n    <tr>\n      <th>243</th>\n      <td>1974</td>\n      <td>Yugoslavia</td>\n      <td>Zaire</td>\n      <td>9</td>\n      <td>0</td>\n      <td>9</td>\n      <td>9</td>\n    </tr>\n    <tr>\n      <th>312</th>\n      <td>1982</td>\n      <td>Hungary</td>\n      <td>El Salvador</td>\n      <td>10</td>\n      <td>1</td>\n      <td>11</td>\n      <td>9</td>\n    </tr>\n    <tr>\n      <th>66</th>\n      <td>1950</td>\n      <td>Uruguay</td>\n      <td>Bolivia</td>\n      <td>8</td>\n      <td>0</td>\n      <td>8</td>\n      <td>8</td>\n    </tr>\n    <tr>\n      <th>46</th>\n      <td>1938</td>\n      <td>Sweden</td>\n      <td>Cuba</td>\n      <td>8</td>\n      <td>0</td>\n      <td>8</td>\n      <td>8</td>\n    </tr>\n    <tr>\n      <th>583</th>\n      <td>2002</td>\n      <td>Germany</td>\n      <td>Saudi Arabia</td>\n      <td>8</td>\n      <td>0</td>\n      <td>8</td>\n      <td>8</td>\n    </tr>\n    <tr>\n      <th>88</th>\n      <td>1954</td>\n      <td>Turkey</td>\n      <td>Korea Republic</td>\n      <td>7</td>\n      <td>0</td>\n      <td>7</td>\n      <td>7</td>\n    </tr>\n    <tr>\n      <th>737</th>\n      <td>2010</td>\n      <td>Portugal</td>\n      <td>Korea DPR</td>\n      <td>7</td>\n      <td>0</td>\n      <td>7</td>\n      <td>7</td>\n    </tr>\n    <tr>\n      <th>246</th>\n      <td>1974</td>\n      <td>Haiti</td>\n      <td>Poland</td>\n      <td>0</td>\n      <td>7</td>\n      <td>7</td>\n      <td>7</td>\n    </tr>\n    <tr>\n      <th>83</th>\n      <td>1954</td>\n      <td>Uruguay</td>\n      <td>Scotland</td>\n      <td>7</td>\n      <td>0</td>\n      <td>7</td>\n      <td>7</td>\n    </tr>\n    <tr>\n      <th>24</th>\n      <td>1934</td>\n      <td>Italy</td>\n      <td>USA</td>\n      <td>7</td>\n      <td>1</td>\n      <td>8</td>\n      <td>6</td>\n    </tr>\n    <tr>\n      <th>848</th>\n      <td>2014</td>\n      <td>Brazil</td>\n      <td>Germany</td>\n      <td>1</td>\n      <td>7</td>\n      <td>8</td>\n      <td>6</td>\n    </tr>\n    <tr>\n      <th>70</th>\n      <td>1950</td>\n      <td>Brazil</td>\n      <td>Sweden</td>\n      <td>7</td>\n      <td>1</td>\n      <td>8</td>\n      <td>6</td>\n    </tr>\n    <tr>\n      <th>305</th>\n      <td>1978</td>\n      <td>Argentina</td>\n      <td>Peru</td>\n      <td>6</td>\n      <td>0</td>\n      <td>6</td>\n      <td>6</td>\n    </tr>\n    <tr>\n      <th>280</th>\n      <td>1978</td>\n      <td>Germany FR</td>\n      <td>Mexico</td>\n      <td>6</td>\n      <td>0</td>\n      <td>6</td>\n      <td>6</td>\n    </tr>\n  </tbody>\n</table>\n</div>"
     },
     "metadata": {},
     "execution_count": 72
    }
   ],
   "source": [
    "# Mayores goleadas\n",
    "df_matches_short.sort_values(by = 'Goal Differences', ascending=False).head(15)"
   ]
  },
  {
   "cell_type": "code",
   "execution_count": 75,
   "metadata": {},
   "outputs": [
    {
     "output_type": "execute_result",
     "data": {
      "text/plain": [
       "     Year Home Team Name             Away Team Name  Home Team Goals  \\\n",
       "583  2002        Germany               Saudi Arabia                8   \n",
       "737  2010       Portugal                  Korea DPR                7   \n",
       "848  2014         Brazil                    Germany                1   \n",
       "664  2006      Argentina  rn\">Serbia and Montenegro                6   \n",
       "826  2014         Brazil                    Germany                1   \n",
       "791  2014       Cameroon                    Croatia                0   \n",
       "658  2006          Spain                    Ukraine                4   \n",
       "715  2010        Germany                  Australia                4   \n",
       "610  2002       Portugal                     Poland                4   \n",
       "674  2006   Saudi Arabia                    Ukraine                0   \n",
       "604  2002         Brazil                   China PR                4   \n",
       "783  2014        Germany                   Portugal                4   \n",
       "774  2014          Spain                Netherlands                1   \n",
       "766  2010      Argentina                    Germany                0   \n",
       "758  2010        Germany                    England                4   \n",
       "\n",
       "     Away Team Goals  Total Goals  Goal Differences  \n",
       "583                0            8                 8  \n",
       "737                0            7                 7  \n",
       "848                7            8                 6  \n",
       "664                0            6                 6  \n",
       "826                7            8                 6  \n",
       "791                4            4                 4  \n",
       "658                0            4                 4  \n",
       "715                0            4                 4  \n",
       "610                0            4                 4  \n",
       "674                4            4                 4  \n",
       "604                0            4                 4  \n",
       "783                0            4                 4  \n",
       "774                5            6                 4  \n",
       "766                4            4                 4  \n",
       "758                1            5                 3  "
      ],
      "text/html": "<div>\n<style scoped>\n    .dataframe tbody tr th:only-of-type {\n        vertical-align: middle;\n    }\n\n    .dataframe tbody tr th {\n        vertical-align: top;\n    }\n\n    .dataframe thead th {\n        text-align: right;\n    }\n</style>\n<table border=\"1\" class=\"dataframe\">\n  <thead>\n    <tr style=\"text-align: right;\">\n      <th></th>\n      <th>Year</th>\n      <th>Home Team Name</th>\n      <th>Away Team Name</th>\n      <th>Home Team Goals</th>\n      <th>Away Team Goals</th>\n      <th>Total Goals</th>\n      <th>Goal Differences</th>\n    </tr>\n  </thead>\n  <tbody>\n    <tr>\n      <th>583</th>\n      <td>2002</td>\n      <td>Germany</td>\n      <td>Saudi Arabia</td>\n      <td>8</td>\n      <td>0</td>\n      <td>8</td>\n      <td>8</td>\n    </tr>\n    <tr>\n      <th>737</th>\n      <td>2010</td>\n      <td>Portugal</td>\n      <td>Korea DPR</td>\n      <td>7</td>\n      <td>0</td>\n      <td>7</td>\n      <td>7</td>\n    </tr>\n    <tr>\n      <th>848</th>\n      <td>2014</td>\n      <td>Brazil</td>\n      <td>Germany</td>\n      <td>1</td>\n      <td>7</td>\n      <td>8</td>\n      <td>6</td>\n    </tr>\n    <tr>\n      <th>664</th>\n      <td>2006</td>\n      <td>Argentina</td>\n      <td>rn\"&gt;Serbia and Montenegro</td>\n      <td>6</td>\n      <td>0</td>\n      <td>6</td>\n      <td>6</td>\n    </tr>\n    <tr>\n      <th>826</th>\n      <td>2014</td>\n      <td>Brazil</td>\n      <td>Germany</td>\n      <td>1</td>\n      <td>7</td>\n      <td>8</td>\n      <td>6</td>\n    </tr>\n    <tr>\n      <th>791</th>\n      <td>2014</td>\n      <td>Cameroon</td>\n      <td>Croatia</td>\n      <td>0</td>\n      <td>4</td>\n      <td>4</td>\n      <td>4</td>\n    </tr>\n    <tr>\n      <th>658</th>\n      <td>2006</td>\n      <td>Spain</td>\n      <td>Ukraine</td>\n      <td>4</td>\n      <td>0</td>\n      <td>4</td>\n      <td>4</td>\n    </tr>\n    <tr>\n      <th>715</th>\n      <td>2010</td>\n      <td>Germany</td>\n      <td>Australia</td>\n      <td>4</td>\n      <td>0</td>\n      <td>4</td>\n      <td>4</td>\n    </tr>\n    <tr>\n      <th>610</th>\n      <td>2002</td>\n      <td>Portugal</td>\n      <td>Poland</td>\n      <td>4</td>\n      <td>0</td>\n      <td>4</td>\n      <td>4</td>\n    </tr>\n    <tr>\n      <th>674</th>\n      <td>2006</td>\n      <td>Saudi Arabia</td>\n      <td>Ukraine</td>\n      <td>0</td>\n      <td>4</td>\n      <td>4</td>\n      <td>4</td>\n    </tr>\n    <tr>\n      <th>604</th>\n      <td>2002</td>\n      <td>Brazil</td>\n      <td>China PR</td>\n      <td>4</td>\n      <td>0</td>\n      <td>4</td>\n      <td>4</td>\n    </tr>\n    <tr>\n      <th>783</th>\n      <td>2014</td>\n      <td>Germany</td>\n      <td>Portugal</td>\n      <td>4</td>\n      <td>0</td>\n      <td>4</td>\n      <td>4</td>\n    </tr>\n    <tr>\n      <th>774</th>\n      <td>2014</td>\n      <td>Spain</td>\n      <td>Netherlands</td>\n      <td>1</td>\n      <td>5</td>\n      <td>6</td>\n      <td>4</td>\n    </tr>\n    <tr>\n      <th>766</th>\n      <td>2010</td>\n      <td>Argentina</td>\n      <td>Germany</td>\n      <td>0</td>\n      <td>4</td>\n      <td>4</td>\n      <td>4</td>\n    </tr>\n    <tr>\n      <th>758</th>\n      <td>2010</td>\n      <td>Germany</td>\n      <td>England</td>\n      <td>4</td>\n      <td>1</td>\n      <td>5</td>\n      <td>3</td>\n    </tr>\n  </tbody>\n</table>\n</div>"
     },
     "metadata": {},
     "execution_count": 75
    }
   ],
   "source": [
    "# Mayores goleadas del 2000 en adelante\n",
    "df_matches_short.sort_values(by = 'Goal Differences', ascending=False).loc[df_matches_short['Year'] > 2000].head(15)"
   ]
  },
  {
   "source": [
    "Goles promedio por partido para cada mundial"
   ],
   "cell_type": "markdown",
   "metadata": {}
  },
  {
   "cell_type": "code",
   "execution_count": 77,
   "metadata": {},
   "outputs": [
    {
     "output_type": "execute_result",
     "data": {
      "text/plain": [
       "               Name  Year      Country      Winner      Runners-Up    Third  \\\n",
       "0      Uruguay 1930  1930      Uruguay     Uruguay       Argentina      USA   \n",
       "1        Italy 1934  1934        Italy       Italy  Czechoslovakia  Germany   \n",
       "2       France 1938  1938       France       Italy         Hungary   Brazil   \n",
       "3       Brazil 1950  1950       Brazil     Uruguay          Brazil   Sweden   \n",
       "4  Switzerland 1954  1954  Switzerland  Germany FR         Hungary  Austria   \n",
       "\n",
       "       Fourth  GoalsScored  QualifiedTeams  MatchesPlayed Attendance  AvgGoals  \n",
       "0  Yugoslavia           70              13             18    590.549  3.888889  \n",
       "1     Austria           70              16             17        363  4.117647  \n",
       "2      Sweden           84              15             18      375.7  4.666667  \n",
       "3       Spain           88              13             22  1.045.246  4.000000  \n",
       "4     Uruguay          140              16             26    768.607  5.384615  "
      ],
      "text/html": "<div>\n<style scoped>\n    .dataframe tbody tr th:only-of-type {\n        vertical-align: middle;\n    }\n\n    .dataframe tbody tr th {\n        vertical-align: top;\n    }\n\n    .dataframe thead th {\n        text-align: right;\n    }\n</style>\n<table border=\"1\" class=\"dataframe\">\n  <thead>\n    <tr style=\"text-align: right;\">\n      <th></th>\n      <th>Name</th>\n      <th>Year</th>\n      <th>Country</th>\n      <th>Winner</th>\n      <th>Runners-Up</th>\n      <th>Third</th>\n      <th>Fourth</th>\n      <th>GoalsScored</th>\n      <th>QualifiedTeams</th>\n      <th>MatchesPlayed</th>\n      <th>Attendance</th>\n      <th>AvgGoals</th>\n    </tr>\n  </thead>\n  <tbody>\n    <tr>\n      <th>0</th>\n      <td>Uruguay 1930</td>\n      <td>1930</td>\n      <td>Uruguay</td>\n      <td>Uruguay</td>\n      <td>Argentina</td>\n      <td>USA</td>\n      <td>Yugoslavia</td>\n      <td>70</td>\n      <td>13</td>\n      <td>18</td>\n      <td>590.549</td>\n      <td>3.888889</td>\n    </tr>\n    <tr>\n      <th>1</th>\n      <td>Italy 1934</td>\n      <td>1934</td>\n      <td>Italy</td>\n      <td>Italy</td>\n      <td>Czechoslovakia</td>\n      <td>Germany</td>\n      <td>Austria</td>\n      <td>70</td>\n      <td>16</td>\n      <td>17</td>\n      <td>363</td>\n      <td>4.117647</td>\n    </tr>\n    <tr>\n      <th>2</th>\n      <td>France 1938</td>\n      <td>1938</td>\n      <td>France</td>\n      <td>Italy</td>\n      <td>Hungary</td>\n      <td>Brazil</td>\n      <td>Sweden</td>\n      <td>84</td>\n      <td>15</td>\n      <td>18</td>\n      <td>375.7</td>\n      <td>4.666667</td>\n    </tr>\n    <tr>\n      <th>3</th>\n      <td>Brazil 1950</td>\n      <td>1950</td>\n      <td>Brazil</td>\n      <td>Uruguay</td>\n      <td>Brazil</td>\n      <td>Sweden</td>\n      <td>Spain</td>\n      <td>88</td>\n      <td>13</td>\n      <td>22</td>\n      <td>1.045.246</td>\n      <td>4.000000</td>\n    </tr>\n    <tr>\n      <th>4</th>\n      <td>Switzerland 1954</td>\n      <td>1954</td>\n      <td>Switzerland</td>\n      <td>Germany FR</td>\n      <td>Hungary</td>\n      <td>Austria</td>\n      <td>Uruguay</td>\n      <td>140</td>\n      <td>16</td>\n      <td>26</td>\n      <td>768.607</td>\n      <td>5.384615</td>\n    </tr>\n  </tbody>\n</table>\n</div>"
     },
     "metadata": {},
     "execution_count": 77
    }
   ],
   "source": [
    "df_mundiales['AvgGoals'] = df_mundiales['GoalsScored'] / df_mundiales['MatchesPlayed']\n",
    "df_mundiales.head()"
   ]
  },
  {
   "cell_type": "code",
   "execution_count": 79,
   "metadata": {},
   "outputs": [
    {
     "output_type": "execute_result",
     "data": {
      "text/plain": [
       "                Name  Year      Country      Winner      Runners-Up  \\\n",
       "4   Switzerland 1954  1954  Switzerland  Germany FR         Hungary   \n",
       "2        France 1938  1938       France       Italy         Hungary   \n",
       "1         Italy 1934  1934        Italy       Italy  Czechoslovakia   \n",
       "3        Brazil 1950  1950       Brazil     Uruguay          Brazil   \n",
       "0       Uruguay 1930  1930      Uruguay     Uruguay       Argentina   \n",
       "5        Sweden 1958  1958       Sweden      Brazil          Sweden   \n",
       "8        Mexico 1970  1970       Mexico      Brazil           Italy   \n",
       "11        Spain 1982  1982        Spain       Italy      Germany FR   \n",
       "6         Chile 1962  1962        Chile      Brazil  Czechoslovakia   \n",
       "7       England 1966  1966      England     England      Germany FR   \n",
       "14          USA 1994  1994          USA      Brazil           Italy   \n",
       "10    Argentina 1978  1978    Argentina   Argentina     Netherlands   \n",
       "15       France 1998  1998       France      France          Brazil   \n",
       "19       Brazil 2014  2014       Brazil     Germany       Argentina   \n",
       "9       Germany 1974  1974      Germany  Germany FR     Netherlands   \n",
       "\n",
       "          Third        Fourth  GoalsScored  QualifiedTeams  MatchesPlayed  \\\n",
       "4       Austria       Uruguay          140              16             26   \n",
       "2        Brazil        Sweden           84              15             18   \n",
       "1       Germany       Austria           70              16             17   \n",
       "3        Sweden         Spain           88              13             22   \n",
       "0           USA    Yugoslavia           70              13             18   \n",
       "5        France    Germany FR          126              16             35   \n",
       "8    Germany FR       Uruguay           95              16             32   \n",
       "11       Poland        France          146              24             52   \n",
       "6         Chile    Yugoslavia           89              16             32   \n",
       "7      Portugal  Soviet Union           89              16             32   \n",
       "14       Sweden      Bulgaria          141              24             52   \n",
       "10       Brazil         Italy          102              16             38   \n",
       "15      Croatia   Netherlands          171              32             64   \n",
       "19  Netherlands        Brazil          171              32             64   \n",
       "9        Poland        Brazil           97              16             38   \n",
       "\n",
       "   Attendance  AvgGoals  \n",
       "4     768.607  5.384615  \n",
       "2       375.7  4.666667  \n",
       "1         363  4.117647  \n",
       "3   1.045.246  4.000000  \n",
       "0     590.549  3.888889  \n",
       "5      819.81  3.600000  \n",
       "8   1.603.975  2.968750  \n",
       "11  2.109.723  2.807692  \n",
       "6     893.172  2.781250  \n",
       "7   1.563.135  2.781250  \n",
       "14  3.587.538  2.711538  \n",
       "10  1.545.791  2.684211  \n",
       "15  2.785.100  2.671875  \n",
       "19  3.386.810  2.671875  \n",
       "9   1.865.753  2.552632  "
      ],
      "text/html": "<div>\n<style scoped>\n    .dataframe tbody tr th:only-of-type {\n        vertical-align: middle;\n    }\n\n    .dataframe tbody tr th {\n        vertical-align: top;\n    }\n\n    .dataframe thead th {\n        text-align: right;\n    }\n</style>\n<table border=\"1\" class=\"dataframe\">\n  <thead>\n    <tr style=\"text-align: right;\">\n      <th></th>\n      <th>Name</th>\n      <th>Year</th>\n      <th>Country</th>\n      <th>Winner</th>\n      <th>Runners-Up</th>\n      <th>Third</th>\n      <th>Fourth</th>\n      <th>GoalsScored</th>\n      <th>QualifiedTeams</th>\n      <th>MatchesPlayed</th>\n      <th>Attendance</th>\n      <th>AvgGoals</th>\n    </tr>\n  </thead>\n  <tbody>\n    <tr>\n      <th>4</th>\n      <td>Switzerland 1954</td>\n      <td>1954</td>\n      <td>Switzerland</td>\n      <td>Germany FR</td>\n      <td>Hungary</td>\n      <td>Austria</td>\n      <td>Uruguay</td>\n      <td>140</td>\n      <td>16</td>\n      <td>26</td>\n      <td>768.607</td>\n      <td>5.384615</td>\n    </tr>\n    <tr>\n      <th>2</th>\n      <td>France 1938</td>\n      <td>1938</td>\n      <td>France</td>\n      <td>Italy</td>\n      <td>Hungary</td>\n      <td>Brazil</td>\n      <td>Sweden</td>\n      <td>84</td>\n      <td>15</td>\n      <td>18</td>\n      <td>375.7</td>\n      <td>4.666667</td>\n    </tr>\n    <tr>\n      <th>1</th>\n      <td>Italy 1934</td>\n      <td>1934</td>\n      <td>Italy</td>\n      <td>Italy</td>\n      <td>Czechoslovakia</td>\n      <td>Germany</td>\n      <td>Austria</td>\n      <td>70</td>\n      <td>16</td>\n      <td>17</td>\n      <td>363</td>\n      <td>4.117647</td>\n    </tr>\n    <tr>\n      <th>3</th>\n      <td>Brazil 1950</td>\n      <td>1950</td>\n      <td>Brazil</td>\n      <td>Uruguay</td>\n      <td>Brazil</td>\n      <td>Sweden</td>\n      <td>Spain</td>\n      <td>88</td>\n      <td>13</td>\n      <td>22</td>\n      <td>1.045.246</td>\n      <td>4.000000</td>\n    </tr>\n    <tr>\n      <th>0</th>\n      <td>Uruguay 1930</td>\n      <td>1930</td>\n      <td>Uruguay</td>\n      <td>Uruguay</td>\n      <td>Argentina</td>\n      <td>USA</td>\n      <td>Yugoslavia</td>\n      <td>70</td>\n      <td>13</td>\n      <td>18</td>\n      <td>590.549</td>\n      <td>3.888889</td>\n    </tr>\n    <tr>\n      <th>5</th>\n      <td>Sweden 1958</td>\n      <td>1958</td>\n      <td>Sweden</td>\n      <td>Brazil</td>\n      <td>Sweden</td>\n      <td>France</td>\n      <td>Germany FR</td>\n      <td>126</td>\n      <td>16</td>\n      <td>35</td>\n      <td>819.81</td>\n      <td>3.600000</td>\n    </tr>\n    <tr>\n      <th>8</th>\n      <td>Mexico 1970</td>\n      <td>1970</td>\n      <td>Mexico</td>\n      <td>Brazil</td>\n      <td>Italy</td>\n      <td>Germany FR</td>\n      <td>Uruguay</td>\n      <td>95</td>\n      <td>16</td>\n      <td>32</td>\n      <td>1.603.975</td>\n      <td>2.968750</td>\n    </tr>\n    <tr>\n      <th>11</th>\n      <td>Spain 1982</td>\n      <td>1982</td>\n      <td>Spain</td>\n      <td>Italy</td>\n      <td>Germany FR</td>\n      <td>Poland</td>\n      <td>France</td>\n      <td>146</td>\n      <td>24</td>\n      <td>52</td>\n      <td>2.109.723</td>\n      <td>2.807692</td>\n    </tr>\n    <tr>\n      <th>6</th>\n      <td>Chile 1962</td>\n      <td>1962</td>\n      <td>Chile</td>\n      <td>Brazil</td>\n      <td>Czechoslovakia</td>\n      <td>Chile</td>\n      <td>Yugoslavia</td>\n      <td>89</td>\n      <td>16</td>\n      <td>32</td>\n      <td>893.172</td>\n      <td>2.781250</td>\n    </tr>\n    <tr>\n      <th>7</th>\n      <td>England 1966</td>\n      <td>1966</td>\n      <td>England</td>\n      <td>England</td>\n      <td>Germany FR</td>\n      <td>Portugal</td>\n      <td>Soviet Union</td>\n      <td>89</td>\n      <td>16</td>\n      <td>32</td>\n      <td>1.563.135</td>\n      <td>2.781250</td>\n    </tr>\n    <tr>\n      <th>14</th>\n      <td>USA 1994</td>\n      <td>1994</td>\n      <td>USA</td>\n      <td>Brazil</td>\n      <td>Italy</td>\n      <td>Sweden</td>\n      <td>Bulgaria</td>\n      <td>141</td>\n      <td>24</td>\n      <td>52</td>\n      <td>3.587.538</td>\n      <td>2.711538</td>\n    </tr>\n    <tr>\n      <th>10</th>\n      <td>Argentina 1978</td>\n      <td>1978</td>\n      <td>Argentina</td>\n      <td>Argentina</td>\n      <td>Netherlands</td>\n      <td>Brazil</td>\n      <td>Italy</td>\n      <td>102</td>\n      <td>16</td>\n      <td>38</td>\n      <td>1.545.791</td>\n      <td>2.684211</td>\n    </tr>\n    <tr>\n      <th>15</th>\n      <td>France 1998</td>\n      <td>1998</td>\n      <td>France</td>\n      <td>France</td>\n      <td>Brazil</td>\n      <td>Croatia</td>\n      <td>Netherlands</td>\n      <td>171</td>\n      <td>32</td>\n      <td>64</td>\n      <td>2.785.100</td>\n      <td>2.671875</td>\n    </tr>\n    <tr>\n      <th>19</th>\n      <td>Brazil 2014</td>\n      <td>2014</td>\n      <td>Brazil</td>\n      <td>Germany</td>\n      <td>Argentina</td>\n      <td>Netherlands</td>\n      <td>Brazil</td>\n      <td>171</td>\n      <td>32</td>\n      <td>64</td>\n      <td>3.386.810</td>\n      <td>2.671875</td>\n    </tr>\n    <tr>\n      <th>9</th>\n      <td>Germany 1974</td>\n      <td>1974</td>\n      <td>Germany</td>\n      <td>Germany FR</td>\n      <td>Netherlands</td>\n      <td>Poland</td>\n      <td>Brazil</td>\n      <td>97</td>\n      <td>16</td>\n      <td>38</td>\n      <td>1.865.753</td>\n      <td>2.552632</td>\n    </tr>\n  </tbody>\n</table>\n</div>"
     },
     "metadata": {},
     "execution_count": 79
    }
   ],
   "source": [
    "df_mundiales.sort_values(by = 'AvgGoals', ascending=False).head(15)"
   ]
  },
  {
   "source": [
    "Goleadores Historicos de los Mundiales"
   ],
   "cell_type": "markdown",
   "metadata": {}
  },
  {
   "cell_type": "code",
   "execution_count": 81,
   "metadata": {},
   "outputs": [
    {
     "output_type": "execute_result",
     "data": {
      "text/plain": [
       "    RoundID  MatchID Team Initials           Coach Name Line-up  Shirt Number  \\\n",
       "2       201     1096           FRA  CAUDRON Raoul (FRA)       S             0   \n",
       "3       201     1096           MEX     LUQUE Juan (MEX)       S             0   \n",
       "6       201     1096           FRA  CAUDRON Raoul (FRA)       S             0   \n",
       "14      201     1096           FRA  CAUDRON Raoul (FRA)       S             0   \n",
       "35      201     1090           USA     MILLAR Bob (USA)       S             0   \n",
       "\n",
       "         Player Name Position      Event  \n",
       "2   Marcel LANGILLER      NaN       G40'  \n",
       "3       Juan CARRENO      NaN       G70'  \n",
       "6    Andre MASCHINOT      NaN  G43' G87'  \n",
       "14    Lucien LAURENT      NaN       G19'  \n",
       "35        Tom FLORIE        C       G45'  "
      ],
      "text/html": "<div>\n<style scoped>\n    .dataframe tbody tr th:only-of-type {\n        vertical-align: middle;\n    }\n\n    .dataframe tbody tr th {\n        vertical-align: top;\n    }\n\n    .dataframe thead th {\n        text-align: right;\n    }\n</style>\n<table border=\"1\" class=\"dataframe\">\n  <thead>\n    <tr style=\"text-align: right;\">\n      <th></th>\n      <th>RoundID</th>\n      <th>MatchID</th>\n      <th>Team Initials</th>\n      <th>Coach Name</th>\n      <th>Line-up</th>\n      <th>Shirt Number</th>\n      <th>Player Name</th>\n      <th>Position</th>\n      <th>Event</th>\n    </tr>\n  </thead>\n  <tbody>\n    <tr>\n      <th>2</th>\n      <td>201</td>\n      <td>1096</td>\n      <td>FRA</td>\n      <td>CAUDRON Raoul (FRA)</td>\n      <td>S</td>\n      <td>0</td>\n      <td>Marcel LANGILLER</td>\n      <td>NaN</td>\n      <td>G40'</td>\n    </tr>\n    <tr>\n      <th>3</th>\n      <td>201</td>\n      <td>1096</td>\n      <td>MEX</td>\n      <td>LUQUE Juan (MEX)</td>\n      <td>S</td>\n      <td>0</td>\n      <td>Juan CARRENO</td>\n      <td>NaN</td>\n      <td>G70'</td>\n    </tr>\n    <tr>\n      <th>6</th>\n      <td>201</td>\n      <td>1096</td>\n      <td>FRA</td>\n      <td>CAUDRON Raoul (FRA)</td>\n      <td>S</td>\n      <td>0</td>\n      <td>Andre MASCHINOT</td>\n      <td>NaN</td>\n      <td>G43' G87'</td>\n    </tr>\n    <tr>\n      <th>14</th>\n      <td>201</td>\n      <td>1096</td>\n      <td>FRA</td>\n      <td>CAUDRON Raoul (FRA)</td>\n      <td>S</td>\n      <td>0</td>\n      <td>Lucien LAURENT</td>\n      <td>NaN</td>\n      <td>G19'</td>\n    </tr>\n    <tr>\n      <th>35</th>\n      <td>201</td>\n      <td>1090</td>\n      <td>USA</td>\n      <td>MILLAR Bob (USA)</td>\n      <td>S</td>\n      <td>0</td>\n      <td>Tom FLORIE</td>\n      <td>C</td>\n      <td>G45'</td>\n    </tr>\n  </tbody>\n</table>\n</div>"
     },
     "metadata": {},
     "execution_count": 81
    }
   ],
   "source": [
    "df_players_events = df_players.dropna(subset=['Event'])\n",
    "df_players_events.head()"
   ]
  },
  {
   "cell_type": "code",
   "execution_count": 82,
   "metadata": {},
   "outputs": [],
   "source": [
    "def cantidad_goles(cadena):\n",
    "    return cadena.count('G')"
   ]
  },
  {
   "cell_type": "code",
   "execution_count": 87,
   "metadata": {},
   "outputs": [
    {
     "output_type": "stream",
     "name": "stderr",
     "text": [
      "ipykernel_launcher:2: SettingWithCopyWarning: \nA value is trying to be set on a copy of a slice from a DataFrame.\nTry using .loc[row_indexer,col_indexer] = value instead\n\nSee the caveats in the documentation: https://pandas.pydata.org/pandas-docs/stable/user_guide/indexing.html#returning-a-view-versus-a-copy\n"
     ]
    }
   ],
   "source": [
    "# Asigno a una nueva columna la cantidad de goles de un jugador aplicando la función cantidad_goles a la columna de eventos\n",
    "df_players_events['Goals'] = df_players_events['Event'].apply(cantidad_goles)"
   ]
  },
  {
   "cell_type": "code",
   "execution_count": 88,
   "metadata": {},
   "outputs": [
    {
     "output_type": "execute_result",
     "data": {
      "text/plain": [
       "    RoundID  MatchID Team Initials           Coach Name Line-up  Shirt Number  \\\n",
       "2       201     1096           FRA  CAUDRON Raoul (FRA)       S             0   \n",
       "3       201     1096           MEX     LUQUE Juan (MEX)       S             0   \n",
       "6       201     1096           FRA  CAUDRON Raoul (FRA)       S             0   \n",
       "14      201     1096           FRA  CAUDRON Raoul (FRA)       S             0   \n",
       "35      201     1090           USA     MILLAR Bob (USA)       S             0   \n",
       "\n",
       "         Player Name Position      Event  Goals  \n",
       "2   Marcel LANGILLER      NaN       G40'      1  \n",
       "3       Juan CARRENO      NaN       G70'      1  \n",
       "6    Andre MASCHINOT      NaN  G43' G87'      2  \n",
       "14    Lucien LAURENT      NaN       G19'      1  \n",
       "35        Tom FLORIE        C       G45'      1  "
      ],
      "text/html": "<div>\n<style scoped>\n    .dataframe tbody tr th:only-of-type {\n        vertical-align: middle;\n    }\n\n    .dataframe tbody tr th {\n        vertical-align: top;\n    }\n\n    .dataframe thead th {\n        text-align: right;\n    }\n</style>\n<table border=\"1\" class=\"dataframe\">\n  <thead>\n    <tr style=\"text-align: right;\">\n      <th></th>\n      <th>RoundID</th>\n      <th>MatchID</th>\n      <th>Team Initials</th>\n      <th>Coach Name</th>\n      <th>Line-up</th>\n      <th>Shirt Number</th>\n      <th>Player Name</th>\n      <th>Position</th>\n      <th>Event</th>\n      <th>Goals</th>\n    </tr>\n  </thead>\n  <tbody>\n    <tr>\n      <th>2</th>\n      <td>201</td>\n      <td>1096</td>\n      <td>FRA</td>\n      <td>CAUDRON Raoul (FRA)</td>\n      <td>S</td>\n      <td>0</td>\n      <td>Marcel LANGILLER</td>\n      <td>NaN</td>\n      <td>G40'</td>\n      <td>1</td>\n    </tr>\n    <tr>\n      <th>3</th>\n      <td>201</td>\n      <td>1096</td>\n      <td>MEX</td>\n      <td>LUQUE Juan (MEX)</td>\n      <td>S</td>\n      <td>0</td>\n      <td>Juan CARRENO</td>\n      <td>NaN</td>\n      <td>G70'</td>\n      <td>1</td>\n    </tr>\n    <tr>\n      <th>6</th>\n      <td>201</td>\n      <td>1096</td>\n      <td>FRA</td>\n      <td>CAUDRON Raoul (FRA)</td>\n      <td>S</td>\n      <td>0</td>\n      <td>Andre MASCHINOT</td>\n      <td>NaN</td>\n      <td>G43' G87'</td>\n      <td>2</td>\n    </tr>\n    <tr>\n      <th>14</th>\n      <td>201</td>\n      <td>1096</td>\n      <td>FRA</td>\n      <td>CAUDRON Raoul (FRA)</td>\n      <td>S</td>\n      <td>0</td>\n      <td>Lucien LAURENT</td>\n      <td>NaN</td>\n      <td>G19'</td>\n      <td>1</td>\n    </tr>\n    <tr>\n      <th>35</th>\n      <td>201</td>\n      <td>1090</td>\n      <td>USA</td>\n      <td>MILLAR Bob (USA)</td>\n      <td>S</td>\n      <td>0</td>\n      <td>Tom FLORIE</td>\n      <td>C</td>\n      <td>G45'</td>\n      <td>1</td>\n    </tr>\n  </tbody>\n</table>\n</div>"
     },
     "metadata": {},
     "execution_count": 88
    }
   ],
   "source": [
    "df_players_events.head()"
   ]
  },
  {
   "cell_type": "code",
   "execution_count": 91,
   "metadata": {},
   "outputs": [],
   "source": [
    "df_players_goleadores = df_players_events.get(['Player Name', 'Goals']).groupby('Player Name').sum().sort_values(by = 'Goals', ascending = False)"
   ]
  },
  {
   "cell_type": "code",
   "execution_count": 93,
   "metadata": {},
   "outputs": [
    {
     "output_type": "execute_result",
     "data": {
      "text/plain": [
       "                                      Goals\n",
       "Player Name                                \n",
       "KLOSE                                    17\n",
       "RONALDO                                  16\n",
       "Just FONTAINE                            13\n",
       "Gerd MUELLER                             13\n",
       "PELÔøΩ (Edson Arantes do Nascimento)     12\n",
       "Sandor KOCSIS                            11\n",
       "MÔøΩLLER                                 11\n",
       "Grzegorz LATO                            10\n",
       "Helmut RAHN                              10\n",
       "Karl-Heinz RUMMENIGGE                     9\n",
       "Paolo ROSSI                               9\n",
       "Uwe SEELER                                9\n",
       "VAVA                                      9\n",
       "JAIRZINHO                                 9\n",
       "Guillermo STABILE                         8\n",
       "ADEMIR                                    8\n",
       "Diego MARADONA                            8\n",
       "LEONIDAS                                  8\n",
       "Oscar MIGUEZ                              8\n",
       "Rudi VOELLER                              8"
      ],
      "text/html": "<div>\n<style scoped>\n    .dataframe tbody tr th:only-of-type {\n        vertical-align: middle;\n    }\n\n    .dataframe tbody tr th {\n        vertical-align: top;\n    }\n\n    .dataframe thead th {\n        text-align: right;\n    }\n</style>\n<table border=\"1\" class=\"dataframe\">\n  <thead>\n    <tr style=\"text-align: right;\">\n      <th></th>\n      <th>Goals</th>\n    </tr>\n    <tr>\n      <th>Player Name</th>\n      <th></th>\n    </tr>\n  </thead>\n  <tbody>\n    <tr>\n      <th>KLOSE</th>\n      <td>17</td>\n    </tr>\n    <tr>\n      <th>RONALDO</th>\n      <td>16</td>\n    </tr>\n    <tr>\n      <th>Just FONTAINE</th>\n      <td>13</td>\n    </tr>\n    <tr>\n      <th>Gerd MUELLER</th>\n      <td>13</td>\n    </tr>\n    <tr>\n      <th>PELÔøΩ (Edson Arantes do Nascimento)</th>\n      <td>12</td>\n    </tr>\n    <tr>\n      <th>Sandor KOCSIS</th>\n      <td>11</td>\n    </tr>\n    <tr>\n      <th>MÔøΩLLER</th>\n      <td>11</td>\n    </tr>\n    <tr>\n      <th>Grzegorz LATO</th>\n      <td>10</td>\n    </tr>\n    <tr>\n      <th>Helmut RAHN</th>\n      <td>10</td>\n    </tr>\n    <tr>\n      <th>Karl-Heinz RUMMENIGGE</th>\n      <td>9</td>\n    </tr>\n    <tr>\n      <th>Paolo ROSSI</th>\n      <td>9</td>\n    </tr>\n    <tr>\n      <th>Uwe SEELER</th>\n      <td>9</td>\n    </tr>\n    <tr>\n      <th>VAVA</th>\n      <td>9</td>\n    </tr>\n    <tr>\n      <th>JAIRZINHO</th>\n      <td>9</td>\n    </tr>\n    <tr>\n      <th>Guillermo STABILE</th>\n      <td>8</td>\n    </tr>\n    <tr>\n      <th>ADEMIR</th>\n      <td>8</td>\n    </tr>\n    <tr>\n      <th>Diego MARADONA</th>\n      <td>8</td>\n    </tr>\n    <tr>\n      <th>LEONIDAS</th>\n      <td>8</td>\n    </tr>\n    <tr>\n      <th>Oscar MIGUEZ</th>\n      <td>8</td>\n    </tr>\n    <tr>\n      <th>Rudi VOELLER</th>\n      <td>8</td>\n    </tr>\n  </tbody>\n</table>\n</div>"
     },
     "metadata": {},
     "execution_count": 93
    }
   ],
   "source": [
    "df_players_goleadores.head(20)"
   ]
  },
  {
   "source": [
    "Jugadores más expulsados de los mundiales"
   ],
   "cell_type": "markdown",
   "metadata": {}
  },
  {
   "cell_type": "code",
   "execution_count": 94,
   "metadata": {},
   "outputs": [],
   "source": [
    "def cantidad_rojas(cadena):\n",
    "    return cadena.count('R')"
   ]
  },
  {
   "cell_type": "code",
   "execution_count": 95,
   "metadata": {},
   "outputs": [
    {
     "output_type": "stream",
     "name": "stderr",
     "text": [
      "ipykernel_launcher:1: SettingWithCopyWarning: \nA value is trying to be set on a copy of a slice from a DataFrame.\nTry using .loc[row_indexer,col_indexer] = value instead\n\nSee the caveats in the documentation: https://pandas.pydata.org/pandas-docs/stable/user_guide/indexing.html#returning-a-view-versus-a-copy\n"
     ]
    }
   ],
   "source": [
    "df_players_events['Red Cards'] = df_players_events['Event'].apply(cantidad_rojas)"
   ]
  },
  {
   "cell_type": "code",
   "execution_count": 96,
   "metadata": {},
   "outputs": [
    {
     "output_type": "execute_result",
     "data": {
      "text/plain": [
       "    RoundID  MatchID Team Initials           Coach Name Line-up  Shirt Number  \\\n",
       "2       201     1096           FRA  CAUDRON Raoul (FRA)       S             0   \n",
       "3       201     1096           MEX     LUQUE Juan (MEX)       S             0   \n",
       "6       201     1096           FRA  CAUDRON Raoul (FRA)       S             0   \n",
       "14      201     1096           FRA  CAUDRON Raoul (FRA)       S             0   \n",
       "35      201     1090           USA     MILLAR Bob (USA)       S             0   \n",
       "\n",
       "         Player Name Position      Event  Goals  Red Cards  \n",
       "2   Marcel LANGILLER      NaN       G40'      1          0  \n",
       "3       Juan CARRENO      NaN       G70'      1          0  \n",
       "6    Andre MASCHINOT      NaN  G43' G87'      2          0  \n",
       "14    Lucien LAURENT      NaN       G19'      1          0  \n",
       "35        Tom FLORIE        C       G45'      1          0  "
      ],
      "text/html": "<div>\n<style scoped>\n    .dataframe tbody tr th:only-of-type {\n        vertical-align: middle;\n    }\n\n    .dataframe tbody tr th {\n        vertical-align: top;\n    }\n\n    .dataframe thead th {\n        text-align: right;\n    }\n</style>\n<table border=\"1\" class=\"dataframe\">\n  <thead>\n    <tr style=\"text-align: right;\">\n      <th></th>\n      <th>RoundID</th>\n      <th>MatchID</th>\n      <th>Team Initials</th>\n      <th>Coach Name</th>\n      <th>Line-up</th>\n      <th>Shirt Number</th>\n      <th>Player Name</th>\n      <th>Position</th>\n      <th>Event</th>\n      <th>Goals</th>\n      <th>Red Cards</th>\n    </tr>\n  </thead>\n  <tbody>\n    <tr>\n      <th>2</th>\n      <td>201</td>\n      <td>1096</td>\n      <td>FRA</td>\n      <td>CAUDRON Raoul (FRA)</td>\n      <td>S</td>\n      <td>0</td>\n      <td>Marcel LANGILLER</td>\n      <td>NaN</td>\n      <td>G40'</td>\n      <td>1</td>\n      <td>0</td>\n    </tr>\n    <tr>\n      <th>3</th>\n      <td>201</td>\n      <td>1096</td>\n      <td>MEX</td>\n      <td>LUQUE Juan (MEX)</td>\n      <td>S</td>\n      <td>0</td>\n      <td>Juan CARRENO</td>\n      <td>NaN</td>\n      <td>G70'</td>\n      <td>1</td>\n      <td>0</td>\n    </tr>\n    <tr>\n      <th>6</th>\n      <td>201</td>\n      <td>1096</td>\n      <td>FRA</td>\n      <td>CAUDRON Raoul (FRA)</td>\n      <td>S</td>\n      <td>0</td>\n      <td>Andre MASCHINOT</td>\n      <td>NaN</td>\n      <td>G43' G87'</td>\n      <td>2</td>\n      <td>0</td>\n    </tr>\n    <tr>\n      <th>14</th>\n      <td>201</td>\n      <td>1096</td>\n      <td>FRA</td>\n      <td>CAUDRON Raoul (FRA)</td>\n      <td>S</td>\n      <td>0</td>\n      <td>Lucien LAURENT</td>\n      <td>NaN</td>\n      <td>G19'</td>\n      <td>1</td>\n      <td>0</td>\n    </tr>\n    <tr>\n      <th>35</th>\n      <td>201</td>\n      <td>1090</td>\n      <td>USA</td>\n      <td>MILLAR Bob (USA)</td>\n      <td>S</td>\n      <td>0</td>\n      <td>Tom FLORIE</td>\n      <td>C</td>\n      <td>G45'</td>\n      <td>1</td>\n      <td>0</td>\n    </tr>\n  </tbody>\n</table>\n</div>"
     },
     "metadata": {},
     "execution_count": 96
    }
   ],
   "source": [
    "df_players_events.head()"
   ]
  },
  {
   "cell_type": "code",
   "execution_count": 97,
   "metadata": {},
   "outputs": [],
   "source": [
    "df_players_expulsados = df_players_events.get(['Player Name', 'Red Cards']).groupby('Player Name').sum().sort_values(by = 'Red Cards', ascending = False)"
   ]
  },
  {
   "cell_type": "code",
   "execution_count": 98,
   "metadata": {},
   "outputs": [
    {
     "output_type": "execute_result",
     "data": {
      "text/plain": [
       "                    Red Cards\n",
       "Player Name                  \n",
       "SONG                        2\n",
       "DUARTE O.                   2\n",
       "Emil KREMENLIEV             1\n",
       "Ray WILKINS                 1\n",
       "Dick NANNINGA               1\n",
       "Rafael ALBRECHT             1\n",
       "Ramon RAMIREZ               1\n",
       "David BECKHAM               1\n",
       "Darryl POWELL               1\n",
       "Ray RICHARDS                1\n",
       "Ricardo GIUSTI              1\n",
       "Refik SABANADZOVIC          1\n",
       "Rudi VOELLER                1\n",
       "Rigobert SONG               1\n",
       "DOMORAUD                    1"
      ],
      "text/html": "<div>\n<style scoped>\n    .dataframe tbody tr th:only-of-type {\n        vertical-align: middle;\n    }\n\n    .dataframe tbody tr th {\n        vertical-align: top;\n    }\n\n    .dataframe thead th {\n        text-align: right;\n    }\n</style>\n<table border=\"1\" class=\"dataframe\">\n  <thead>\n    <tr style=\"text-align: right;\">\n      <th></th>\n      <th>Red Cards</th>\n    </tr>\n    <tr>\n      <th>Player Name</th>\n      <th></th>\n    </tr>\n  </thead>\n  <tbody>\n    <tr>\n      <th>SONG</th>\n      <td>2</td>\n    </tr>\n    <tr>\n      <th>DUARTE O.</th>\n      <td>2</td>\n    </tr>\n    <tr>\n      <th>Emil KREMENLIEV</th>\n      <td>1</td>\n    </tr>\n    <tr>\n      <th>Ray WILKINS</th>\n      <td>1</td>\n    </tr>\n    <tr>\n      <th>Dick NANNINGA</th>\n      <td>1</td>\n    </tr>\n    <tr>\n      <th>Rafael ALBRECHT</th>\n      <td>1</td>\n    </tr>\n    <tr>\n      <th>Ramon RAMIREZ</th>\n      <td>1</td>\n    </tr>\n    <tr>\n      <th>David BECKHAM</th>\n      <td>1</td>\n    </tr>\n    <tr>\n      <th>Darryl POWELL</th>\n      <td>1</td>\n    </tr>\n    <tr>\n      <th>Ray RICHARDS</th>\n      <td>1</td>\n    </tr>\n    <tr>\n      <th>Ricardo GIUSTI</th>\n      <td>1</td>\n    </tr>\n    <tr>\n      <th>Refik SABANADZOVIC</th>\n      <td>1</td>\n    </tr>\n    <tr>\n      <th>Rudi VOELLER</th>\n      <td>1</td>\n    </tr>\n    <tr>\n      <th>Rigobert SONG</th>\n      <td>1</td>\n    </tr>\n    <tr>\n      <th>DOMORAUD</th>\n      <td>1</td>\n    </tr>\n  </tbody>\n</table>\n</div>"
     },
     "metadata": {},
     "execution_count": 98
    }
   ],
   "source": [
    "df_players_expulsados.head(15)"
   ]
  },
  {
   "source": [
    "Graficos con distintos casos en los Mundiales"
   ],
   "cell_type": "markdown",
   "metadata": {}
  },
  {
   "cell_type": "code",
   "execution_count": 105,
   "metadata": {},
   "outputs": [
    {
     "output_type": "execute_result",
     "data": {
      "text/plain": [
       "<AxesSubplot:xlabel='Year'>"
      ]
     },
     "metadata": {},
     "execution_count": 105
    },
    {
     "output_type": "display_data",
     "data": {
      "text/plain": "<Figure size 432x288 with 1 Axes>",
      "image/svg+xml": "<?xml version=\"1.0\" encoding=\"utf-8\" standalone=\"no\"?>\r\n<!DOCTYPE svg PUBLIC \"-//W3C//DTD SVG 1.1//EN\"\r\n  \"http://www.w3.org/Graphics/SVG/1.1/DTD/svg11.dtd\">\r\n<svg height=\"277.968125pt\" version=\"1.1\" viewBox=\"0 0 375.2875 277.968125\" width=\"375.2875pt\" xmlns=\"http://www.w3.org/2000/svg\" xmlns:xlink=\"http://www.w3.org/1999/xlink\">\r\n <metadata>\r\n  <rdf:RDF xmlns:cc=\"http://creativecommons.org/ns#\" xmlns:dc=\"http://purl.org/dc/elements/1.1/\" xmlns:rdf=\"http://www.w3.org/1999/02/22-rdf-syntax-ns#\">\r\n   <cc:Work>\r\n    <dc:type rdf:resource=\"http://purl.org/dc/dcmitype/StillImage\"/>\r\n    <dc:date>2021-05-07T23:33:11.178446</dc:date>\r\n    <dc:format>image/svg+xml</dc:format>\r\n    <dc:creator>\r\n     <cc:Agent>\r\n      <dc:title>Matplotlib v3.4.1, https://matplotlib.org/</dc:title>\r\n     </cc:Agent>\r\n    </dc:creator>\r\n   </cc:Work>\r\n  </rdf:RDF>\r\n </metadata>\r\n <defs>\r\n  <style type=\"text/css\">*{stroke-linecap:butt;stroke-linejoin:round;}</style>\r\n </defs>\r\n <g id=\"figure_1\">\r\n  <g id=\"patch_1\">\r\n   <path d=\"M 0 277.968125 \r\nL 375.2875 277.968125 \r\nL 375.2875 0 \r\nL 0 0 \r\nz\r\n\" style=\"fill:none;\"/>\r\n  </g>\r\n  <g id=\"axes_1\">\r\n   <g id=\"patch_2\">\r\n    <path d=\"M 33.2875 224.64 \r\nL 368.0875 224.64 \r\nL 368.0875 7.2 \r\nL 33.2875 7.2 \r\nz\r\n\" style=\"fill:#ffffff;\"/>\r\n   </g>\r\n   <g id=\"patch_3\">\r\n    <path clip-path=\"url(#pcc2be43342)\" d=\"M 37.4725 224.64 \r\nL 45.8425 224.64 \r\nL 45.8425 139.86807 \r\nL 37.4725 139.86807 \r\nz\r\n\" style=\"fill:#1f77b4;\"/>\r\n   </g>\r\n   <g id=\"patch_4\">\r\n    <path clip-path=\"url(#pcc2be43342)\" d=\"M 54.2125 224.64 \r\nL 62.5825 224.64 \r\nL 62.5825 139.86807 \r\nL 54.2125 139.86807 \r\nz\r\n\" style=\"fill:#1f77b4;\"/>\r\n   </g>\r\n   <g id=\"patch_5\">\r\n    <path clip-path=\"url(#pcc2be43342)\" d=\"M 70.9525 224.64 \r\nL 79.3225 224.64 \r\nL 79.3225 122.913684 \r\nL 70.9525 122.913684 \r\nz\r\n\" style=\"fill:#1f77b4;\"/>\r\n   </g>\r\n   <g id=\"patch_6\">\r\n    <path clip-path=\"url(#pcc2be43342)\" d=\"M 87.6925 224.64 \r\nL 96.0625 224.64 \r\nL 96.0625 118.069574 \r\nL 87.6925 118.069574 \r\nz\r\n\" style=\"fill:#1f77b4;\"/>\r\n   </g>\r\n   <g id=\"patch_7\">\r\n    <path clip-path=\"url(#pcc2be43342)\" d=\"M 104.4325 224.64 \r\nL 112.8025 224.64 \r\nL 112.8025 55.09614 \r\nL 104.4325 55.09614 \r\nz\r\n\" style=\"fill:#1f77b4;\"/>\r\n   </g>\r\n   <g id=\"patch_8\">\r\n    <path clip-path=\"url(#pcc2be43342)\" d=\"M 121.1725 224.64 \r\nL 129.5425 224.64 \r\nL 129.5425 72.050526 \r\nL 121.1725 72.050526 \r\nz\r\n\" style=\"fill:#1f77b4;\"/>\r\n   </g>\r\n   <g id=\"patch_9\">\r\n    <path clip-path=\"url(#pcc2be43342)\" d=\"M 137.9125 224.64 \r\nL 146.2825 224.64 \r\nL 146.2825 116.858546 \r\nL 137.9125 116.858546 \r\nz\r\n\" style=\"fill:#1f77b4;\"/>\r\n   </g>\r\n   <g id=\"patch_10\">\r\n    <path clip-path=\"url(#pcc2be43342)\" d=\"M 154.6525 224.64 \r\nL 163.0225 224.64 \r\nL 163.0225 116.858546 \r\nL 154.6525 116.858546 \r\nz\r\n\" style=\"fill:#1f77b4;\"/>\r\n   </g>\r\n   <g id=\"patch_11\">\r\n    <path clip-path=\"url(#pcc2be43342)\" d=\"M 171.3925 224.64 \r\nL 179.7625 224.64 \r\nL 179.7625 109.592381 \r\nL 171.3925 109.592381 \r\nz\r\n\" style=\"fill:#1f77b4;\"/>\r\n   </g>\r\n   <g id=\"patch_12\">\r\n    <path clip-path=\"url(#pcc2be43342)\" d=\"M 188.1325 224.64 \r\nL 196.5025 224.64 \r\nL 196.5025 107.170326 \r\nL 188.1325 107.170326 \r\nz\r\n\" style=\"fill:#1f77b4;\"/>\r\n   </g>\r\n   <g id=\"patch_13\">\r\n    <path clip-path=\"url(#pcc2be43342)\" d=\"M 204.8725 224.64 \r\nL 213.2425 224.64 \r\nL 213.2425 101.115188 \r\nL 204.8725 101.115188 \r\nz\r\n\" style=\"fill:#1f77b4;\"/>\r\n   </g>\r\n   <g id=\"patch_14\">\r\n    <path clip-path=\"url(#pcc2be43342)\" d=\"M 221.6125 224.64 \r\nL 229.9825 224.64 \r\nL 229.9825 47.829975 \r\nL 221.6125 47.829975 \r\nz\r\n\" style=\"fill:#1f77b4;\"/>\r\n   </g>\r\n   <g id=\"patch_15\">\r\n    <path clip-path=\"url(#pcc2be43342)\" d=\"M 238.3525 224.64 \r\nL 246.7225 224.64 \r\nL 246.7225 64.784361 \r\nL 238.3525 64.784361 \r\nz\r\n\" style=\"fill:#1f77b4;\"/>\r\n   </g>\r\n   <g id=\"patch_16\">\r\n    <path clip-path=\"url(#pcc2be43342)\" d=\"M 255.0925 224.64 \r\nL 263.4625 224.64 \r\nL 263.4625 85.37183 \r\nL 255.0925 85.37183 \r\nz\r\n\" style=\"fill:#1f77b4;\"/>\r\n   </g>\r\n   <g id=\"patch_17\">\r\n    <path clip-path=\"url(#pcc2be43342)\" d=\"M 271.8325 224.64 \r\nL 280.2025 224.64 \r\nL 280.2025 53.885113 \r\nL 271.8325 53.885113 \r\nz\r\n\" style=\"fill:#1f77b4;\"/>\r\n   </g>\r\n   <g id=\"patch_18\">\r\n    <path clip-path=\"url(#pcc2be43342)\" d=\"M 288.5725 224.64 \r\nL 296.9425 224.64 \r\nL 296.9425 17.554286 \r\nL 288.5725 17.554286 \r\nz\r\n\" style=\"fill:#1f77b4;\"/>\r\n   </g>\r\n   <g id=\"patch_19\">\r\n    <path clip-path=\"url(#pcc2be43342)\" d=\"M 305.3125 224.64 \r\nL 313.6825 224.64 \r\nL 313.6825 29.664561 \r\nL 305.3125 29.664561 \r\nz\r\n\" style=\"fill:#1f77b4;\"/>\r\n   </g>\r\n   <g id=\"patch_20\">\r\n    <path clip-path=\"url(#pcc2be43342)\" d=\"M 322.0525 224.64 \r\nL 330.4225 224.64 \r\nL 330.4225 46.618947 \r\nL 322.0525 46.618947 \r\nz\r\n\" style=\"fill:#1f77b4;\"/>\r\n   </g>\r\n   <g id=\"patch_21\">\r\n    <path clip-path=\"url(#pcc2be43342)\" d=\"M 338.7925 224.64 \r\nL 347.1625 224.64 \r\nL 347.1625 49.041003 \r\nL 338.7925 49.041003 \r\nz\r\n\" style=\"fill:#1f77b4;\"/>\r\n   </g>\r\n   <g id=\"patch_22\">\r\n    <path clip-path=\"url(#pcc2be43342)\" d=\"M 355.5325 224.64 \r\nL 363.9025 224.64 \r\nL 363.9025 17.554286 \r\nL 355.5325 17.554286 \r\nz\r\n\" style=\"fill:#1f77b4;\"/>\r\n   </g>\r\n   <g id=\"matplotlib.axis_1\">\r\n    <g id=\"xtick_1\">\r\n     <g id=\"line2d_1\">\r\n      <defs>\r\n       <path d=\"M 0 0 \r\nL 0 3.5 \r\n\" id=\"m38543ce53f\" style=\"stroke:#000000;stroke-width:0.8;\"/>\r\n      </defs>\r\n      <g>\r\n       <use style=\"stroke:#000000;stroke-width:0.8;\" x=\"41.6575\" xlink:href=\"#m38543ce53f\" y=\"224.64\"/>\r\n      </g>\r\n     </g>\r\n     <g id=\"text_1\">\r\n      <!-- 1930 -->\r\n      <g transform=\"translate(44.416875 257.09)rotate(-90)scale(0.1 -0.1)\">\r\n       <defs>\r\n        <path d=\"M 794 531 \r\nL 1825 531 \r\nL 1825 4091 \r\nL 703 3866 \r\nL 703 4441 \r\nL 1819 4666 \r\nL 2450 4666 \r\nL 2450 531 \r\nL 3481 531 \r\nL 3481 0 \r\nL 794 0 \r\nL 794 531 \r\nz\r\n\" id=\"DejaVuSans-31\" transform=\"scale(0.015625)\"/>\r\n        <path d=\"M 703 97 \r\nL 703 672 \r\nQ 941 559 1184 500 \r\nQ 1428 441 1663 441 \r\nQ 2288 441 2617 861 \r\nQ 2947 1281 2994 2138 \r\nQ 2813 1869 2534 1725 \r\nQ 2256 1581 1919 1581 \r\nQ 1219 1581 811 2004 \r\nQ 403 2428 403 3163 \r\nQ 403 3881 828 4315 \r\nQ 1253 4750 1959 4750 \r\nQ 2769 4750 3195 4129 \r\nQ 3622 3509 3622 2328 \r\nQ 3622 1225 3098 567 \r\nQ 2575 -91 1691 -91 \r\nQ 1453 -91 1209 -44 \r\nQ 966 3 703 97 \r\nz\r\nM 1959 2075 \r\nQ 2384 2075 2632 2365 \r\nQ 2881 2656 2881 3163 \r\nQ 2881 3666 2632 3958 \r\nQ 2384 4250 1959 4250 \r\nQ 1534 4250 1286 3958 \r\nQ 1038 3666 1038 3163 \r\nQ 1038 2656 1286 2365 \r\nQ 1534 2075 1959 2075 \r\nz\r\n\" id=\"DejaVuSans-39\" transform=\"scale(0.015625)\"/>\r\n        <path d=\"M 2597 2516 \r\nQ 3050 2419 3304 2112 \r\nQ 3559 1806 3559 1356 \r\nQ 3559 666 3084 287 \r\nQ 2609 -91 1734 -91 \r\nQ 1441 -91 1130 -33 \r\nQ 819 25 488 141 \r\nL 488 750 \r\nQ 750 597 1062 519 \r\nQ 1375 441 1716 441 \r\nQ 2309 441 2620 675 \r\nQ 2931 909 2931 1356 \r\nQ 2931 1769 2642 2001 \r\nQ 2353 2234 1838 2234 \r\nL 1294 2234 \r\nL 1294 2753 \r\nL 1863 2753 \r\nQ 2328 2753 2575 2939 \r\nQ 2822 3125 2822 3475 \r\nQ 2822 3834 2567 4026 \r\nQ 2313 4219 1838 4219 \r\nQ 1578 4219 1281 4162 \r\nQ 984 4106 628 3988 \r\nL 628 4550 \r\nQ 988 4650 1302 4700 \r\nQ 1616 4750 1894 4750 \r\nQ 2613 4750 3031 4423 \r\nQ 3450 4097 3450 3541 \r\nQ 3450 3153 3228 2886 \r\nQ 3006 2619 2597 2516 \r\nz\r\n\" id=\"DejaVuSans-33\" transform=\"scale(0.015625)\"/>\r\n        <path d=\"M 2034 4250 \r\nQ 1547 4250 1301 3770 \r\nQ 1056 3291 1056 2328 \r\nQ 1056 1369 1301 889 \r\nQ 1547 409 2034 409 \r\nQ 2525 409 2770 889 \r\nQ 3016 1369 3016 2328 \r\nQ 3016 3291 2770 3770 \r\nQ 2525 4250 2034 4250 \r\nz\r\nM 2034 4750 \r\nQ 2819 4750 3233 4129 \r\nQ 3647 3509 3647 2328 \r\nQ 3647 1150 3233 529 \r\nQ 2819 -91 2034 -91 \r\nQ 1250 -91 836 529 \r\nQ 422 1150 422 2328 \r\nQ 422 3509 836 4129 \r\nQ 1250 4750 2034 4750 \r\nz\r\n\" id=\"DejaVuSans-30\" transform=\"scale(0.015625)\"/>\r\n       </defs>\r\n       <use xlink:href=\"#DejaVuSans-31\"/>\r\n       <use x=\"63.623047\" xlink:href=\"#DejaVuSans-39\"/>\r\n       <use x=\"127.246094\" xlink:href=\"#DejaVuSans-33\"/>\r\n       <use x=\"190.869141\" xlink:href=\"#DejaVuSans-30\"/>\r\n      </g>\r\n     </g>\r\n    </g>\r\n    <g id=\"xtick_2\">\r\n     <g id=\"line2d_2\">\r\n      <g>\r\n       <use style=\"stroke:#000000;stroke-width:0.8;\" x=\"58.3975\" xlink:href=\"#m38543ce53f\" y=\"224.64\"/>\r\n      </g>\r\n     </g>\r\n     <g id=\"text_2\">\r\n      <!-- 1934 -->\r\n      <g transform=\"translate(61.156875 257.09)rotate(-90)scale(0.1 -0.1)\">\r\n       <defs>\r\n        <path d=\"M 2419 4116 \r\nL 825 1625 \r\nL 2419 1625 \r\nL 2419 4116 \r\nz\r\nM 2253 4666 \r\nL 3047 4666 \r\nL 3047 1625 \r\nL 3713 1625 \r\nL 3713 1100 \r\nL 3047 1100 \r\nL 3047 0 \r\nL 2419 0 \r\nL 2419 1100 \r\nL 313 1100 \r\nL 313 1709 \r\nL 2253 4666 \r\nz\r\n\" id=\"DejaVuSans-34\" transform=\"scale(0.015625)\"/>\r\n       </defs>\r\n       <use xlink:href=\"#DejaVuSans-31\"/>\r\n       <use x=\"63.623047\" xlink:href=\"#DejaVuSans-39\"/>\r\n       <use x=\"127.246094\" xlink:href=\"#DejaVuSans-33\"/>\r\n       <use x=\"190.869141\" xlink:href=\"#DejaVuSans-34\"/>\r\n      </g>\r\n     </g>\r\n    </g>\r\n    <g id=\"xtick_3\">\r\n     <g id=\"line2d_3\">\r\n      <g>\r\n       <use style=\"stroke:#000000;stroke-width:0.8;\" x=\"75.1375\" xlink:href=\"#m38543ce53f\" y=\"224.64\"/>\r\n      </g>\r\n     </g>\r\n     <g id=\"text_3\">\r\n      <!-- 1938 -->\r\n      <g transform=\"translate(77.896875 257.09)rotate(-90)scale(0.1 -0.1)\">\r\n       <defs>\r\n        <path d=\"M 2034 2216 \r\nQ 1584 2216 1326 1975 \r\nQ 1069 1734 1069 1313 \r\nQ 1069 891 1326 650 \r\nQ 1584 409 2034 409 \r\nQ 2484 409 2743 651 \r\nQ 3003 894 3003 1313 \r\nQ 3003 1734 2745 1975 \r\nQ 2488 2216 2034 2216 \r\nz\r\nM 1403 2484 \r\nQ 997 2584 770 2862 \r\nQ 544 3141 544 3541 \r\nQ 544 4100 942 4425 \r\nQ 1341 4750 2034 4750 \r\nQ 2731 4750 3128 4425 \r\nQ 3525 4100 3525 3541 \r\nQ 3525 3141 3298 2862 \r\nQ 3072 2584 2669 2484 \r\nQ 3125 2378 3379 2068 \r\nQ 3634 1759 3634 1313 \r\nQ 3634 634 3220 271 \r\nQ 2806 -91 2034 -91 \r\nQ 1263 -91 848 271 \r\nQ 434 634 434 1313 \r\nQ 434 1759 690 2068 \r\nQ 947 2378 1403 2484 \r\nz\r\nM 1172 3481 \r\nQ 1172 3119 1398 2916 \r\nQ 1625 2713 2034 2713 \r\nQ 2441 2713 2670 2916 \r\nQ 2900 3119 2900 3481 \r\nQ 2900 3844 2670 4047 \r\nQ 2441 4250 2034 4250 \r\nQ 1625 4250 1398 4047 \r\nQ 1172 3844 1172 3481 \r\nz\r\n\" id=\"DejaVuSans-38\" transform=\"scale(0.015625)\"/>\r\n       </defs>\r\n       <use xlink:href=\"#DejaVuSans-31\"/>\r\n       <use x=\"63.623047\" xlink:href=\"#DejaVuSans-39\"/>\r\n       <use x=\"127.246094\" xlink:href=\"#DejaVuSans-33\"/>\r\n       <use x=\"190.869141\" xlink:href=\"#DejaVuSans-38\"/>\r\n      </g>\r\n     </g>\r\n    </g>\r\n    <g id=\"xtick_4\">\r\n     <g id=\"line2d_4\">\r\n      <g>\r\n       <use style=\"stroke:#000000;stroke-width:0.8;\" x=\"91.8775\" xlink:href=\"#m38543ce53f\" y=\"224.64\"/>\r\n      </g>\r\n     </g>\r\n     <g id=\"text_4\">\r\n      <!-- 1950 -->\r\n      <g transform=\"translate(94.636875 257.09)rotate(-90)scale(0.1 -0.1)\">\r\n       <defs>\r\n        <path d=\"M 691 4666 \r\nL 3169 4666 \r\nL 3169 4134 \r\nL 1269 4134 \r\nL 1269 2991 \r\nQ 1406 3038 1543 3061 \r\nQ 1681 3084 1819 3084 \r\nQ 2600 3084 3056 2656 \r\nQ 3513 2228 3513 1497 \r\nQ 3513 744 3044 326 \r\nQ 2575 -91 1722 -91 \r\nQ 1428 -91 1123 -41 \r\nQ 819 9 494 109 \r\nL 494 744 \r\nQ 775 591 1075 516 \r\nQ 1375 441 1709 441 \r\nQ 2250 441 2565 725 \r\nQ 2881 1009 2881 1497 \r\nQ 2881 1984 2565 2268 \r\nQ 2250 2553 1709 2553 \r\nQ 1456 2553 1204 2497 \r\nQ 953 2441 691 2322 \r\nL 691 4666 \r\nz\r\n\" id=\"DejaVuSans-35\" transform=\"scale(0.015625)\"/>\r\n       </defs>\r\n       <use xlink:href=\"#DejaVuSans-31\"/>\r\n       <use x=\"63.623047\" xlink:href=\"#DejaVuSans-39\"/>\r\n       <use x=\"127.246094\" xlink:href=\"#DejaVuSans-35\"/>\r\n       <use x=\"190.869141\" xlink:href=\"#DejaVuSans-30\"/>\r\n      </g>\r\n     </g>\r\n    </g>\r\n    <g id=\"xtick_5\">\r\n     <g id=\"line2d_5\">\r\n      <g>\r\n       <use style=\"stroke:#000000;stroke-width:0.8;\" x=\"108.6175\" xlink:href=\"#m38543ce53f\" y=\"224.64\"/>\r\n      </g>\r\n     </g>\r\n     <g id=\"text_5\">\r\n      <!-- 1954 -->\r\n      <g transform=\"translate(111.376875 257.09)rotate(-90)scale(0.1 -0.1)\">\r\n       <use xlink:href=\"#DejaVuSans-31\"/>\r\n       <use x=\"63.623047\" xlink:href=\"#DejaVuSans-39\"/>\r\n       <use x=\"127.246094\" xlink:href=\"#DejaVuSans-35\"/>\r\n       <use x=\"190.869141\" xlink:href=\"#DejaVuSans-34\"/>\r\n      </g>\r\n     </g>\r\n    </g>\r\n    <g id=\"xtick_6\">\r\n     <g id=\"line2d_6\">\r\n      <g>\r\n       <use style=\"stroke:#000000;stroke-width:0.8;\" x=\"125.3575\" xlink:href=\"#m38543ce53f\" y=\"224.64\"/>\r\n      </g>\r\n     </g>\r\n     <g id=\"text_6\">\r\n      <!-- 1958 -->\r\n      <g transform=\"translate(128.116875 257.09)rotate(-90)scale(0.1 -0.1)\">\r\n       <use xlink:href=\"#DejaVuSans-31\"/>\r\n       <use x=\"63.623047\" xlink:href=\"#DejaVuSans-39\"/>\r\n       <use x=\"127.246094\" xlink:href=\"#DejaVuSans-35\"/>\r\n       <use x=\"190.869141\" xlink:href=\"#DejaVuSans-38\"/>\r\n      </g>\r\n     </g>\r\n    </g>\r\n    <g id=\"xtick_7\">\r\n     <g id=\"line2d_7\">\r\n      <g>\r\n       <use style=\"stroke:#000000;stroke-width:0.8;\" x=\"142.0975\" xlink:href=\"#m38543ce53f\" y=\"224.64\"/>\r\n      </g>\r\n     </g>\r\n     <g id=\"text_7\">\r\n      <!-- 1962 -->\r\n      <g transform=\"translate(144.856875 257.09)rotate(-90)scale(0.1 -0.1)\">\r\n       <defs>\r\n        <path d=\"M 2113 2584 \r\nQ 1688 2584 1439 2293 \r\nQ 1191 2003 1191 1497 \r\nQ 1191 994 1439 701 \r\nQ 1688 409 2113 409 \r\nQ 2538 409 2786 701 \r\nQ 3034 994 3034 1497 \r\nQ 3034 2003 2786 2293 \r\nQ 2538 2584 2113 2584 \r\nz\r\nM 3366 4563 \r\nL 3366 3988 \r\nQ 3128 4100 2886 4159 \r\nQ 2644 4219 2406 4219 \r\nQ 1781 4219 1451 3797 \r\nQ 1122 3375 1075 2522 \r\nQ 1259 2794 1537 2939 \r\nQ 1816 3084 2150 3084 \r\nQ 2853 3084 3261 2657 \r\nQ 3669 2231 3669 1497 \r\nQ 3669 778 3244 343 \r\nQ 2819 -91 2113 -91 \r\nQ 1303 -91 875 529 \r\nQ 447 1150 447 2328 \r\nQ 447 3434 972 4092 \r\nQ 1497 4750 2381 4750 \r\nQ 2619 4750 2861 4703 \r\nQ 3103 4656 3366 4563 \r\nz\r\n\" id=\"DejaVuSans-36\" transform=\"scale(0.015625)\"/>\r\n        <path d=\"M 1228 531 \r\nL 3431 531 \r\nL 3431 0 \r\nL 469 0 \r\nL 469 531 \r\nQ 828 903 1448 1529 \r\nQ 2069 2156 2228 2338 \r\nQ 2531 2678 2651 2914 \r\nQ 2772 3150 2772 3378 \r\nQ 2772 3750 2511 3984 \r\nQ 2250 4219 1831 4219 \r\nQ 1534 4219 1204 4116 \r\nQ 875 4013 500 3803 \r\nL 500 4441 \r\nQ 881 4594 1212 4672 \r\nQ 1544 4750 1819 4750 \r\nQ 2544 4750 2975 4387 \r\nQ 3406 4025 3406 3419 \r\nQ 3406 3131 3298 2873 \r\nQ 3191 2616 2906 2266 \r\nQ 2828 2175 2409 1742 \r\nQ 1991 1309 1228 531 \r\nz\r\n\" id=\"DejaVuSans-32\" transform=\"scale(0.015625)\"/>\r\n       </defs>\r\n       <use xlink:href=\"#DejaVuSans-31\"/>\r\n       <use x=\"63.623047\" xlink:href=\"#DejaVuSans-39\"/>\r\n       <use x=\"127.246094\" xlink:href=\"#DejaVuSans-36\"/>\r\n       <use x=\"190.869141\" xlink:href=\"#DejaVuSans-32\"/>\r\n      </g>\r\n     </g>\r\n    </g>\r\n    <g id=\"xtick_8\">\r\n     <g id=\"line2d_8\">\r\n      <g>\r\n       <use style=\"stroke:#000000;stroke-width:0.8;\" x=\"158.8375\" xlink:href=\"#m38543ce53f\" y=\"224.64\"/>\r\n      </g>\r\n     </g>\r\n     <g id=\"text_8\">\r\n      <!-- 1966 -->\r\n      <g transform=\"translate(161.596875 257.09)rotate(-90)scale(0.1 -0.1)\">\r\n       <use xlink:href=\"#DejaVuSans-31\"/>\r\n       <use x=\"63.623047\" xlink:href=\"#DejaVuSans-39\"/>\r\n       <use x=\"127.246094\" xlink:href=\"#DejaVuSans-36\"/>\r\n       <use x=\"190.869141\" xlink:href=\"#DejaVuSans-36\"/>\r\n      </g>\r\n     </g>\r\n    </g>\r\n    <g id=\"xtick_9\">\r\n     <g id=\"line2d_9\">\r\n      <g>\r\n       <use style=\"stroke:#000000;stroke-width:0.8;\" x=\"175.5775\" xlink:href=\"#m38543ce53f\" y=\"224.64\"/>\r\n      </g>\r\n     </g>\r\n     <g id=\"text_9\">\r\n      <!-- 1970 -->\r\n      <g transform=\"translate(178.336875 257.09)rotate(-90)scale(0.1 -0.1)\">\r\n       <defs>\r\n        <path d=\"M 525 4666 \r\nL 3525 4666 \r\nL 3525 4397 \r\nL 1831 0 \r\nL 1172 0 \r\nL 2766 4134 \r\nL 525 4134 \r\nL 525 4666 \r\nz\r\n\" id=\"DejaVuSans-37\" transform=\"scale(0.015625)\"/>\r\n       </defs>\r\n       <use xlink:href=\"#DejaVuSans-31\"/>\r\n       <use x=\"63.623047\" xlink:href=\"#DejaVuSans-39\"/>\r\n       <use x=\"127.246094\" xlink:href=\"#DejaVuSans-37\"/>\r\n       <use x=\"190.869141\" xlink:href=\"#DejaVuSans-30\"/>\r\n      </g>\r\n     </g>\r\n    </g>\r\n    <g id=\"xtick_10\">\r\n     <g id=\"line2d_10\">\r\n      <g>\r\n       <use style=\"stroke:#000000;stroke-width:0.8;\" x=\"192.3175\" xlink:href=\"#m38543ce53f\" y=\"224.64\"/>\r\n      </g>\r\n     </g>\r\n     <g id=\"text_10\">\r\n      <!-- 1974 -->\r\n      <g transform=\"translate(195.076875 257.09)rotate(-90)scale(0.1 -0.1)\">\r\n       <use xlink:href=\"#DejaVuSans-31\"/>\r\n       <use x=\"63.623047\" xlink:href=\"#DejaVuSans-39\"/>\r\n       <use x=\"127.246094\" xlink:href=\"#DejaVuSans-37\"/>\r\n       <use x=\"190.869141\" xlink:href=\"#DejaVuSans-34\"/>\r\n      </g>\r\n     </g>\r\n    </g>\r\n    <g id=\"xtick_11\">\r\n     <g id=\"line2d_11\">\r\n      <g>\r\n       <use style=\"stroke:#000000;stroke-width:0.8;\" x=\"209.0575\" xlink:href=\"#m38543ce53f\" y=\"224.64\"/>\r\n      </g>\r\n     </g>\r\n     <g id=\"text_11\">\r\n      <!-- 1978 -->\r\n      <g transform=\"translate(211.816875 257.09)rotate(-90)scale(0.1 -0.1)\">\r\n       <use xlink:href=\"#DejaVuSans-31\"/>\r\n       <use x=\"63.623047\" xlink:href=\"#DejaVuSans-39\"/>\r\n       <use x=\"127.246094\" xlink:href=\"#DejaVuSans-37\"/>\r\n       <use x=\"190.869141\" xlink:href=\"#DejaVuSans-38\"/>\r\n      </g>\r\n     </g>\r\n    </g>\r\n    <g id=\"xtick_12\">\r\n     <g id=\"line2d_12\">\r\n      <g>\r\n       <use style=\"stroke:#000000;stroke-width:0.8;\" x=\"225.7975\" xlink:href=\"#m38543ce53f\" y=\"224.64\"/>\r\n      </g>\r\n     </g>\r\n     <g id=\"text_12\">\r\n      <!-- 1982 -->\r\n      <g transform=\"translate(228.556875 257.09)rotate(-90)scale(0.1 -0.1)\">\r\n       <use xlink:href=\"#DejaVuSans-31\"/>\r\n       <use x=\"63.623047\" xlink:href=\"#DejaVuSans-39\"/>\r\n       <use x=\"127.246094\" xlink:href=\"#DejaVuSans-38\"/>\r\n       <use x=\"190.869141\" xlink:href=\"#DejaVuSans-32\"/>\r\n      </g>\r\n     </g>\r\n    </g>\r\n    <g id=\"xtick_13\">\r\n     <g id=\"line2d_13\">\r\n      <g>\r\n       <use style=\"stroke:#000000;stroke-width:0.8;\" x=\"242.5375\" xlink:href=\"#m38543ce53f\" y=\"224.64\"/>\r\n      </g>\r\n     </g>\r\n     <g id=\"text_13\">\r\n      <!-- 1986 -->\r\n      <g transform=\"translate(245.296875 257.09)rotate(-90)scale(0.1 -0.1)\">\r\n       <use xlink:href=\"#DejaVuSans-31\"/>\r\n       <use x=\"63.623047\" xlink:href=\"#DejaVuSans-39\"/>\r\n       <use x=\"127.246094\" xlink:href=\"#DejaVuSans-38\"/>\r\n       <use x=\"190.869141\" xlink:href=\"#DejaVuSans-36\"/>\r\n      </g>\r\n     </g>\r\n    </g>\r\n    <g id=\"xtick_14\">\r\n     <g id=\"line2d_14\">\r\n      <g>\r\n       <use style=\"stroke:#000000;stroke-width:0.8;\" x=\"259.2775\" xlink:href=\"#m38543ce53f\" y=\"224.64\"/>\r\n      </g>\r\n     </g>\r\n     <g id=\"text_14\">\r\n      <!-- 1990 -->\r\n      <g transform=\"translate(262.036875 257.09)rotate(-90)scale(0.1 -0.1)\">\r\n       <use xlink:href=\"#DejaVuSans-31\"/>\r\n       <use x=\"63.623047\" xlink:href=\"#DejaVuSans-39\"/>\r\n       <use x=\"127.246094\" xlink:href=\"#DejaVuSans-39\"/>\r\n       <use x=\"190.869141\" xlink:href=\"#DejaVuSans-30\"/>\r\n      </g>\r\n     </g>\r\n    </g>\r\n    <g id=\"xtick_15\">\r\n     <g id=\"line2d_15\">\r\n      <g>\r\n       <use style=\"stroke:#000000;stroke-width:0.8;\" x=\"276.0175\" xlink:href=\"#m38543ce53f\" y=\"224.64\"/>\r\n      </g>\r\n     </g>\r\n     <g id=\"text_15\">\r\n      <!-- 1994 -->\r\n      <g transform=\"translate(278.776875 257.09)rotate(-90)scale(0.1 -0.1)\">\r\n       <use xlink:href=\"#DejaVuSans-31\"/>\r\n       <use x=\"63.623047\" xlink:href=\"#DejaVuSans-39\"/>\r\n       <use x=\"127.246094\" xlink:href=\"#DejaVuSans-39\"/>\r\n       <use x=\"190.869141\" xlink:href=\"#DejaVuSans-34\"/>\r\n      </g>\r\n     </g>\r\n    </g>\r\n    <g id=\"xtick_16\">\r\n     <g id=\"line2d_16\">\r\n      <g>\r\n       <use style=\"stroke:#000000;stroke-width:0.8;\" x=\"292.7575\" xlink:href=\"#m38543ce53f\" y=\"224.64\"/>\r\n      </g>\r\n     </g>\r\n     <g id=\"text_16\">\r\n      <!-- 1998 -->\r\n      <g transform=\"translate(295.516875 257.09)rotate(-90)scale(0.1 -0.1)\">\r\n       <use xlink:href=\"#DejaVuSans-31\"/>\r\n       <use x=\"63.623047\" xlink:href=\"#DejaVuSans-39\"/>\r\n       <use x=\"127.246094\" xlink:href=\"#DejaVuSans-39\"/>\r\n       <use x=\"190.869141\" xlink:href=\"#DejaVuSans-38\"/>\r\n      </g>\r\n     </g>\r\n    </g>\r\n    <g id=\"xtick_17\">\r\n     <g id=\"line2d_17\">\r\n      <g>\r\n       <use style=\"stroke:#000000;stroke-width:0.8;\" x=\"309.4975\" xlink:href=\"#m38543ce53f\" y=\"224.64\"/>\r\n      </g>\r\n     </g>\r\n     <g id=\"text_17\">\r\n      <!-- 2002 -->\r\n      <g transform=\"translate(312.256875 257.09)rotate(-90)scale(0.1 -0.1)\">\r\n       <use xlink:href=\"#DejaVuSans-32\"/>\r\n       <use x=\"63.623047\" xlink:href=\"#DejaVuSans-30\"/>\r\n       <use x=\"127.246094\" xlink:href=\"#DejaVuSans-30\"/>\r\n       <use x=\"190.869141\" xlink:href=\"#DejaVuSans-32\"/>\r\n      </g>\r\n     </g>\r\n    </g>\r\n    <g id=\"xtick_18\">\r\n     <g id=\"line2d_18\">\r\n      <g>\r\n       <use style=\"stroke:#000000;stroke-width:0.8;\" x=\"326.2375\" xlink:href=\"#m38543ce53f\" y=\"224.64\"/>\r\n      </g>\r\n     </g>\r\n     <g id=\"text_18\">\r\n      <!-- 2006 -->\r\n      <g transform=\"translate(328.996875 257.09)rotate(-90)scale(0.1 -0.1)\">\r\n       <use xlink:href=\"#DejaVuSans-32\"/>\r\n       <use x=\"63.623047\" xlink:href=\"#DejaVuSans-30\"/>\r\n       <use x=\"127.246094\" xlink:href=\"#DejaVuSans-30\"/>\r\n       <use x=\"190.869141\" xlink:href=\"#DejaVuSans-36\"/>\r\n      </g>\r\n     </g>\r\n    </g>\r\n    <g id=\"xtick_19\">\r\n     <g id=\"line2d_19\">\r\n      <g>\r\n       <use style=\"stroke:#000000;stroke-width:0.8;\" x=\"342.9775\" xlink:href=\"#m38543ce53f\" y=\"224.64\"/>\r\n      </g>\r\n     </g>\r\n     <g id=\"text_19\">\r\n      <!-- 2010 -->\r\n      <g transform=\"translate(345.736875 257.09)rotate(-90)scale(0.1 -0.1)\">\r\n       <use xlink:href=\"#DejaVuSans-32\"/>\r\n       <use x=\"63.623047\" xlink:href=\"#DejaVuSans-30\"/>\r\n       <use x=\"127.246094\" xlink:href=\"#DejaVuSans-31\"/>\r\n       <use x=\"190.869141\" xlink:href=\"#DejaVuSans-30\"/>\r\n      </g>\r\n     </g>\r\n    </g>\r\n    <g id=\"xtick_20\">\r\n     <g id=\"line2d_20\">\r\n      <g>\r\n       <use style=\"stroke:#000000;stroke-width:0.8;\" x=\"359.7175\" xlink:href=\"#m38543ce53f\" y=\"224.64\"/>\r\n      </g>\r\n     </g>\r\n     <g id=\"text_20\">\r\n      <!-- 2014 -->\r\n      <g transform=\"translate(362.476875 257.09)rotate(-90)scale(0.1 -0.1)\">\r\n       <use xlink:href=\"#DejaVuSans-32\"/>\r\n       <use x=\"63.623047\" xlink:href=\"#DejaVuSans-30\"/>\r\n       <use x=\"127.246094\" xlink:href=\"#DejaVuSans-31\"/>\r\n       <use x=\"190.869141\" xlink:href=\"#DejaVuSans-34\"/>\r\n      </g>\r\n     </g>\r\n    </g>\r\n    <g id=\"text_21\">\r\n     <!-- Year -->\r\n     <g transform=\"translate(190.1 268.688437)scale(0.1 -0.1)\">\r\n      <defs>\r\n       <path d=\"M -13 4666 \r\nL 666 4666 \r\nL 1959 2747 \r\nL 3244 4666 \r\nL 3922 4666 \r\nL 2272 2222 \r\nL 2272 0 \r\nL 1638 0 \r\nL 1638 2222 \r\nL -13 4666 \r\nz\r\n\" id=\"DejaVuSans-59\" transform=\"scale(0.015625)\"/>\r\n       <path d=\"M 3597 1894 \r\nL 3597 1613 \r\nL 953 1613 \r\nQ 991 1019 1311 708 \r\nQ 1631 397 2203 397 \r\nQ 2534 397 2845 478 \r\nQ 3156 559 3463 722 \r\nL 3463 178 \r\nQ 3153 47 2828 -22 \r\nQ 2503 -91 2169 -91 \r\nQ 1331 -91 842 396 \r\nQ 353 884 353 1716 \r\nQ 353 2575 817 3079 \r\nQ 1281 3584 2069 3584 \r\nQ 2775 3584 3186 3129 \r\nQ 3597 2675 3597 1894 \r\nz\r\nM 3022 2063 \r\nQ 3016 2534 2758 2815 \r\nQ 2500 3097 2075 3097 \r\nQ 1594 3097 1305 2825 \r\nQ 1016 2553 972 2059 \r\nL 3022 2063 \r\nz\r\n\" id=\"DejaVuSans-65\" transform=\"scale(0.015625)\"/>\r\n       <path d=\"M 2194 1759 \r\nQ 1497 1759 1228 1600 \r\nQ 959 1441 959 1056 \r\nQ 959 750 1161 570 \r\nQ 1363 391 1709 391 \r\nQ 2188 391 2477 730 \r\nQ 2766 1069 2766 1631 \r\nL 2766 1759 \r\nL 2194 1759 \r\nz\r\nM 3341 1997 \r\nL 3341 0 \r\nL 2766 0 \r\nL 2766 531 \r\nQ 2569 213 2275 61 \r\nQ 1981 -91 1556 -91 \r\nQ 1019 -91 701 211 \r\nQ 384 513 384 1019 \r\nQ 384 1609 779 1909 \r\nQ 1175 2209 1959 2209 \r\nL 2766 2209 \r\nL 2766 2266 \r\nQ 2766 2663 2505 2880 \r\nQ 2244 3097 1772 3097 \r\nQ 1472 3097 1187 3025 \r\nQ 903 2953 641 2809 \r\nL 641 3341 \r\nQ 956 3463 1253 3523 \r\nQ 1550 3584 1831 3584 \r\nQ 2591 3584 2966 3190 \r\nQ 3341 2797 3341 1997 \r\nz\r\n\" id=\"DejaVuSans-61\" transform=\"scale(0.015625)\"/>\r\n       <path d=\"M 2631 2963 \r\nQ 2534 3019 2420 3045 \r\nQ 2306 3072 2169 3072 \r\nQ 1681 3072 1420 2755 \r\nQ 1159 2438 1159 1844 \r\nL 1159 0 \r\nL 581 0 \r\nL 581 3500 \r\nL 1159 3500 \r\nL 1159 2956 \r\nQ 1341 3275 1631 3429 \r\nQ 1922 3584 2338 3584 \r\nQ 2397 3584 2469 3576 \r\nQ 2541 3569 2628 3553 \r\nL 2631 2963 \r\nz\r\n\" id=\"DejaVuSans-72\" transform=\"scale(0.015625)\"/>\r\n      </defs>\r\n      <use xlink:href=\"#DejaVuSans-59\"/>\r\n      <use x=\"47.833984\" xlink:href=\"#DejaVuSans-65\"/>\r\n      <use x=\"109.357422\" xlink:href=\"#DejaVuSans-61\"/>\r\n      <use x=\"170.636719\" xlink:href=\"#DejaVuSans-72\"/>\r\n     </g>\r\n    </g>\r\n   </g>\r\n   <g id=\"matplotlib.axis_2\">\r\n    <g id=\"ytick_1\">\r\n     <g id=\"line2d_21\">\r\n      <defs>\r\n       <path d=\"M 0 0 \r\nL -3.5 0 \r\n\" id=\"m0ab2de9e39\" style=\"stroke:#000000;stroke-width:0.8;\"/>\r\n      </defs>\r\n      <g>\r\n       <use style=\"stroke:#000000;stroke-width:0.8;\" x=\"33.2875\" xlink:href=\"#m0ab2de9e39\" y=\"224.64\"/>\r\n      </g>\r\n     </g>\r\n     <g id=\"text_22\">\r\n      <!-- 0 -->\r\n      <g transform=\"translate(19.925 228.439219)scale(0.1 -0.1)\">\r\n       <use xlink:href=\"#DejaVuSans-30\"/>\r\n      </g>\r\n     </g>\r\n    </g>\r\n    <g id=\"ytick_2\">\r\n     <g id=\"line2d_22\">\r\n      <g>\r\n       <use style=\"stroke:#000000;stroke-width:0.8;\" x=\"33.2875\" xlink:href=\"#m0ab2de9e39\" y=\"200.419449\"/>\r\n      </g>\r\n     </g>\r\n     <g id=\"text_23\">\r\n      <!-- 20 -->\r\n      <g transform=\"translate(13.5625 204.218667)scale(0.1 -0.1)\">\r\n       <use xlink:href=\"#DejaVuSans-32\"/>\r\n       <use x=\"63.623047\" xlink:href=\"#DejaVuSans-30\"/>\r\n      </g>\r\n     </g>\r\n    </g>\r\n    <g id=\"ytick_3\">\r\n     <g id=\"line2d_23\">\r\n      <g>\r\n       <use style=\"stroke:#000000;stroke-width:0.8;\" x=\"33.2875\" xlink:href=\"#m0ab2de9e39\" y=\"176.198897\"/>\r\n      </g>\r\n     </g>\r\n     <g id=\"text_24\">\r\n      <!-- 40 -->\r\n      <g transform=\"translate(13.5625 179.998116)scale(0.1 -0.1)\">\r\n       <use xlink:href=\"#DejaVuSans-34\"/>\r\n       <use x=\"63.623047\" xlink:href=\"#DejaVuSans-30\"/>\r\n      </g>\r\n     </g>\r\n    </g>\r\n    <g id=\"ytick_4\">\r\n     <g id=\"line2d_24\">\r\n      <g>\r\n       <use style=\"stroke:#000000;stroke-width:0.8;\" x=\"33.2875\" xlink:href=\"#m0ab2de9e39\" y=\"151.978346\"/>\r\n      </g>\r\n     </g>\r\n     <g id=\"text_25\">\r\n      <!-- 60 -->\r\n      <g transform=\"translate(13.5625 155.777565)scale(0.1 -0.1)\">\r\n       <use xlink:href=\"#DejaVuSans-36\"/>\r\n       <use x=\"63.623047\" xlink:href=\"#DejaVuSans-30\"/>\r\n      </g>\r\n     </g>\r\n    </g>\r\n    <g id=\"ytick_5\">\r\n     <g id=\"line2d_25\">\r\n      <g>\r\n       <use style=\"stroke:#000000;stroke-width:0.8;\" x=\"33.2875\" xlink:href=\"#m0ab2de9e39\" y=\"127.757794\"/>\r\n      </g>\r\n     </g>\r\n     <g id=\"text_26\">\r\n      <!-- 80 -->\r\n      <g transform=\"translate(13.5625 131.557013)scale(0.1 -0.1)\">\r\n       <use xlink:href=\"#DejaVuSans-38\"/>\r\n       <use x=\"63.623047\" xlink:href=\"#DejaVuSans-30\"/>\r\n      </g>\r\n     </g>\r\n    </g>\r\n    <g id=\"ytick_6\">\r\n     <g id=\"line2d_26\">\r\n      <g>\r\n       <use style=\"stroke:#000000;stroke-width:0.8;\" x=\"33.2875\" xlink:href=\"#m0ab2de9e39\" y=\"103.537243\"/>\r\n      </g>\r\n     </g>\r\n     <g id=\"text_27\">\r\n      <!-- 100 -->\r\n      <g transform=\"translate(7.2 107.336462)scale(0.1 -0.1)\">\r\n       <use xlink:href=\"#DejaVuSans-31\"/>\r\n       <use x=\"63.623047\" xlink:href=\"#DejaVuSans-30\"/>\r\n       <use x=\"127.246094\" xlink:href=\"#DejaVuSans-30\"/>\r\n      </g>\r\n     </g>\r\n    </g>\r\n    <g id=\"ytick_7\">\r\n     <g id=\"line2d_27\">\r\n      <g>\r\n       <use style=\"stroke:#000000;stroke-width:0.8;\" x=\"33.2875\" xlink:href=\"#m0ab2de9e39\" y=\"79.316692\"/>\r\n      </g>\r\n     </g>\r\n     <g id=\"text_28\">\r\n      <!-- 120 -->\r\n      <g transform=\"translate(7.2 83.11591)scale(0.1 -0.1)\">\r\n       <use xlink:href=\"#DejaVuSans-31\"/>\r\n       <use x=\"63.623047\" xlink:href=\"#DejaVuSans-32\"/>\r\n       <use x=\"127.246094\" xlink:href=\"#DejaVuSans-30\"/>\r\n      </g>\r\n     </g>\r\n    </g>\r\n    <g id=\"ytick_8\">\r\n     <g id=\"line2d_28\">\r\n      <g>\r\n       <use style=\"stroke:#000000;stroke-width:0.8;\" x=\"33.2875\" xlink:href=\"#m0ab2de9e39\" y=\"55.09614\"/>\r\n      </g>\r\n     </g>\r\n     <g id=\"text_29\">\r\n      <!-- 140 -->\r\n      <g transform=\"translate(7.2 58.895359)scale(0.1 -0.1)\">\r\n       <use xlink:href=\"#DejaVuSans-31\"/>\r\n       <use x=\"63.623047\" xlink:href=\"#DejaVuSans-34\"/>\r\n       <use x=\"127.246094\" xlink:href=\"#DejaVuSans-30\"/>\r\n      </g>\r\n     </g>\r\n    </g>\r\n    <g id=\"ytick_9\">\r\n     <g id=\"line2d_29\">\r\n      <g>\r\n       <use style=\"stroke:#000000;stroke-width:0.8;\" x=\"33.2875\" xlink:href=\"#m0ab2de9e39\" y=\"30.875589\"/>\r\n      </g>\r\n     </g>\r\n     <g id=\"text_30\">\r\n      <!-- 160 -->\r\n      <g transform=\"translate(7.2 34.674808)scale(0.1 -0.1)\">\r\n       <use xlink:href=\"#DejaVuSans-31\"/>\r\n       <use x=\"63.623047\" xlink:href=\"#DejaVuSans-36\"/>\r\n       <use x=\"127.246094\" xlink:href=\"#DejaVuSans-30\"/>\r\n      </g>\r\n     </g>\r\n    </g>\r\n   </g>\r\n   <g id=\"patch_23\">\r\n    <path d=\"M 33.2875 224.64 \r\nL 33.2875 7.2 \r\n\" style=\"fill:none;stroke:#000000;stroke-linecap:square;stroke-linejoin:miter;stroke-width:0.8;\"/>\r\n   </g>\r\n   <g id=\"patch_24\">\r\n    <path d=\"M 368.0875 224.64 \r\nL 368.0875 7.2 \r\n\" style=\"fill:none;stroke:#000000;stroke-linecap:square;stroke-linejoin:miter;stroke-width:0.8;\"/>\r\n   </g>\r\n   <g id=\"patch_25\">\r\n    <path d=\"M 33.2875 224.64 \r\nL 368.0875 224.64 \r\n\" style=\"fill:none;stroke:#000000;stroke-linecap:square;stroke-linejoin:miter;stroke-width:0.8;\"/>\r\n   </g>\r\n   <g id=\"patch_26\">\r\n    <path d=\"M 33.2875 7.2 \r\nL 368.0875 7.2 \r\n\" style=\"fill:none;stroke:#000000;stroke-linecap:square;stroke-linejoin:miter;stroke-width:0.8;\"/>\r\n   </g>\r\n   <g id=\"legend_1\">\r\n    <g id=\"patch_27\">\r\n     <path d=\"M 40.2875 29.878125 \r\nL 134.623438 29.878125 \r\nQ 136.623438 29.878125 136.623438 27.878125 \r\nL 136.623438 14.2 \r\nQ 136.623438 12.2 134.623438 12.2 \r\nL 40.2875 12.2 \r\nQ 38.2875 12.2 38.2875 14.2 \r\nL 38.2875 27.878125 \r\nQ 38.2875 29.878125 40.2875 29.878125 \r\nz\r\n\" style=\"fill:#ffffff;opacity:0.8;stroke:#cccccc;stroke-linejoin:miter;\"/>\r\n    </g>\r\n    <g id=\"patch_28\">\r\n     <path d=\"M 42.2875 23.798437 \r\nL 62.2875 23.798437 \r\nL 62.2875 16.798437 \r\nL 42.2875 16.798437 \r\nz\r\n\" style=\"fill:#1f77b4;\"/>\r\n    </g>\r\n    <g id=\"text_31\">\r\n     <!-- GoalsScored -->\r\n     <g transform=\"translate(70.2875 23.798437)scale(0.1 -0.1)\">\r\n      <defs>\r\n       <path d=\"M 3809 666 \r\nL 3809 1919 \r\nL 2778 1919 \r\nL 2778 2438 \r\nL 4434 2438 \r\nL 4434 434 \r\nQ 4069 175 3628 42 \r\nQ 3188 -91 2688 -91 \r\nQ 1594 -91 976 548 \r\nQ 359 1188 359 2328 \r\nQ 359 3472 976 4111 \r\nQ 1594 4750 2688 4750 \r\nQ 3144 4750 3555 4637 \r\nQ 3966 4525 4313 4306 \r\nL 4313 3634 \r\nQ 3963 3931 3569 4081 \r\nQ 3175 4231 2741 4231 \r\nQ 1884 4231 1454 3753 \r\nQ 1025 3275 1025 2328 \r\nQ 1025 1384 1454 906 \r\nQ 1884 428 2741 428 \r\nQ 3075 428 3337 486 \r\nQ 3600 544 3809 666 \r\nz\r\n\" id=\"DejaVuSans-47\" transform=\"scale(0.015625)\"/>\r\n       <path d=\"M 1959 3097 \r\nQ 1497 3097 1228 2736 \r\nQ 959 2375 959 1747 \r\nQ 959 1119 1226 758 \r\nQ 1494 397 1959 397 \r\nQ 2419 397 2687 759 \r\nQ 2956 1122 2956 1747 \r\nQ 2956 2369 2687 2733 \r\nQ 2419 3097 1959 3097 \r\nz\r\nM 1959 3584 \r\nQ 2709 3584 3137 3096 \r\nQ 3566 2609 3566 1747 \r\nQ 3566 888 3137 398 \r\nQ 2709 -91 1959 -91 \r\nQ 1206 -91 779 398 \r\nQ 353 888 353 1747 \r\nQ 353 2609 779 3096 \r\nQ 1206 3584 1959 3584 \r\nz\r\n\" id=\"DejaVuSans-6f\" transform=\"scale(0.015625)\"/>\r\n       <path d=\"M 603 4863 \r\nL 1178 4863 \r\nL 1178 0 \r\nL 603 0 \r\nL 603 4863 \r\nz\r\n\" id=\"DejaVuSans-6c\" transform=\"scale(0.015625)\"/>\r\n       <path d=\"M 2834 3397 \r\nL 2834 2853 \r\nQ 2591 2978 2328 3040 \r\nQ 2066 3103 1784 3103 \r\nQ 1356 3103 1142 2972 \r\nQ 928 2841 928 2578 \r\nQ 928 2378 1081 2264 \r\nQ 1234 2150 1697 2047 \r\nL 1894 2003 \r\nQ 2506 1872 2764 1633 \r\nQ 3022 1394 3022 966 \r\nQ 3022 478 2636 193 \r\nQ 2250 -91 1575 -91 \r\nQ 1294 -91 989 -36 \r\nQ 684 19 347 128 \r\nL 347 722 \r\nQ 666 556 975 473 \r\nQ 1284 391 1588 391 \r\nQ 1994 391 2212 530 \r\nQ 2431 669 2431 922 \r\nQ 2431 1156 2273 1281 \r\nQ 2116 1406 1581 1522 \r\nL 1381 1569 \r\nQ 847 1681 609 1914 \r\nQ 372 2147 372 2553 \r\nQ 372 3047 722 3315 \r\nQ 1072 3584 1716 3584 \r\nQ 2034 3584 2315 3537 \r\nQ 2597 3491 2834 3397 \r\nz\r\n\" id=\"DejaVuSans-73\" transform=\"scale(0.015625)\"/>\r\n       <path d=\"M 3425 4513 \r\nL 3425 3897 \r\nQ 3066 4069 2747 4153 \r\nQ 2428 4238 2131 4238 \r\nQ 1616 4238 1336 4038 \r\nQ 1056 3838 1056 3469 \r\nQ 1056 3159 1242 3001 \r\nQ 1428 2844 1947 2747 \r\nL 2328 2669 \r\nQ 3034 2534 3370 2195 \r\nQ 3706 1856 3706 1288 \r\nQ 3706 609 3251 259 \r\nQ 2797 -91 1919 -91 \r\nQ 1588 -91 1214 -16 \r\nQ 841 59 441 206 \r\nL 441 856 \r\nQ 825 641 1194 531 \r\nQ 1563 422 1919 422 \r\nQ 2459 422 2753 634 \r\nQ 3047 847 3047 1241 \r\nQ 3047 1584 2836 1778 \r\nQ 2625 1972 2144 2069 \r\nL 1759 2144 \r\nQ 1053 2284 737 2584 \r\nQ 422 2884 422 3419 \r\nQ 422 4038 858 4394 \r\nQ 1294 4750 2059 4750 \r\nQ 2388 4750 2728 4690 \r\nQ 3069 4631 3425 4513 \r\nz\r\n\" id=\"DejaVuSans-53\" transform=\"scale(0.015625)\"/>\r\n       <path d=\"M 3122 3366 \r\nL 3122 2828 \r\nQ 2878 2963 2633 3030 \r\nQ 2388 3097 2138 3097 \r\nQ 1578 3097 1268 2742 \r\nQ 959 2388 959 1747 \r\nQ 959 1106 1268 751 \r\nQ 1578 397 2138 397 \r\nQ 2388 397 2633 464 \r\nQ 2878 531 3122 666 \r\nL 3122 134 \r\nQ 2881 22 2623 -34 \r\nQ 2366 -91 2075 -91 \r\nQ 1284 -91 818 406 \r\nQ 353 903 353 1747 \r\nQ 353 2603 823 3093 \r\nQ 1294 3584 2113 3584 \r\nQ 2378 3584 2631 3529 \r\nQ 2884 3475 3122 3366 \r\nz\r\n\" id=\"DejaVuSans-63\" transform=\"scale(0.015625)\"/>\r\n       <path d=\"M 2906 2969 \r\nL 2906 4863 \r\nL 3481 4863 \r\nL 3481 0 \r\nL 2906 0 \r\nL 2906 525 \r\nQ 2725 213 2448 61 \r\nQ 2172 -91 1784 -91 \r\nQ 1150 -91 751 415 \r\nQ 353 922 353 1747 \r\nQ 353 2572 751 3078 \r\nQ 1150 3584 1784 3584 \r\nQ 2172 3584 2448 3432 \r\nQ 2725 3281 2906 2969 \r\nz\r\nM 947 1747 \r\nQ 947 1113 1208 752 \r\nQ 1469 391 1925 391 \r\nQ 2381 391 2643 752 \r\nQ 2906 1113 2906 1747 \r\nQ 2906 2381 2643 2742 \r\nQ 2381 3103 1925 3103 \r\nQ 1469 3103 1208 2742 \r\nQ 947 2381 947 1747 \r\nz\r\n\" id=\"DejaVuSans-64\" transform=\"scale(0.015625)\"/>\r\n      </defs>\r\n      <use xlink:href=\"#DejaVuSans-47\"/>\r\n      <use x=\"77.490234\" xlink:href=\"#DejaVuSans-6f\"/>\r\n      <use x=\"138.671875\" xlink:href=\"#DejaVuSans-61\"/>\r\n      <use x=\"199.951172\" xlink:href=\"#DejaVuSans-6c\"/>\r\n      <use x=\"227.734375\" xlink:href=\"#DejaVuSans-73\"/>\r\n      <use x=\"279.833984\" xlink:href=\"#DejaVuSans-53\"/>\r\n      <use x=\"343.310547\" xlink:href=\"#DejaVuSans-63\"/>\r\n      <use x=\"398.291016\" xlink:href=\"#DejaVuSans-6f\"/>\r\n      <use x=\"459.472656\" xlink:href=\"#DejaVuSans-72\"/>\r\n      <use x=\"498.335938\" xlink:href=\"#DejaVuSans-65\"/>\r\n      <use x=\"559.859375\" xlink:href=\"#DejaVuSans-64\"/>\r\n     </g>\r\n    </g>\r\n   </g>\r\n  </g>\r\n </g>\r\n <defs>\r\n  <clipPath id=\"pcc2be43342\">\r\n   <rect height=\"217.44\" width=\"334.8\" x=\"33.2875\" y=\"7.2\"/>\r\n  </clipPath>\r\n </defs>\r\n</svg>\r\n",
      "image/png": "[encoded data removed]"
     },
     "metadata": {
      "needs_background": "light"
     }
    }
   ],
   "source": [
    "df_mundiales.plot(kind = 'bar', x = 'Year', y = 'GoalsScored')"
   ]
  },
  {
   "cell_type": "code",
   "execution_count": null,
   "metadata": {},
   "outputs": [],
   "source": []
  }
 ]
}