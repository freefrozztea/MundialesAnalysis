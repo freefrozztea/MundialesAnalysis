{
 "metadata": {
  "language_info": {
   "codemirror_mode": {
    "name": "ipython",
    "version": 3
   },
   "file_extension": ".py",
   "mimetype": "text/x-python",
   "name": "python",
   "nbconvert_exporter": "python",
   "pygments_lexer": "ipython3",
   "version": "3.7.8"
  },
  "orig_nbformat": 2,
  "kernelspec": {
   "name": "python378jvsc74a57bd032f262ceacbcee35c301e541b72ba64e26a93751cc3370651951bddbfcf1b724",
   "display_name": "Python 3.7.8 32-bit"
  },
  "metadata": {
   "interpreter": {
    "hash": "32f262ceacbcee35c301e541b72ba64e26a93751cc3370651951bddbfcf1b724"
   }
  }
 },
 "nbformat": 4,
 "nbformat_minor": 2,
 "cells": [
  {
   "cell_type": "code",
   "execution_count": 2,
   "metadata": {},
   "outputs": [],
   "source": [
    "import numpy\n",
    "import pandas as pd\n",
    "import os"
   ]
  },
  {
   "cell_type": "code",
   "execution_count": 14,
   "metadata": {},
   "outputs": [],
   "source": [
    "df_mundiales = pd.read_excel('./DatasetsInput/world_cups2.xlsx', sheet_name='world_cups')"
   ]
  },
  {
   "cell_type": "code",
   "execution_count": 15,
   "metadata": {},
   "outputs": [
    {
     "output_type": "execute_result",
     "data": {
      "text/plain": [
       "   Year      Country      Winner      Runners-Up    Third      Fourth  \\\n",
       "0  1930      Uruguay     Uruguay       Argentina      USA  Yugoslavia   \n",
       "1  1934        Italy       Italy  Czechoslovakia  Germany     Austria   \n",
       "2  1938       France       Italy         Hungary   Brazil      Sweden   \n",
       "3  1950       Brazil     Uruguay          Brazil   Sweden       Spain   \n",
       "4  1954  Switzerland  Germany FR         Hungary  Austria     Uruguay   \n",
       "\n",
       "   GoalsScored  QualifiedTeams  MatchesPlayed Attendance  \n",
       "0           70              13             18    590.549  \n",
       "1           70              16             17        363  \n",
       "2           84              15             18      375.7  \n",
       "3           88              13             22  1.045.246  \n",
       "4          140              16             26    768.607  "
      ],
      "text/html": "<div>\n<style scoped>\n    .dataframe tbody tr th:only-of-type {\n        vertical-align: middle;\n    }\n\n    .dataframe tbody tr th {\n        vertical-align: top;\n    }\n\n    .dataframe thead th {\n        text-align: right;\n    }\n</style>\n<table border=\"1\" class=\"dataframe\">\n  <thead>\n    <tr style=\"text-align: right;\">\n      <th></th>\n      <th>Year</th>\n      <th>Country</th>\n      <th>Winner</th>\n      <th>Runners-Up</th>\n      <th>Third</th>\n      <th>Fourth</th>\n      <th>GoalsScored</th>\n      <th>QualifiedTeams</th>\n      <th>MatchesPlayed</th>\n      <th>Attendance</th>\n    </tr>\n  </thead>\n  <tbody>\n    <tr>\n      <th>0</th>\n      <td>1930</td>\n      <td>Uruguay</td>\n      <td>Uruguay</td>\n      <td>Argentina</td>\n      <td>USA</td>\n      <td>Yugoslavia</td>\n      <td>70</td>\n      <td>13</td>\n      <td>18</td>\n      <td>590.549</td>\n    </tr>\n    <tr>\n      <th>1</th>\n      <td>1934</td>\n      <td>Italy</td>\n      <td>Italy</td>\n      <td>Czechoslovakia</td>\n      <td>Germany</td>\n      <td>Austria</td>\n      <td>70</td>\n      <td>16</td>\n      <td>17</td>\n      <td>363</td>\n    </tr>\n    <tr>\n      <th>2</th>\n      <td>1938</td>\n      <td>France</td>\n      <td>Italy</td>\n      <td>Hungary</td>\n      <td>Brazil</td>\n      <td>Sweden</td>\n      <td>84</td>\n      <td>15</td>\n      <td>18</td>\n      <td>375.7</td>\n    </tr>\n    <tr>\n      <th>3</th>\n      <td>1950</td>\n      <td>Brazil</td>\n      <td>Uruguay</td>\n      <td>Brazil</td>\n      <td>Sweden</td>\n      <td>Spain</td>\n      <td>88</td>\n      <td>13</td>\n      <td>22</td>\n      <td>1.045.246</td>\n    </tr>\n    <tr>\n      <th>4</th>\n      <td>1954</td>\n      <td>Switzerland</td>\n      <td>Germany FR</td>\n      <td>Hungary</td>\n      <td>Austria</td>\n      <td>Uruguay</td>\n      <td>140</td>\n      <td>16</td>\n      <td>26</td>\n      <td>768.607</td>\n    </tr>\n  </tbody>\n</table>\n</div>"
     },
     "metadata": {},
     "execution_count": 15
    }
   ],
   "source": [
    "df_mundiales.head()"
   ]
  },
  {
   "cell_type": "code",
   "execution_count": 49,
   "metadata": {},
   "outputs": [
    {
     "output_type": "execute_result",
     "data": {
      "text/plain": [
       "   Year              Datetime    Stage         Stadium         City  \\\n",
       "0  1930  13 Jul 1930 - 15:00   Group 1         Pocitos  Montevideo    \n",
       "1  1930  13 Jul 1930 - 15:00   Group 4  Parque Central  Montevideo    \n",
       "2  1930  14 Jul 1930 - 12:45   Group 2  Parque Central  Montevideo    \n",
       "3  1930  14 Jul 1930 - 14:50   Group 3         Pocitos  Montevideo    \n",
       "4  1930  15 Jul 1930 - 16:00   Group 1  Parque Central  Montevideo    \n",
       "\n",
       "  Home Team Name  Home Team Goals  Away Team Goals Away Team Name  \\\n",
       "0         France                4                1         Mexico   \n",
       "1            USA                3                0        Belgium   \n",
       "2     Yugoslavia                2                1         Brazil   \n",
       "3        Romania                3                1           Peru   \n",
       "4      Argentina                1                0         France   \n",
       "\n",
       "  Win conditions  Attendance  Half-time Home Goals  Half-time Away Goals  \\\n",
       "0                     4444.0                     3                     0   \n",
       "1                    18346.0                     2                     0   \n",
       "2                    24059.0                     2                     0   \n",
       "3                     2549.0                     1                     0   \n",
       "4                    23409.0                     0                     0   \n",
       "\n",
       "                  Referee               Assistant 1  \\\n",
       "0  LOMBARDI Domingo (URU)     CRISTOPHE Henry (BEL)   \n",
       "1       MACIAS Jose (ARG)  MATEUCCI Francisco (URU)   \n",
       "2     TEJADA Anibal (URU)   VALLARINO Ricardo (URU)   \n",
       "3   WARNKEN Alberto (CHI)       LANGENUS Jean (BEL)   \n",
       "4     REGO Gilberto (BRA)      SAUCEDO Ulises (BOL)   \n",
       "\n",
       "                  Assistant 2  RoundID  MatchID Home Team Initials  \\\n",
       "0         REGO Gilberto (BRA)      201     1096                FRA   \n",
       "1       WARNKEN Alberto (CHI)      201     1090                USA   \n",
       "2         BALWAY Thomas (FRA)      201     1093                YUG   \n",
       "3    MATEUCCI Francisco (URU)      201     1098                ROU   \n",
       "4  RADULESCU Constantin (ROU)      201     1085                ARG   \n",
       "\n",
       "  Away Team Initials  \n",
       "0                MEX  \n",
       "1                BEL  \n",
       "2                BRA  \n",
       "3                PER  \n",
       "4                FRA  "
      ],
      "text/html": "<div>\n<style scoped>\n    .dataframe tbody tr th:only-of-type {\n        vertical-align: middle;\n    }\n\n    .dataframe tbody tr th {\n        vertical-align: top;\n    }\n\n    .dataframe thead th {\n        text-align: right;\n    }\n</style>\n<table border=\"1\" class=\"dataframe\">\n  <thead>\n    <tr style=\"text-align: right;\">\n      <th></th>\n      <th>Year</th>\n      <th>Datetime</th>\n      <th>Stage</th>\n      <th>Stadium</th>\n      <th>City</th>\n      <th>Home Team Name</th>\n      <th>Home Team Goals</th>\n      <th>Away Team Goals</th>\n      <th>Away Team Name</th>\n      <th>Win conditions</th>\n      <th>Attendance</th>\n      <th>Half-time Home Goals</th>\n      <th>Half-time Away Goals</th>\n      <th>Referee</th>\n      <th>Assistant 1</th>\n      <th>Assistant 2</th>\n      <th>RoundID</th>\n      <th>MatchID</th>\n      <th>Home Team Initials</th>\n      <th>Away Team Initials</th>\n    </tr>\n  </thead>\n  <tbody>\n    <tr>\n      <th>0</th>\n      <td>1930</td>\n      <td>13 Jul 1930 - 15:00</td>\n      <td>Group 1</td>\n      <td>Pocitos</td>\n      <td>Montevideo</td>\n      <td>France</td>\n      <td>4</td>\n      <td>1</td>\n      <td>Mexico</td>\n      <td></td>\n      <td>4444.0</td>\n      <td>3</td>\n      <td>0</td>\n      <td>LOMBARDI Domingo (URU)</td>\n      <td>CRISTOPHE Henry (BEL)</td>\n      <td>REGO Gilberto (BRA)</td>\n      <td>201</td>\n      <td>1096</td>\n      <td>FRA</td>\n      <td>MEX</td>\n    </tr>\n    <tr>\n      <th>1</th>\n      <td>1930</td>\n      <td>13 Jul 1930 - 15:00</td>\n      <td>Group 4</td>\n      <td>Parque Central</td>\n      <td>Montevideo</td>\n      <td>USA</td>\n      <td>3</td>\n      <td>0</td>\n      <td>Belgium</td>\n      <td></td>\n      <td>18346.0</td>\n      <td>2</td>\n      <td>0</td>\n      <td>MACIAS Jose (ARG)</td>\n      <td>MATEUCCI Francisco (URU)</td>\n      <td>WARNKEN Alberto (CHI)</td>\n      <td>201</td>\n      <td>1090</td>\n      <td>USA</td>\n      <td>BEL</td>\n    </tr>\n    <tr>\n      <th>2</th>\n      <td>1930</td>\n      <td>14 Jul 1930 - 12:45</td>\n      <td>Group 2</td>\n      <td>Parque Central</td>\n      <td>Montevideo</td>\n      <td>Yugoslavia</td>\n      <td>2</td>\n      <td>1</td>\n      <td>Brazil</td>\n      <td></td>\n      <td>24059.0</td>\n      <td>2</td>\n      <td>0</td>\n      <td>TEJADA Anibal (URU)</td>\n      <td>VALLARINO Ricardo (URU)</td>\n      <td>BALWAY Thomas (FRA)</td>\n      <td>201</td>\n      <td>1093</td>\n      <td>YUG</td>\n      <td>BRA</td>\n    </tr>\n    <tr>\n      <th>3</th>\n      <td>1930</td>\n      <td>14 Jul 1930 - 14:50</td>\n      <td>Group 3</td>\n      <td>Pocitos</td>\n      <td>Montevideo</td>\n      <td>Romania</td>\n      <td>3</td>\n      <td>1</td>\n      <td>Peru</td>\n      <td></td>\n      <td>2549.0</td>\n      <td>1</td>\n      <td>0</td>\n      <td>WARNKEN Alberto (CHI)</td>\n      <td>LANGENUS Jean (BEL)</td>\n      <td>MATEUCCI Francisco (URU)</td>\n      <td>201</td>\n      <td>1098</td>\n      <td>ROU</td>\n      <td>PER</td>\n    </tr>\n    <tr>\n      <th>4</th>\n      <td>1930</td>\n      <td>15 Jul 1930 - 16:00</td>\n      <td>Group 1</td>\n      <td>Parque Central</td>\n      <td>Montevideo</td>\n      <td>Argentina</td>\n      <td>1</td>\n      <td>0</td>\n      <td>France</td>\n      <td></td>\n      <td>23409.0</td>\n      <td>0</td>\n      <td>0</td>\n      <td>REGO Gilberto (BRA)</td>\n      <td>SAUCEDO Ulises (BOL)</td>\n      <td>RADULESCU Constantin (ROU)</td>\n      <td>201</td>\n      <td>1085</td>\n      <td>ARG</td>\n      <td>FRA</td>\n    </tr>\n  </tbody>\n</table>\n</div>"
     },
     "metadata": {},
     "execution_count": 49
    }
   ],
   "source": [
    "df_matches = pd.read_excel('./DatasetsInput/world_cups2.xlsx', sheet_name='matches')\n",
    "df_matches.head()"
   ]
  },
  {
   "cell_type": "code",
   "execution_count": 29,
   "metadata": {},
   "outputs": [
    {
     "output_type": "execute_result",
     "data": {
      "text/plain": [
       "   RoundID  MatchID Team Initials           Coach Name Line-up  Shirt Number  \\\n",
       "0      201     1096           FRA  CAUDRON Raoul (FRA)       S             0   \n",
       "1      201     1096           MEX     LUQUE Juan (MEX)       S             0   \n",
       "2      201     1096           FRA  CAUDRON Raoul (FRA)       S             0   \n",
       "3      201     1096           MEX     LUQUE Juan (MEX)       S             0   \n",
       "4      201     1096           FRA  CAUDRON Raoul (FRA)       S             0   \n",
       "\n",
       "        Player Name Position Event  \n",
       "0       Alex THEPOT       GK   NaN  \n",
       "1   Oscar BONFIGLIO       GK   NaN  \n",
       "2  Marcel LANGILLER      NaN  G40'  \n",
       "3      Juan CARRENO      NaN  G70'  \n",
       "4   Ernest LIBERATI      NaN   NaN  "
      ],
      "text/html": "<div>\n<style scoped>\n    .dataframe tbody tr th:only-of-type {\n        vertical-align: middle;\n    }\n\n    .dataframe tbody tr th {\n        vertical-align: top;\n    }\n\n    .dataframe thead th {\n        text-align: right;\n    }\n</style>\n<table border=\"1\" class=\"dataframe\">\n  <thead>\n    <tr style=\"text-align: right;\">\n      <th></th>\n      <th>RoundID</th>\n      <th>MatchID</th>\n      <th>Team Initials</th>\n      <th>Coach Name</th>\n      <th>Line-up</th>\n      <th>Shirt Number</th>\n      <th>Player Name</th>\n      <th>Position</th>\n      <th>Event</th>\n    </tr>\n  </thead>\n  <tbody>\n    <tr>\n      <th>0</th>\n      <td>201</td>\n      <td>1096</td>\n      <td>FRA</td>\n      <td>CAUDRON Raoul (FRA)</td>\n      <td>S</td>\n      <td>0</td>\n      <td>Alex THEPOT</td>\n      <td>GK</td>\n      <td>NaN</td>\n    </tr>\n    <tr>\n      <th>1</th>\n      <td>201</td>\n      <td>1096</td>\n      <td>MEX</td>\n      <td>LUQUE Juan (MEX)</td>\n      <td>S</td>\n      <td>0</td>\n      <td>Oscar BONFIGLIO</td>\n      <td>GK</td>\n      <td>NaN</td>\n    </tr>\n    <tr>\n      <th>2</th>\n      <td>201</td>\n      <td>1096</td>\n      <td>FRA</td>\n      <td>CAUDRON Raoul (FRA)</td>\n      <td>S</td>\n      <td>0</td>\n      <td>Marcel LANGILLER</td>\n      <td>NaN</td>\n      <td>G40'</td>\n    </tr>\n    <tr>\n      <th>3</th>\n      <td>201</td>\n      <td>1096</td>\n      <td>MEX</td>\n      <td>LUQUE Juan (MEX)</td>\n      <td>S</td>\n      <td>0</td>\n      <td>Juan CARRENO</td>\n      <td>NaN</td>\n      <td>G70'</td>\n    </tr>\n    <tr>\n      <th>4</th>\n      <td>201</td>\n      <td>1096</td>\n      <td>FRA</td>\n      <td>CAUDRON Raoul (FRA)</td>\n      <td>S</td>\n      <td>0</td>\n      <td>Ernest LIBERATI</td>\n      <td>NaN</td>\n      <td>NaN</td>\n    </tr>\n  </tbody>\n</table>\n</div>"
     },
     "metadata": {},
     "execution_count": 29
    }
   ],
   "source": [
    "# Usamos sheets que son los sheets de excel(recordar que son como las pestañas que contienen cada tabla distinta de un mismo archivo)\n",
    "df_players = pd.read_excel('./DatasetsInput/world_cups2.xlsx', sheet_name='players')\n",
    "df_players.head()"
   ]
  },
  {
   "cell_type": "code",
   "execution_count": 30,
   "metadata": {},
   "outputs": [
    {
     "output_type": "execute_result",
     "data": {
      "text/plain": [
       "(20, 10)"
      ]
     },
     "metadata": {},
     "execution_count": 30
    }
   ],
   "source": [
    "# Primera forma de obtener la cantidad de mundiales de los cuales tenemos información\n",
    "df_mundiales.shape"
   ]
  },
  {
   "cell_type": "code",
   "execution_count": 31,
   "metadata": {},
   "outputs": [
    {
     "output_type": "execute_result",
     "data": {
      "text/plain": [
       "20"
      ]
     },
     "metadata": {},
     "execution_count": 31
    }
   ],
   "source": [
    "# Segunda forma de obtener la cantidad de mundiales de los cuales tenemos información\n",
    "len(df_mundiales)"
   ]
  },
  {
   "source": [
    "# Obtener el nombre completo de cada mundial\n"
   ],
   "cell_type": "markdown",
   "metadata": {}
  },
  {
   "cell_type": "code",
   "execution_count": 32,
   "metadata": {},
   "outputs": [],
   "source": [
    "df_mundiales['Year'] = df_mundiales['Year'].astype('str')"
   ]
  },
  {
   "cell_type": "code",
   "execution_count": 36,
   "metadata": {},
   "outputs": [
    {
     "output_type": "execute_result",
     "data": {
      "text/plain": [
       "   Year      Country      Winner      Runners-Up    Third      Fourth  \\\n",
       "0  1930      Uruguay     Uruguay       Argentina      USA  Yugoslavia   \n",
       "1  1934        Italy       Italy  Czechoslovakia  Germany     Austria   \n",
       "2  1938       France       Italy         Hungary   Brazil      Sweden   \n",
       "3  1950       Brazil     Uruguay          Brazil   Sweden       Spain   \n",
       "4  1954  Switzerland  Germany FR         Hungary  Austria     Uruguay   \n",
       "\n",
       "   GoalsScored  QualifiedTeams  MatchesPlayed Attendance              Name  \n",
       "0           70              13             18    590.549      Uruguay 1930  \n",
       "1           70              16             17        363        Italy 1934  \n",
       "2           84              15             18      375.7       France 1938  \n",
       "3           88              13             22  1.045.246       Brazil 1950  \n",
       "4          140              16             26    768.607  Switzerland 1954  "
      ],
      "text/html": "<div>\n<style scoped>\n    .dataframe tbody tr th:only-of-type {\n        vertical-align: middle;\n    }\n\n    .dataframe tbody tr th {\n        vertical-align: top;\n    }\n\n    .dataframe thead th {\n        text-align: right;\n    }\n</style>\n<table border=\"1\" class=\"dataframe\">\n  <thead>\n    <tr style=\"text-align: right;\">\n      <th></th>\n      <th>Year</th>\n      <th>Country</th>\n      <th>Winner</th>\n      <th>Runners-Up</th>\n      <th>Third</th>\n      <th>Fourth</th>\n      <th>GoalsScored</th>\n      <th>QualifiedTeams</th>\n      <th>MatchesPlayed</th>\n      <th>Attendance</th>\n      <th>Name</th>\n    </tr>\n  </thead>\n  <tbody>\n    <tr>\n      <th>0</th>\n      <td>1930</td>\n      <td>Uruguay</td>\n      <td>Uruguay</td>\n      <td>Argentina</td>\n      <td>USA</td>\n      <td>Yugoslavia</td>\n      <td>70</td>\n      <td>13</td>\n      <td>18</td>\n      <td>590.549</td>\n      <td>Uruguay 1930</td>\n    </tr>\n    <tr>\n      <th>1</th>\n      <td>1934</td>\n      <td>Italy</td>\n      <td>Italy</td>\n      <td>Czechoslovakia</td>\n      <td>Germany</td>\n      <td>Austria</td>\n      <td>70</td>\n      <td>16</td>\n      <td>17</td>\n      <td>363</td>\n      <td>Italy 1934</td>\n    </tr>\n    <tr>\n      <th>2</th>\n      <td>1938</td>\n      <td>France</td>\n      <td>Italy</td>\n      <td>Hungary</td>\n      <td>Brazil</td>\n      <td>Sweden</td>\n      <td>84</td>\n      <td>15</td>\n      <td>18</td>\n      <td>375.7</td>\n      <td>France 1938</td>\n    </tr>\n    <tr>\n      <th>3</th>\n      <td>1950</td>\n      <td>Brazil</td>\n      <td>Uruguay</td>\n      <td>Brazil</td>\n      <td>Sweden</td>\n      <td>Spain</td>\n      <td>88</td>\n      <td>13</td>\n      <td>22</td>\n      <td>1.045.246</td>\n      <td>Brazil 1950</td>\n    </tr>\n    <tr>\n      <th>4</th>\n      <td>1954</td>\n      <td>Switzerland</td>\n      <td>Germany FR</td>\n      <td>Hungary</td>\n      <td>Austria</td>\n      <td>Uruguay</td>\n      <td>140</td>\n      <td>16</td>\n      <td>26</td>\n      <td>768.607</td>\n      <td>Switzerland 1954</td>\n    </tr>\n  </tbody>\n</table>\n</div>"
     },
     "metadata": {},
     "execution_count": 36
    }
   ],
   "source": [
    "df_mundiales['Name'] = df_mundiales['Country'] + \" \" + df_mundiales['Year']\n",
    "df_mundiales.head()"
   ]
  },
  {
   "cell_type": "code",
   "execution_count": 38,
   "metadata": {},
   "outputs": [
    {
     "output_type": "execute_result",
     "data": {
      "text/plain": [
       "['Year',\n",
       " 'Country',\n",
       " 'Winner',\n",
       " 'Runners-Up',\n",
       " 'Third',\n",
       " 'Fourth',\n",
       " 'GoalsScored',\n",
       " 'QualifiedTeams',\n",
       " 'MatchesPlayed',\n",
       " 'Attendance',\n",
       " 'Name']"
      ]
     },
     "metadata": {},
     "execution_count": 38
    }
   ],
   "source": [
    "columnas = list(df_mundiales.columns)\n",
    "columnas"
   ]
  },
  {
   "cell_type": "code",
   "execution_count": 39,
   "metadata": {},
   "outputs": [
    {
     "output_type": "execute_result",
     "data": {
      "text/plain": [
       "['Name',\n",
       " 'Year',\n",
       " 'Country',\n",
       " 'Winner',\n",
       " 'Runners-Up',\n",
       " 'Third',\n",
       " 'Fourth',\n",
       " 'GoalsScored',\n",
       " 'QualifiedTeams',\n",
       " 'MatchesPlayed',\n",
       " 'Attendance']"
      ]
     },
     "metadata": {},
     "execution_count": 39
    }
   ],
   "source": [
    "# Cambiando el orden, Name lo pongo al principio\n",
    "columnas = ['Name'] + columnas[:-1]\n",
    "columnas"
   ]
  },
  {
   "cell_type": "code",
   "execution_count": 40,
   "metadata": {},
   "outputs": [
    {
     "output_type": "execute_result",
     "data": {
      "text/plain": [
       "               Name  Year      Country      Winner      Runners-Up    Third  \\\n",
       "0      Uruguay 1930  1930      Uruguay     Uruguay       Argentina      USA   \n",
       "1        Italy 1934  1934        Italy       Italy  Czechoslovakia  Germany   \n",
       "2       France 1938  1938       France       Italy         Hungary   Brazil   \n",
       "3       Brazil 1950  1950       Brazil     Uruguay          Brazil   Sweden   \n",
       "4  Switzerland 1954  1954  Switzerland  Germany FR         Hungary  Austria   \n",
       "\n",
       "       Fourth  GoalsScored  QualifiedTeams  MatchesPlayed Attendance  \n",
       "0  Yugoslavia           70              13             18    590.549  \n",
       "1     Austria           70              16             17        363  \n",
       "2      Sweden           84              15             18      375.7  \n",
       "3       Spain           88              13             22  1.045.246  \n",
       "4     Uruguay          140              16             26    768.607  "
      ],
      "text/html": "<div>\n<style scoped>\n    .dataframe tbody tr th:only-of-type {\n        vertical-align: middle;\n    }\n\n    .dataframe tbody tr th {\n        vertical-align: top;\n    }\n\n    .dataframe thead th {\n        text-align: right;\n    }\n</style>\n<table border=\"1\" class=\"dataframe\">\n  <thead>\n    <tr style=\"text-align: right;\">\n      <th></th>\n      <th>Name</th>\n      <th>Year</th>\n      <th>Country</th>\n      <th>Winner</th>\n      <th>Runners-Up</th>\n      <th>Third</th>\n      <th>Fourth</th>\n      <th>GoalsScored</th>\n      <th>QualifiedTeams</th>\n      <th>MatchesPlayed</th>\n      <th>Attendance</th>\n    </tr>\n  </thead>\n  <tbody>\n    <tr>\n      <th>0</th>\n      <td>Uruguay 1930</td>\n      <td>1930</td>\n      <td>Uruguay</td>\n      <td>Uruguay</td>\n      <td>Argentina</td>\n      <td>USA</td>\n      <td>Yugoslavia</td>\n      <td>70</td>\n      <td>13</td>\n      <td>18</td>\n      <td>590.549</td>\n    </tr>\n    <tr>\n      <th>1</th>\n      <td>Italy 1934</td>\n      <td>1934</td>\n      <td>Italy</td>\n      <td>Italy</td>\n      <td>Czechoslovakia</td>\n      <td>Germany</td>\n      <td>Austria</td>\n      <td>70</td>\n      <td>16</td>\n      <td>17</td>\n      <td>363</td>\n    </tr>\n    <tr>\n      <th>2</th>\n      <td>France 1938</td>\n      <td>1938</td>\n      <td>France</td>\n      <td>Italy</td>\n      <td>Hungary</td>\n      <td>Brazil</td>\n      <td>Sweden</td>\n      <td>84</td>\n      <td>15</td>\n      <td>18</td>\n      <td>375.7</td>\n    </tr>\n    <tr>\n      <th>3</th>\n      <td>Brazil 1950</td>\n      <td>1950</td>\n      <td>Brazil</td>\n      <td>Uruguay</td>\n      <td>Brazil</td>\n      <td>Sweden</td>\n      <td>Spain</td>\n      <td>88</td>\n      <td>13</td>\n      <td>22</td>\n      <td>1.045.246</td>\n    </tr>\n    <tr>\n      <th>4</th>\n      <td>Switzerland 1954</td>\n      <td>1954</td>\n      <td>Switzerland</td>\n      <td>Germany FR</td>\n      <td>Hungary</td>\n      <td>Austria</td>\n      <td>Uruguay</td>\n      <td>140</td>\n      <td>16</td>\n      <td>26</td>\n      <td>768.607</td>\n    </tr>\n  </tbody>\n</table>\n</div>"
     },
     "metadata": {},
     "execution_count": 40
    }
   ],
   "source": [
    "df_mundiales = df_mundiales.get(columnas)\n",
    "df_mundiales.head()"
   ]
  },
  {
   "source": [
    "PAISES QUE CAMPEONARON COMO LOCALES"
   ],
   "cell_type": "markdown",
   "metadata": {}
  },
  {
   "cell_type": "code",
   "execution_count": 43,
   "metadata": {},
   "outputs": [
    {
     "output_type": "execute_result",
     "data": {
      "text/plain": [
       "              Name  Year    Country     Winner      Runners-Up     Third  \\\n",
       "0     Uruguay 1930  1930    Uruguay    Uruguay       Argentina       USA   \n",
       "1       Italy 1934  1934      Italy      Italy  Czechoslovakia   Germany   \n",
       "7     England 1966  1966    England    England      Germany FR  Portugal   \n",
       "10  Argentina 1978  1978  Argentina  Argentina     Netherlands    Brazil   \n",
       "15     France 1998  1998     France     France          Brazil   Croatia   \n",
       "\n",
       "          Fourth  GoalsScored  QualifiedTeams  MatchesPlayed Attendance  \n",
       "0     Yugoslavia           70              13             18    590.549  \n",
       "1        Austria           70              16             17        363  \n",
       "7   Soviet Union           89              16             32  1.563.135  \n",
       "10         Italy          102              16             38  1.545.791  \n",
       "15   Netherlands          171              32             64  2.785.100  "
      ],
      "text/html": "<div>\n<style scoped>\n    .dataframe tbody tr th:only-of-type {\n        vertical-align: middle;\n    }\n\n    .dataframe tbody tr th {\n        vertical-align: top;\n    }\n\n    .dataframe thead th {\n        text-align: right;\n    }\n</style>\n<table border=\"1\" class=\"dataframe\">\n  <thead>\n    <tr style=\"text-align: right;\">\n      <th></th>\n      <th>Name</th>\n      <th>Year</th>\n      <th>Country</th>\n      <th>Winner</th>\n      <th>Runners-Up</th>\n      <th>Third</th>\n      <th>Fourth</th>\n      <th>GoalsScored</th>\n      <th>QualifiedTeams</th>\n      <th>MatchesPlayed</th>\n      <th>Attendance</th>\n    </tr>\n  </thead>\n  <tbody>\n    <tr>\n      <th>0</th>\n      <td>Uruguay 1930</td>\n      <td>1930</td>\n      <td>Uruguay</td>\n      <td>Uruguay</td>\n      <td>Argentina</td>\n      <td>USA</td>\n      <td>Yugoslavia</td>\n      <td>70</td>\n      <td>13</td>\n      <td>18</td>\n      <td>590.549</td>\n    </tr>\n    <tr>\n      <th>1</th>\n      <td>Italy 1934</td>\n      <td>1934</td>\n      <td>Italy</td>\n      <td>Italy</td>\n      <td>Czechoslovakia</td>\n      <td>Germany</td>\n      <td>Austria</td>\n      <td>70</td>\n      <td>16</td>\n      <td>17</td>\n      <td>363</td>\n    </tr>\n    <tr>\n      <th>7</th>\n      <td>England 1966</td>\n      <td>1966</td>\n      <td>England</td>\n      <td>England</td>\n      <td>Germany FR</td>\n      <td>Portugal</td>\n      <td>Soviet Union</td>\n      <td>89</td>\n      <td>16</td>\n      <td>32</td>\n      <td>1.563.135</td>\n    </tr>\n    <tr>\n      <th>10</th>\n      <td>Argentina 1978</td>\n      <td>1978</td>\n      <td>Argentina</td>\n      <td>Argentina</td>\n      <td>Netherlands</td>\n      <td>Brazil</td>\n      <td>Italy</td>\n      <td>102</td>\n      <td>16</td>\n      <td>38</td>\n      <td>1.545.791</td>\n    </tr>\n    <tr>\n      <th>15</th>\n      <td>France 1998</td>\n      <td>1998</td>\n      <td>France</td>\n      <td>France</td>\n      <td>Brazil</td>\n      <td>Croatia</td>\n      <td>Netherlands</td>\n      <td>171</td>\n      <td>32</td>\n      <td>64</td>\n      <td>2.785.100</td>\n    </tr>\n  </tbody>\n</table>\n</div>"
     },
     "metadata": {},
     "execution_count": 43
    }
   ],
   "source": [
    "# Opción más recomendad\n",
    "df_locales = df_mundiales.loc[df_mundiales['Country'] == df_mundiales['Winner']]\n",
    "df_locales"
   ]
  },
  {
   "cell_type": "code",
   "execution_count": 44,
   "metadata": {},
   "outputs": [
    {
     "output_type": "execute_result",
     "data": {
      "text/plain": [
       "              Name  Year    Country     Winner      Runners-Up     Third  \\\n",
       "0     Uruguay 1930  1930    Uruguay    Uruguay       Argentina       USA   \n",
       "1       Italy 1934  1934      Italy      Italy  Czechoslovakia   Germany   \n",
       "7     England 1966  1966    England    England      Germany FR  Portugal   \n",
       "10  Argentina 1978  1978  Argentina  Argentina     Netherlands    Brazil   \n",
       "15     France 1998  1998     France     France          Brazil   Croatia   \n",
       "\n",
       "          Fourth  GoalsScored  QualifiedTeams  MatchesPlayed Attendance  \n",
       "0     Yugoslavia           70              13             18    590.549  \n",
       "1        Austria           70              16             17        363  \n",
       "7   Soviet Union           89              16             32  1.563.135  \n",
       "10         Italy          102              16             38  1.545.791  \n",
       "15   Netherlands          171              32             64  2.785.100  "
      ],
      "text/html": "<div>\n<style scoped>\n    .dataframe tbody tr th:only-of-type {\n        vertical-align: middle;\n    }\n\n    .dataframe tbody tr th {\n        vertical-align: top;\n    }\n\n    .dataframe thead th {\n        text-align: right;\n    }\n</style>\n<table border=\"1\" class=\"dataframe\">\n  <thead>\n    <tr style=\"text-align: right;\">\n      <th></th>\n      <th>Name</th>\n      <th>Year</th>\n      <th>Country</th>\n      <th>Winner</th>\n      <th>Runners-Up</th>\n      <th>Third</th>\n      <th>Fourth</th>\n      <th>GoalsScored</th>\n      <th>QualifiedTeams</th>\n      <th>MatchesPlayed</th>\n      <th>Attendance</th>\n    </tr>\n  </thead>\n  <tbody>\n    <tr>\n      <th>0</th>\n      <td>Uruguay 1930</td>\n      <td>1930</td>\n      <td>Uruguay</td>\n      <td>Uruguay</td>\n      <td>Argentina</td>\n      <td>USA</td>\n      <td>Yugoslavia</td>\n      <td>70</td>\n      <td>13</td>\n      <td>18</td>\n      <td>590.549</td>\n    </tr>\n    <tr>\n      <th>1</th>\n      <td>Italy 1934</td>\n      <td>1934</td>\n      <td>Italy</td>\n      <td>Italy</td>\n      <td>Czechoslovakia</td>\n      <td>Germany</td>\n      <td>Austria</td>\n      <td>70</td>\n      <td>16</td>\n      <td>17</td>\n      <td>363</td>\n    </tr>\n    <tr>\n      <th>7</th>\n      <td>England 1966</td>\n      <td>1966</td>\n      <td>England</td>\n      <td>England</td>\n      <td>Germany FR</td>\n      <td>Portugal</td>\n      <td>Soviet Union</td>\n      <td>89</td>\n      <td>16</td>\n      <td>32</td>\n      <td>1.563.135</td>\n    </tr>\n    <tr>\n      <th>10</th>\n      <td>Argentina 1978</td>\n      <td>1978</td>\n      <td>Argentina</td>\n      <td>Argentina</td>\n      <td>Netherlands</td>\n      <td>Brazil</td>\n      <td>Italy</td>\n      <td>102</td>\n      <td>16</td>\n      <td>38</td>\n      <td>1.545.791</td>\n    </tr>\n    <tr>\n      <th>15</th>\n      <td>France 1998</td>\n      <td>1998</td>\n      <td>France</td>\n      <td>France</td>\n      <td>Brazil</td>\n      <td>Croatia</td>\n      <td>Netherlands</td>\n      <td>171</td>\n      <td>32</td>\n      <td>64</td>\n      <td>2.785.100</td>\n    </tr>\n  </tbody>\n</table>\n</div>"
     },
     "metadata": {},
     "execution_count": 44
    }
   ],
   "source": [
    "# Otra opción\n",
    "df_locales2 = df_mundiales.query('Country == Winner')\n",
    "df_locales2"
   ]
  },
  {
   "source": [
    "Partidos de mundiales con más goles"
   ],
   "cell_type": "markdown",
   "metadata": {}
  },
  {
   "cell_type": "code",
   "execution_count": 51,
   "metadata": {},
   "outputs": [
    {
     "output_type": "execute_result",
     "data": {
      "text/plain": [
       "   Year Home Team Name Away Team Name  Home Team Goals  Away Team Goals\n",
       "0  1930         France         Mexico                4                1\n",
       "1  1930            USA        Belgium                3                0\n",
       "2  1930     Yugoslavia         Brazil                2                1\n",
       "3  1930        Romania           Peru                3                1\n",
       "4  1930      Argentina         France                1                0"
      ],
      "text/html": "<div>\n<style scoped>\n    .dataframe tbody tr th:only-of-type {\n        vertical-align: middle;\n    }\n\n    .dataframe tbody tr th {\n        vertical-align: top;\n    }\n\n    .dataframe thead th {\n        text-align: right;\n    }\n</style>\n<table border=\"1\" class=\"dataframe\">\n  <thead>\n    <tr style=\"text-align: right;\">\n      <th></th>\n      <th>Year</th>\n      <th>Home Team Name</th>\n      <th>Away Team Name</th>\n      <th>Home Team Goals</th>\n      <th>Away Team Goals</th>\n    </tr>\n  </thead>\n  <tbody>\n    <tr>\n      <th>0</th>\n      <td>1930</td>\n      <td>France</td>\n      <td>Mexico</td>\n      <td>4</td>\n      <td>1</td>\n    </tr>\n    <tr>\n      <th>1</th>\n      <td>1930</td>\n      <td>USA</td>\n      <td>Belgium</td>\n      <td>3</td>\n      <td>0</td>\n    </tr>\n    <tr>\n      <th>2</th>\n      <td>1930</td>\n      <td>Yugoslavia</td>\n      <td>Brazil</td>\n      <td>2</td>\n      <td>1</td>\n    </tr>\n    <tr>\n      <th>3</th>\n      <td>1930</td>\n      <td>Romania</td>\n      <td>Peru</td>\n      <td>3</td>\n      <td>1</td>\n    </tr>\n    <tr>\n      <th>4</th>\n      <td>1930</td>\n      <td>Argentina</td>\n      <td>France</td>\n      <td>1</td>\n      <td>0</td>\n    </tr>\n  </tbody>\n</table>\n</div>"
     },
     "metadata": {},
     "execution_count": 51
    }
   ],
   "source": [
    "df_matches_short = df_matches.get(['Year', 'Home Team Name', 'Away Team Name', 'Home Team Goals', 'Away Team Goals'])\n",
    "df_matches_short.head()"
   ]
  },
  {
   "cell_type": "code",
   "execution_count": 54,
   "metadata": {},
   "outputs": [
    {
     "output_type": "stream",
     "name": "stderr",
     "text": [
      "ipykernel_launcher:1: SettingWithCopyWarning: \nA value is trying to be set on a copy of a slice from a DataFrame.\nTry using .loc[row_indexer,col_indexer] = value instead\n\nSee the caveats in the documentation: https://pandas.pydata.org/pandas-docs/stable/user_guide/indexing.html#returning-a-view-versus-a-copy\n"
     ]
    }
   ],
   "source": [
    "df_matches_short['Total Goals'] = df_matches_short['Home Team Goals'] + df_matches_short['Away Team Goals'] "
   ]
  },
  {
   "cell_type": "code",
   "execution_count": 53,
   "metadata": {},
   "outputs": [
    {
     "output_type": "execute_result",
     "data": {
      "text/plain": [
       "   Year Home Team Name Away Team Name  Home Team Goals  Away Team Goals  \\\n",
       "0  1930         France         Mexico                4                1   \n",
       "1  1930            USA        Belgium                3                0   \n",
       "2  1930     Yugoslavia         Brazil                2                1   \n",
       "3  1930        Romania           Peru                3                1   \n",
       "4  1930      Argentina         France                1                0   \n",
       "\n",
       "   Total Goals  \n",
       "0            5  \n",
       "1            3  \n",
       "2            3  \n",
       "3            4  \n",
       "4            1  "
      ],
      "text/html": "<div>\n<style scoped>\n    .dataframe tbody tr th:only-of-type {\n        vertical-align: middle;\n    }\n\n    .dataframe tbody tr th {\n        vertical-align: top;\n    }\n\n    .dataframe thead th {\n        text-align: right;\n    }\n</style>\n<table border=\"1\" class=\"dataframe\">\n  <thead>\n    <tr style=\"text-align: right;\">\n      <th></th>\n      <th>Year</th>\n      <th>Home Team Name</th>\n      <th>Away Team Name</th>\n      <th>Home Team Goals</th>\n      <th>Away Team Goals</th>\n      <th>Total Goals</th>\n    </tr>\n  </thead>\n  <tbody>\n    <tr>\n      <th>0</th>\n      <td>1930</td>\n      <td>France</td>\n      <td>Mexico</td>\n      <td>4</td>\n      <td>1</td>\n      <td>5</td>\n    </tr>\n    <tr>\n      <th>1</th>\n      <td>1930</td>\n      <td>USA</td>\n      <td>Belgium</td>\n      <td>3</td>\n      <td>0</td>\n      <td>3</td>\n    </tr>\n    <tr>\n      <th>2</th>\n      <td>1930</td>\n      <td>Yugoslavia</td>\n      <td>Brazil</td>\n      <td>2</td>\n      <td>1</td>\n      <td>3</td>\n    </tr>\n    <tr>\n      <th>3</th>\n      <td>1930</td>\n      <td>Romania</td>\n      <td>Peru</td>\n      <td>3</td>\n      <td>1</td>\n      <td>4</td>\n    </tr>\n    <tr>\n      <th>4</th>\n      <td>1930</td>\n      <td>Argentina</td>\n      <td>France</td>\n      <td>1</td>\n      <td>0</td>\n      <td>1</td>\n    </tr>\n  </tbody>\n</table>\n</div>"
     },
     "metadata": {},
     "execution_count": 53
    }
   ],
   "source": [
    "df_matches_short.head()"
   ]
  },
  {
   "cell_type": "code",
   "execution_count": 73,
   "metadata": {},
   "outputs": [
    {
     "output_type": "execute_result",
     "data": {
      "text/plain": [
       "     Year Home Team Name  Away Team Name  Home Team Goals  Away Team Goals  \\\n",
       "94   1954        Austria     Switzerland                7                5   \n",
       "312  1982        Hungary     El Salvador               10                1   \n",
       "87   1954        Hungary      Germany FR                8                3   \n",
       "40   1938         Brazil          Poland                6                5   \n",
       "105  1958         France        Paraguay                7                3   \n",
       "10   1930      Argentina          Mexico                6                3   \n",
       "91   1954     Germany FR          Turkey                7                2   \n",
       "243  1974     Yugoslavia           Zaire                9                0   \n",
       "80   1954        Hungary  Korea Republic                9                0   \n",
       "134  1958         France      Germany FR                6                3   \n",
       "70   1950         Brazil          Sweden                7                1   \n",
       "848  2014         Brazil         Germany                1                7   \n",
       "148  1962   Soviet Union        Colombia                4                4   \n",
       "826  2014         Brazil         Germany                1                7   \n",
       "24   1934          Italy             USA                7                1   \n",
       "\n",
       "     Total Goals  Goal Differences  \n",
       "94            12                 2  \n",
       "312           11                 9  \n",
       "87            11                 5  \n",
       "40            11                 1  \n",
       "105           10                 4  \n",
       "10             9                 3  \n",
       "91             9                 5  \n",
       "243            9                 9  \n",
       "80             9                 9  \n",
       "134            9                 3  \n",
       "70             8                 6  \n",
       "848            8                 6  \n",
       "148            8                 0  \n",
       "826            8                 6  \n",
       "24             8                 6  "
      ],
      "text/html": "<div>\n<style scoped>\n    .dataframe tbody tr th:only-of-type {\n        vertical-align: middle;\n    }\n\n    .dataframe tbody tr th {\n        vertical-align: top;\n    }\n\n    .dataframe thead th {\n        text-align: right;\n    }\n</style>\n<table border=\"1\" class=\"dataframe\">\n  <thead>\n    <tr style=\"text-align: right;\">\n      <th></th>\n      <th>Year</th>\n      <th>Home Team Name</th>\n      <th>Away Team Name</th>\n      <th>Home Team Goals</th>\n      <th>Away Team Goals</th>\n      <th>Total Goals</th>\n      <th>Goal Differences</th>\n    </tr>\n  </thead>\n  <tbody>\n    <tr>\n      <th>94</th>\n      <td>1954</td>\n      <td>Austria</td>\n      <td>Switzerland</td>\n      <td>7</td>\n      <td>5</td>\n      <td>12</td>\n      <td>2</td>\n    </tr>\n    <tr>\n      <th>312</th>\n      <td>1982</td>\n      <td>Hungary</td>\n      <td>El Salvador</td>\n      <td>10</td>\n      <td>1</td>\n      <td>11</td>\n      <td>9</td>\n    </tr>\n    <tr>\n      <th>87</th>\n      <td>1954</td>\n      <td>Hungary</td>\n      <td>Germany FR</td>\n      <td>8</td>\n      <td>3</td>\n      <td>11</td>\n      <td>5</td>\n    </tr>\n    <tr>\n      <th>40</th>\n      <td>1938</td>\n      <td>Brazil</td>\n      <td>Poland</td>\n      <td>6</td>\n      <td>5</td>\n      <td>11</td>\n      <td>1</td>\n    </tr>\n    <tr>\n      <th>105</th>\n      <td>1958</td>\n      <td>France</td>\n      <td>Paraguay</td>\n      <td>7</td>\n      <td>3</td>\n      <td>10</td>\n      <td>4</td>\n    </tr>\n    <tr>\n      <th>10</th>\n      <td>1930</td>\n      <td>Argentina</td>\n      <td>Mexico</td>\n      <td>6</td>\n      <td>3</td>\n      <td>9</td>\n      <td>3</td>\n    </tr>\n    <tr>\n      <th>91</th>\n      <td>1954</td>\n      <td>Germany FR</td>\n      <td>Turkey</td>\n      <td>7</td>\n      <td>2</td>\n      <td>9</td>\n      <td>5</td>\n    </tr>\n    <tr>\n      <th>243</th>\n      <td>1974</td>\n      <td>Yugoslavia</td>\n      <td>Zaire</td>\n      <td>9</td>\n      <td>0</td>\n      <td>9</td>\n      <td>9</td>\n    </tr>\n    <tr>\n      <th>80</th>\n      <td>1954</td>\n      <td>Hungary</td>\n      <td>Korea Republic</td>\n      <td>9</td>\n      <td>0</td>\n      <td>9</td>\n      <td>9</td>\n    </tr>\n    <tr>\n      <th>134</th>\n      <td>1958</td>\n      <td>France</td>\n      <td>Germany FR</td>\n      <td>6</td>\n      <td>3</td>\n      <td>9</td>\n      <td>3</td>\n    </tr>\n    <tr>\n      <th>70</th>\n      <td>1950</td>\n      <td>Brazil</td>\n      <td>Sweden</td>\n      <td>7</td>\n      <td>1</td>\n      <td>8</td>\n      <td>6</td>\n    </tr>\n    <tr>\n      <th>848</th>\n      <td>2014</td>\n      <td>Brazil</td>\n      <td>Germany</td>\n      <td>1</td>\n      <td>7</td>\n      <td>8</td>\n      <td>6</td>\n    </tr>\n    <tr>\n      <th>148</th>\n      <td>1962</td>\n      <td>Soviet Union</td>\n      <td>Colombia</td>\n      <td>4</td>\n      <td>4</td>\n      <td>8</td>\n      <td>0</td>\n    </tr>\n    <tr>\n      <th>826</th>\n      <td>2014</td>\n      <td>Brazil</td>\n      <td>Germany</td>\n      <td>1</td>\n      <td>7</td>\n      <td>8</td>\n      <td>6</td>\n    </tr>\n    <tr>\n      <th>24</th>\n      <td>1934</td>\n      <td>Italy</td>\n      <td>USA</td>\n      <td>7</td>\n      <td>1</td>\n      <td>8</td>\n      <td>6</td>\n    </tr>\n  </tbody>\n</table>\n</div>"
     },
     "metadata": {},
     "execution_count": 73
    }
   ],
   "source": [
    "df_matches_short.sort_values(by = 'Total Goals', ascending=False).head(15)"
   ]
  },
  {
   "cell_type": "code",
   "execution_count": 66,
   "metadata": {},
   "outputs": [
    {
     "output_type": "stream",
     "name": "stderr",
     "text": [
      "ipykernel_launcher:1: SettingWithCopyWarning: \nA value is trying to be set on a copy of a slice from a DataFrame.\nTry using .loc[row_indexer,col_indexer] = value instead\n\nSee the caveats in the documentation: https://pandas.pydata.org/pandas-docs/stable/user_guide/indexing.html#returning-a-view-versus-a-copy\n"
     ]
    }
   ],
   "source": [
    "df_matches_short['Goal Differences'] = abs(df_matches_short['Home Team Goals'] - df_matches_short['Away Team Goals']) "
   ]
  },
  {
   "cell_type": "code",
   "execution_count": 67,
   "metadata": {},
   "outputs": [
    {
     "output_type": "execute_result",
     "data": {
      "text/plain": [
       "   Year Home Team Name Away Team Name  Home Team Goals  Away Team Goals  \\\n",
       "0  1930         France         Mexico                4                1   \n",
       "1  1930            USA        Belgium                3                0   \n",
       "2  1930     Yugoslavia         Brazil                2                1   \n",
       "3  1930        Romania           Peru                3                1   \n",
       "4  1930      Argentina         France                1                0   \n",
       "\n",
       "   Total Goals  Greater Differences  Differences  Goal Differences  \n",
       "0            5                    3            3                 3  \n",
       "1            3                    3            3                 3  \n",
       "2            3                    1            1                 1  \n",
       "3            4                    2            2                 2  \n",
       "4            1                    1            1                 1  "
      ],
      "text/html": "<div>\n<style scoped>\n    .dataframe tbody tr th:only-of-type {\n        vertical-align: middle;\n    }\n\n    .dataframe tbody tr th {\n        vertical-align: top;\n    }\n\n    .dataframe thead th {\n        text-align: right;\n    }\n</style>\n<table border=\"1\" class=\"dataframe\">\n  <thead>\n    <tr style=\"text-align: right;\">\n      <th></th>\n      <th>Year</th>\n      <th>Home Team Name</th>\n      <th>Away Team Name</th>\n      <th>Home Team Goals</th>\n      <th>Away Team Goals</th>\n      <th>Total Goals</th>\n      <th>Greater Differences</th>\n      <th>Differences</th>\n      <th>Goal Differences</th>\n    </tr>\n  </thead>\n  <tbody>\n    <tr>\n      <th>0</th>\n      <td>1930</td>\n      <td>France</td>\n      <td>Mexico</td>\n      <td>4</td>\n      <td>1</td>\n      <td>5</td>\n      <td>3</td>\n      <td>3</td>\n      <td>3</td>\n    </tr>\n    <tr>\n      <th>1</th>\n      <td>1930</td>\n      <td>USA</td>\n      <td>Belgium</td>\n      <td>3</td>\n      <td>0</td>\n      <td>3</td>\n      <td>3</td>\n      <td>3</td>\n      <td>3</td>\n    </tr>\n    <tr>\n      <th>2</th>\n      <td>1930</td>\n      <td>Yugoslavia</td>\n      <td>Brazil</td>\n      <td>2</td>\n      <td>1</td>\n      <td>3</td>\n      <td>1</td>\n      <td>1</td>\n      <td>1</td>\n    </tr>\n    <tr>\n      <th>3</th>\n      <td>1930</td>\n      <td>Romania</td>\n      <td>Peru</td>\n      <td>3</td>\n      <td>1</td>\n      <td>4</td>\n      <td>2</td>\n      <td>2</td>\n      <td>2</td>\n    </tr>\n    <tr>\n      <th>4</th>\n      <td>1930</td>\n      <td>Argentina</td>\n      <td>France</td>\n      <td>1</td>\n      <td>0</td>\n      <td>1</td>\n      <td>1</td>\n      <td>1</td>\n      <td>1</td>\n    </tr>\n  </tbody>\n</table>\n</div>"
     },
     "metadata": {},
     "execution_count": 67
    }
   ],
   "source": [
    "df_matches_short.head()"
   ]
  },
  {
   "cell_type": "code",
   "execution_count": 74,
   "metadata": {},
   "outputs": [
    {
     "output_type": "error",
     "ename": "KeyError",
     "evalue": "\"['Greater Differences' 'Differences'] not found in axis\"",
     "traceback": [
      "\u001b[1;31m---------------------------------------------------------------------------\u001b[0m",
      "\u001b[1;31mKeyError\u001b[0m                                  Traceback (most recent call last)",
      "\u001b[1;32m<ipython-input-74-4b194d78f082>\u001b[0m in \u001b[0;36m<module>\u001b[1;34m\u001b[0m\n\u001b[1;32m----> 1\u001b[1;33m \u001b[0mdf_matches_short\u001b[0m \u001b[1;33m=\u001b[0m \u001b[0mdf_matches_short\u001b[0m\u001b[1;33m.\u001b[0m\u001b[0mdrop\u001b[0m\u001b[1;33m(\u001b[0m\u001b[1;33m[\u001b[0m\u001b[1;34m'Greater Differences'\u001b[0m\u001b[1;33m,\u001b[0m \u001b[1;34m'Differences'\u001b[0m\u001b[1;33m]\u001b[0m\u001b[1;33m,\u001b[0m \u001b[0maxis\u001b[0m\u001b[1;33m=\u001b[0m\u001b[1;36m1\u001b[0m\u001b[1;33m)\u001b[0m\u001b[1;33m\u001b[0m\u001b[1;33m\u001b[0m\u001b[0m\n\u001b[0m",
      "\u001b[1;32m~\\AppData\\Local\\Programs\\Python\\Python37-32\\lib\\site-packages\\pandas\\core\\frame.py\u001b[0m in \u001b[0;36mdrop\u001b[1;34m(self, labels, axis, index, columns, level, inplace, errors)\u001b[0m\n\u001b[0;32m   4313\u001b[0m             \u001b[0mlevel\u001b[0m\u001b[1;33m=\u001b[0m\u001b[0mlevel\u001b[0m\u001b[1;33m,\u001b[0m\u001b[1;33m\u001b[0m\u001b[1;33m\u001b[0m\u001b[0m\n\u001b[0;32m   4314\u001b[0m             \u001b[0minplace\u001b[0m\u001b[1;33m=\u001b[0m\u001b[0minplace\u001b[0m\u001b[1;33m,\u001b[0m\u001b[1;33m\u001b[0m\u001b[1;33m\u001b[0m\u001b[0m\n\u001b[1;32m-> 4315\u001b[1;33m             \u001b[0merrors\u001b[0m\u001b[1;33m=\u001b[0m\u001b[0merrors\u001b[0m\u001b[1;33m,\u001b[0m\u001b[1;33m\u001b[0m\u001b[1;33m\u001b[0m\u001b[0m\n\u001b[0m\u001b[0;32m   4316\u001b[0m         )\n\u001b[0;32m   4317\u001b[0m \u001b[1;33m\u001b[0m\u001b[0m\n",
      "\u001b[1;32m~\\AppData\\Local\\Programs\\Python\\Python37-32\\lib\\site-packages\\pandas\\core\\generic.py\u001b[0m in \u001b[0;36mdrop\u001b[1;34m(self, labels, axis, index, columns, level, inplace, errors)\u001b[0m\n\u001b[0;32m   4151\u001b[0m         \u001b[1;32mfor\u001b[0m \u001b[0maxis\u001b[0m\u001b[1;33m,\u001b[0m \u001b[0mlabels\u001b[0m \u001b[1;32min\u001b[0m \u001b[0maxes\u001b[0m\u001b[1;33m.\u001b[0m\u001b[0mitems\u001b[0m\u001b[1;33m(\u001b[0m\u001b[1;33m)\u001b[0m\u001b[1;33m:\u001b[0m\u001b[1;33m\u001b[0m\u001b[1;33m\u001b[0m\u001b[0m\n\u001b[0;32m   4152\u001b[0m             \u001b[1;32mif\u001b[0m \u001b[0mlabels\u001b[0m \u001b[1;32mis\u001b[0m \u001b[1;32mnot\u001b[0m \u001b[1;32mNone\u001b[0m\u001b[1;33m:\u001b[0m\u001b[1;33m\u001b[0m\u001b[1;33m\u001b[0m\u001b[0m\n\u001b[1;32m-> 4153\u001b[1;33m                 \u001b[0mobj\u001b[0m \u001b[1;33m=\u001b[0m \u001b[0mobj\u001b[0m\u001b[1;33m.\u001b[0m\u001b[0m_drop_axis\u001b[0m\u001b[1;33m(\u001b[0m\u001b[0mlabels\u001b[0m\u001b[1;33m,\u001b[0m \u001b[0maxis\u001b[0m\u001b[1;33m,\u001b[0m \u001b[0mlevel\u001b[0m\u001b[1;33m=\u001b[0m\u001b[0mlevel\u001b[0m\u001b[1;33m,\u001b[0m \u001b[0merrors\u001b[0m\u001b[1;33m=\u001b[0m\u001b[0merrors\u001b[0m\u001b[1;33m)\u001b[0m\u001b[1;33m\u001b[0m\u001b[1;33m\u001b[0m\u001b[0m\n\u001b[0m\u001b[0;32m   4154\u001b[0m \u001b[1;33m\u001b[0m\u001b[0m\n\u001b[0;32m   4155\u001b[0m         \u001b[1;32mif\u001b[0m \u001b[0minplace\u001b[0m\u001b[1;33m:\u001b[0m\u001b[1;33m\u001b[0m\u001b[1;33m\u001b[0m\u001b[0m\n",
      "\u001b[1;32m~\\AppData\\Local\\Programs\\Python\\Python37-32\\lib\\site-packages\\pandas\\core\\generic.py\u001b[0m in \u001b[0;36m_drop_axis\u001b[1;34m(self, labels, axis, level, errors)\u001b[0m\n\u001b[0;32m   4186\u001b[0m                 \u001b[0mnew_axis\u001b[0m \u001b[1;33m=\u001b[0m \u001b[0maxis\u001b[0m\u001b[1;33m.\u001b[0m\u001b[0mdrop\u001b[0m\u001b[1;33m(\u001b[0m\u001b[0mlabels\u001b[0m\u001b[1;33m,\u001b[0m \u001b[0mlevel\u001b[0m\u001b[1;33m=\u001b[0m\u001b[0mlevel\u001b[0m\u001b[1;33m,\u001b[0m \u001b[0merrors\u001b[0m\u001b[1;33m=\u001b[0m\u001b[0merrors\u001b[0m\u001b[1;33m)\u001b[0m\u001b[1;33m\u001b[0m\u001b[1;33m\u001b[0m\u001b[0m\n\u001b[0;32m   4187\u001b[0m             \u001b[1;32melse\u001b[0m\u001b[1;33m:\u001b[0m\u001b[1;33m\u001b[0m\u001b[1;33m\u001b[0m\u001b[0m\n\u001b[1;32m-> 4188\u001b[1;33m                 \u001b[0mnew_axis\u001b[0m \u001b[1;33m=\u001b[0m \u001b[0maxis\u001b[0m\u001b[1;33m.\u001b[0m\u001b[0mdrop\u001b[0m\u001b[1;33m(\u001b[0m\u001b[0mlabels\u001b[0m\u001b[1;33m,\u001b[0m \u001b[0merrors\u001b[0m\u001b[1;33m=\u001b[0m\u001b[0merrors\u001b[0m\u001b[1;33m)\u001b[0m\u001b[1;33m\u001b[0m\u001b[1;33m\u001b[0m\u001b[0m\n\u001b[0m\u001b[0;32m   4189\u001b[0m             \u001b[0mresult\u001b[0m \u001b[1;33m=\u001b[0m \u001b[0mself\u001b[0m\u001b[1;33m.\u001b[0m\u001b[0mreindex\u001b[0m\u001b[1;33m(\u001b[0m\u001b[1;33m**\u001b[0m\u001b[1;33m{\u001b[0m\u001b[0maxis_name\u001b[0m\u001b[1;33m:\u001b[0m \u001b[0mnew_axis\u001b[0m\u001b[1;33m}\u001b[0m\u001b[1;33m)\u001b[0m\u001b[1;33m\u001b[0m\u001b[1;33m\u001b[0m\u001b[0m\n\u001b[0;32m   4190\u001b[0m \u001b[1;33m\u001b[0m\u001b[0m\n",
      "\u001b[1;32m~\\AppData\\Local\\Programs\\Python\\Python37-32\\lib\\site-packages\\pandas\\core\\indexes\\base.py\u001b[0m in \u001b[0;36mdrop\u001b[1;34m(self, labels, errors)\u001b[0m\n\u001b[0;32m   5589\u001b[0m         \u001b[1;32mif\u001b[0m \u001b[0mmask\u001b[0m\u001b[1;33m.\u001b[0m\u001b[0many\u001b[0m\u001b[1;33m(\u001b[0m\u001b[1;33m)\u001b[0m\u001b[1;33m:\u001b[0m\u001b[1;33m\u001b[0m\u001b[1;33m\u001b[0m\u001b[0m\n\u001b[0;32m   5590\u001b[0m             \u001b[1;32mif\u001b[0m \u001b[0merrors\u001b[0m \u001b[1;33m!=\u001b[0m \u001b[1;34m\"ignore\"\u001b[0m\u001b[1;33m:\u001b[0m\u001b[1;33m\u001b[0m\u001b[1;33m\u001b[0m\u001b[0m\n\u001b[1;32m-> 5591\u001b[1;33m                 \u001b[1;32mraise\u001b[0m \u001b[0mKeyError\u001b[0m\u001b[1;33m(\u001b[0m\u001b[1;34mf\"{labels[mask]} not found in axis\"\u001b[0m\u001b[1;33m)\u001b[0m\u001b[1;33m\u001b[0m\u001b[1;33m\u001b[0m\u001b[0m\n\u001b[0m\u001b[0;32m   5592\u001b[0m             \u001b[0mindexer\u001b[0m \u001b[1;33m=\u001b[0m \u001b[0mindexer\u001b[0m\u001b[1;33m[\u001b[0m\u001b[1;33m~\u001b[0m\u001b[0mmask\u001b[0m\u001b[1;33m]\u001b[0m\u001b[1;33m\u001b[0m\u001b[1;33m\u001b[0m\u001b[0m\n\u001b[0;32m   5593\u001b[0m         \u001b[1;32mreturn\u001b[0m \u001b[0mself\u001b[0m\u001b[1;33m.\u001b[0m\u001b[0mdelete\u001b[0m\u001b[1;33m(\u001b[0m\u001b[0mindexer\u001b[0m\u001b[1;33m)\u001b[0m\u001b[1;33m\u001b[0m\u001b[1;33m\u001b[0m\u001b[0m\n",
      "\u001b[1;31mKeyError\u001b[0m: \"['Greater Differences' 'Differences'] not found in axis\""
     ]
    }
   ],
   "source": [
    "df_matches_short = df_matches_short.drop(['Greater Differences', 'Differences'], axis=1)"
   ]
  },
  {
   "cell_type": "code",
   "execution_count": 72,
   "metadata": {},
   "outputs": [
    {
     "output_type": "execute_result",
     "data": {
      "text/plain": [
       "     Year Home Team Name  Away Team Name  Home Team Goals  Away Team Goals  \\\n",
       "80   1954        Hungary  Korea Republic                9                0   \n",
       "243  1974     Yugoslavia           Zaire                9                0   \n",
       "312  1982        Hungary     El Salvador               10                1   \n",
       "66   1950        Uruguay         Bolivia                8                0   \n",
       "46   1938         Sweden            Cuba                8                0   \n",
       "583  2002        Germany    Saudi Arabia                8                0   \n",
       "88   1954         Turkey  Korea Republic                7                0   \n",
       "737  2010       Portugal       Korea DPR                7                0   \n",
       "246  1974          Haiti          Poland                0                7   \n",
       "83   1954        Uruguay        Scotland                7                0   \n",
       "24   1934          Italy             USA                7                1   \n",
       "848  2014         Brazil         Germany                1                7   \n",
       "70   1950         Brazil          Sweden                7                1   \n",
       "305  1978      Argentina            Peru                6                0   \n",
       "280  1978     Germany FR          Mexico                6                0   \n",
       "\n",
       "     Total Goals  Goal Differences  \n",
       "80             9                 9  \n",
       "243            9                 9  \n",
       "312           11                 9  \n",
       "66             8                 8  \n",
       "46             8                 8  \n",
       "583            8                 8  \n",
       "88             7                 7  \n",
       "737            7                 7  \n",
       "246            7                 7  \n",
       "83             7                 7  \n",
       "24             8                 6  \n",
       "848            8                 6  \n",
       "70             8                 6  \n",
       "305            6                 6  \n",
       "280            6                 6  "
      ],
      "text/html": "<div>\n<style scoped>\n    .dataframe tbody tr th:only-of-type {\n        vertical-align: middle;\n    }\n\n    .dataframe tbody tr th {\n        vertical-align: top;\n    }\n\n    .dataframe thead th {\n        text-align: right;\n    }\n</style>\n<table border=\"1\" class=\"dataframe\">\n  <thead>\n    <tr style=\"text-align: right;\">\n      <th></th>\n      <th>Year</th>\n      <th>Home Team Name</th>\n      <th>Away Team Name</th>\n      <th>Home Team Goals</th>\n      <th>Away Team Goals</th>\n      <th>Total Goals</th>\n      <th>Goal Differences</th>\n    </tr>\n  </thead>\n  <tbody>\n    <tr>\n      <th>80</th>\n      <td>1954</td>\n      <td>Hungary</td>\n      <td>Korea Republic</td>\n      <td>9</td>\n      <td>0</td>\n      <td>9</td>\n      <td>9</td>\n    </tr>\n    <tr>\n      <th>243</th>\n      <td>1974</td>\n      <td>Yugoslavia</td>\n      <td>Zaire</td>\n      <td>9</td>\n      <td>0</td>\n      <td>9</td>\n      <td>9</td>\n    </tr>\n    <tr>\n      <th>312</th>\n      <td>1982</td>\n      <td>Hungary</td>\n      <td>El Salvador</td>\n      <td>10</td>\n      <td>1</td>\n      <td>11</td>\n      <td>9</td>\n    </tr>\n    <tr>\n      <th>66</th>\n      <td>1950</td>\n      <td>Uruguay</td>\n      <td>Bolivia</td>\n      <td>8</td>\n      <td>0</td>\n      <td>8</td>\n      <td>8</td>\n    </tr>\n    <tr>\n      <th>46</th>\n      <td>1938</td>\n      <td>Sweden</td>\n      <td>Cuba</td>\n      <td>8</td>\n      <td>0</td>\n      <td>8</td>\n      <td>8</td>\n    </tr>\n    <tr>\n      <th>583</th>\n      <td>2002</td>\n      <td>Germany</td>\n      <td>Saudi Arabia</td>\n      <td>8</td>\n      <td>0</td>\n      <td>8</td>\n      <td>8</td>\n    </tr>\n    <tr>\n      <th>88</th>\n      <td>1954</td>\n      <td>Turkey</td>\n      <td>Korea Republic</td>\n      <td>7</td>\n      <td>0</td>\n      <td>7</td>\n      <td>7</td>\n    </tr>\n    <tr>\n      <th>737</th>\n      <td>2010</td>\n      <td>Portugal</td>\n      <td>Korea DPR</td>\n      <td>7</td>\n      <td>0</td>\n      <td>7</td>\n      <td>7</td>\n    </tr>\n    <tr>\n      <th>246</th>\n      <td>1974</td>\n      <td>Haiti</td>\n      <td>Poland</td>\n      <td>0</td>\n      <td>7</td>\n      <td>7</td>\n      <td>7</td>\n    </tr>\n    <tr>\n      <th>83</th>\n      <td>1954</td>\n      <td>Uruguay</td>\n      <td>Scotland</td>\n      <td>7</td>\n      <td>0</td>\n      <td>7</td>\n      <td>7</td>\n    </tr>\n    <tr>\n      <th>24</th>\n      <td>1934</td>\n      <td>Italy</td>\n      <td>USA</td>\n      <td>7</td>\n      <td>1</td>\n      <td>8</td>\n      <td>6</td>\n    </tr>\n    <tr>\n      <th>848</th>\n      <td>2014</td>\n      <td>Brazil</td>\n      <td>Germany</td>\n      <td>1</td>\n      <td>7</td>\n      <td>8</td>\n      <td>6</td>\n    </tr>\n    <tr>\n      <th>70</th>\n      <td>1950</td>\n      <td>Brazil</td>\n      <td>Sweden</td>\n      <td>7</td>\n      <td>1</td>\n      <td>8</td>\n      <td>6</td>\n    </tr>\n    <tr>\n      <th>305</th>\n      <td>1978</td>\n      <td>Argentina</td>\n      <td>Peru</td>\n      <td>6</td>\n      <td>0</td>\n      <td>6</td>\n      <td>6</td>\n    </tr>\n    <tr>\n      <th>280</th>\n      <td>1978</td>\n      <td>Germany FR</td>\n      <td>Mexico</td>\n      <td>6</td>\n      <td>0</td>\n      <td>6</td>\n      <td>6</td>\n    </tr>\n  </tbody>\n</table>\n</div>"
     },
     "metadata": {},
     "execution_count": 72
    }
   ],
   "source": [
    "# Mayores goleadas\n",
    "df_matches_short.sort_values(by = 'Goal Differences', ascending=False).head(15)"
   ]
  },
  {
   "cell_type": "code",
   "execution_count": 75,
   "metadata": {},
   "outputs": [
    {
     "output_type": "execute_result",
     "data": {
      "text/plain": [
       "     Year Home Team Name             Away Team Name  Home Team Goals  \\\n",
       "583  2002        Germany               Saudi Arabia                8   \n",
       "737  2010       Portugal                  Korea DPR                7   \n",
       "848  2014         Brazil                    Germany                1   \n",
       "664  2006      Argentina  rn\">Serbia and Montenegro                6   \n",
       "826  2014         Brazil                    Germany                1   \n",
       "791  2014       Cameroon                    Croatia                0   \n",
       "658  2006          Spain                    Ukraine                4   \n",
       "715  2010        Germany                  Australia                4   \n",
       "610  2002       Portugal                     Poland                4   \n",
       "674  2006   Saudi Arabia                    Ukraine                0   \n",
       "604  2002         Brazil                   China PR                4   \n",
       "783  2014        Germany                   Portugal                4   \n",
       "774  2014          Spain                Netherlands                1   \n",
       "766  2010      Argentina                    Germany                0   \n",
       "758  2010        Germany                    England                4   \n",
       "\n",
       "     Away Team Goals  Total Goals  Goal Differences  \n",
       "583                0            8                 8  \n",
       "737                0            7                 7  \n",
       "848                7            8                 6  \n",
       "664                0            6                 6  \n",
       "826                7            8                 6  \n",
       "791                4            4                 4  \n",
       "658                0            4                 4  \n",
       "715                0            4                 4  \n",
       "610                0            4                 4  \n",
       "674                4            4                 4  \n",
       "604                0            4                 4  \n",
       "783                0            4                 4  \n",
       "774                5            6                 4  \n",
       "766                4            4                 4  \n",
       "758                1            5                 3  "
      ],
      "text/html": "<div>\n<style scoped>\n    .dataframe tbody tr th:only-of-type {\n        vertical-align: middle;\n    }\n\n    .dataframe tbody tr th {\n        vertical-align: top;\n    }\n\n    .dataframe thead th {\n        text-align: right;\n    }\n</style>\n<table border=\"1\" class=\"dataframe\">\n  <thead>\n    <tr style=\"text-align: right;\">\n      <th></th>\n      <th>Year</th>\n      <th>Home Team Name</th>\n      <th>Away Team Name</th>\n      <th>Home Team Goals</th>\n      <th>Away Team Goals</th>\n      <th>Total Goals</th>\n      <th>Goal Differences</th>\n    </tr>\n  </thead>\n  <tbody>\n    <tr>\n      <th>583</th>\n      <td>2002</td>\n      <td>Germany</td>\n      <td>Saudi Arabia</td>\n      <td>8</td>\n      <td>0</td>\n      <td>8</td>\n      <td>8</td>\n    </tr>\n    <tr>\n      <th>737</th>\n      <td>2010</td>\n      <td>Portugal</td>\n      <td>Korea DPR</td>\n      <td>7</td>\n      <td>0</td>\n      <td>7</td>\n      <td>7</td>\n    </tr>\n    <tr>\n      <th>848</th>\n      <td>2014</td>\n      <td>Brazil</td>\n      <td>Germany</td>\n      <td>1</td>\n      <td>7</td>\n      <td>8</td>\n      <td>6</td>\n    </tr>\n    <tr>\n      <th>664</th>\n      <td>2006</td>\n      <td>Argentina</td>\n      <td>rn\"&gt;Serbia and Montenegro</td>\n      <td>6</td>\n      <td>0</td>\n      <td>6</td>\n      <td>6</td>\n    </tr>\n    <tr>\n      <th>826</th>\n      <td>2014</td>\n      <td>Brazil</td>\n      <td>Germany</td>\n      <td>1</td>\n      <td>7</td>\n      <td>8</td>\n      <td>6</td>\n    </tr>\n    <tr>\n      <th>791</th>\n      <td>2014</td>\n      <td>Cameroon</td>\n      <td>Croatia</td>\n      <td>0</td>\n      <td>4</td>\n      <td>4</td>\n      <td>4</td>\n    </tr>\n    <tr>\n      <th>658</th>\n      <td>2006</td>\n      <td>Spain</td>\n      <td>Ukraine</td>\n      <td>4</td>\n      <td>0</td>\n      <td>4</td>\n      <td>4</td>\n    </tr>\n    <tr>\n      <th>715</th>\n      <td>2010</td>\n      <td>Germany</td>\n      <td>Australia</td>\n      <td>4</td>\n      <td>0</td>\n      <td>4</td>\n      <td>4</td>\n    </tr>\n    <tr>\n      <th>610</th>\n      <td>2002</td>\n      <td>Portugal</td>\n      <td>Poland</td>\n      <td>4</td>\n      <td>0</td>\n      <td>4</td>\n      <td>4</td>\n    </tr>\n    <tr>\n      <th>674</th>\n      <td>2006</td>\n      <td>Saudi Arabia</td>\n      <td>Ukraine</td>\n      <td>0</td>\n      <td>4</td>\n      <td>4</td>\n      <td>4</td>\n    </tr>\n    <tr>\n      <th>604</th>\n      <td>2002</td>\n      <td>Brazil</td>\n      <td>China PR</td>\n      <td>4</td>\n      <td>0</td>\n      <td>4</td>\n      <td>4</td>\n    </tr>\n    <tr>\n      <th>783</th>\n      <td>2014</td>\n      <td>Germany</td>\n      <td>Portugal</td>\n      <td>4</td>\n      <td>0</td>\n      <td>4</td>\n      <td>4</td>\n    </tr>\n    <tr>\n      <th>774</th>\n      <td>2014</td>\n      <td>Spain</td>\n      <td>Netherlands</td>\n      <td>1</td>\n      <td>5</td>\n      <td>6</td>\n      <td>4</td>\n    </tr>\n    <tr>\n      <th>766</th>\n      <td>2010</td>\n      <td>Argentina</td>\n      <td>Germany</td>\n      <td>0</td>\n      <td>4</td>\n      <td>4</td>\n      <td>4</td>\n    </tr>\n    <tr>\n      <th>758</th>\n      <td>2010</td>\n      <td>Germany</td>\n      <td>England</td>\n      <td>4</td>\n      <td>1</td>\n      <td>5</td>\n      <td>3</td>\n    </tr>\n  </tbody>\n</table>\n</div>"
     },
     "metadata": {},
     "execution_count": 75
    }
   ],
   "source": [
    "# Mayores goleadas del 2000 en adelante\n",
    "df_matches_short.sort_values(by = 'Goal Differences', ascending=False).loc[df_matches_short['Year'] > 2000].head(15)"
   ]
  },
  {
   "source": [
    "Goles promedio por partido para cada mundial"
   ],
   "cell_type": "markdown",
   "metadata": {}
  },
  {
   "cell_type": "code",
   "execution_count": 77,
   "metadata": {},
   "outputs": [
    {
     "output_type": "execute_result",
     "data": {
      "text/plain": [
       "               Name  Year      Country      Winner      Runners-Up    Third  \\\n",
       "0      Uruguay 1930  1930      Uruguay     Uruguay       Argentina      USA   \n",
       "1        Italy 1934  1934        Italy       Italy  Czechoslovakia  Germany   \n",
       "2       France 1938  1938       France       Italy         Hungary   Brazil   \n",
       "3       Brazil 1950  1950       Brazil     Uruguay          Brazil   Sweden   \n",
       "4  Switzerland 1954  1954  Switzerland  Germany FR         Hungary  Austria   \n",
       "\n",
       "       Fourth  GoalsScored  QualifiedTeams  MatchesPlayed Attendance  AvgGoals  \n",
       "0  Yugoslavia           70              13             18    590.549  3.888889  \n",
       "1     Austria           70              16             17        363  4.117647  \n",
       "2      Sweden           84              15             18      375.7  4.666667  \n",
       "3       Spain           88              13             22  1.045.246  4.000000  \n",
       "4     Uruguay          140              16             26    768.607  5.384615  "
      ],
      "text/html": "<div>\n<style scoped>\n    .dataframe tbody tr th:only-of-type {\n        vertical-align: middle;\n    }\n\n    .dataframe tbody tr th {\n        vertical-align: top;\n    }\n\n    .dataframe thead th {\n        text-align: right;\n    }\n</style>\n<table border=\"1\" class=\"dataframe\">\n  <thead>\n    <tr style=\"text-align: right;\">\n      <th></th>\n      <th>Name</th>\n      <th>Year</th>\n      <th>Country</th>\n      <th>Winner</th>\n      <th>Runners-Up</th>\n      <th>Third</th>\n      <th>Fourth</th>\n      <th>GoalsScored</th>\n      <th>QualifiedTeams</th>\n      <th>MatchesPlayed</th>\n      <th>Attendance</th>\n      <th>AvgGoals</th>\n    </tr>\n  </thead>\n  <tbody>\n    <tr>\n      <th>0</th>\n      <td>Uruguay 1930</td>\n      <td>1930</td>\n      <td>Uruguay</td>\n      <td>Uruguay</td>\n      <td>Argentina</td>\n      <td>USA</td>\n      <td>Yugoslavia</td>\n      <td>70</td>\n      <td>13</td>\n      <td>18</td>\n      <td>590.549</td>\n      <td>3.888889</td>\n    </tr>\n    <tr>\n      <th>1</th>\n      <td>Italy 1934</td>\n      <td>1934</td>\n      <td>Italy</td>\n      <td>Italy</td>\n      <td>Czechoslovakia</td>\n      <td>Germany</td>\n      <td>Austria</td>\n      <td>70</td>\n      <td>16</td>\n      <td>17</td>\n      <td>363</td>\n      <td>4.117647</td>\n    </tr>\n    <tr>\n      <th>2</th>\n      <td>France 1938</td>\n      <td>1938</td>\n      <td>France</td>\n      <td>Italy</td>\n      <td>Hungary</td>\n      <td>Brazil</td>\n      <td>Sweden</td>\n      <td>84</td>\n      <td>15</td>\n      <td>18</td>\n      <td>375.7</td>\n      <td>4.666667</td>\n    </tr>\n    <tr>\n      <th>3</th>\n      <td>Brazil 1950</td>\n      <td>1950</td>\n      <td>Brazil</td>\n      <td>Uruguay</td>\n      <td>Brazil</td>\n      <td>Sweden</td>\n      <td>Spain</td>\n      <td>88</td>\n      <td>13</td>\n      <td>22</td>\n      <td>1.045.246</td>\n      <td>4.000000</td>\n    </tr>\n    <tr>\n      <th>4</th>\n      <td>Switzerland 1954</td>\n      <td>1954</td>\n      <td>Switzerland</td>\n      <td>Germany FR</td>\n      <td>Hungary</td>\n      <td>Austria</td>\n      <td>Uruguay</td>\n      <td>140</td>\n      <td>16</td>\n      <td>26</td>\n      <td>768.607</td>\n      <td>5.384615</td>\n    </tr>\n  </tbody>\n</table>\n</div>"
     },
     "metadata": {},
     "execution_count": 77
    }
   ],
   "source": [
    "df_mundiales['AvgGoals'] = df_mundiales['GoalsScored'] / df_mundiales['MatchesPlayed']\n",
    "df_mundiales.head()"
   ]
  },
  {
   "cell_type": "code",
   "execution_count": 79,
   "metadata": {},
   "outputs": [
    {
     "output_type": "execute_result",
     "data": {
      "text/plain": [
       "                Name  Year      Country      Winner      Runners-Up  \\\n",
       "4   Switzerland 1954  1954  Switzerland  Germany FR         Hungary   \n",
       "2        France 1938  1938       France       Italy         Hungary   \n",
       "1         Italy 1934  1934        Italy       Italy  Czechoslovakia   \n",
       "3        Brazil 1950  1950       Brazil     Uruguay          Brazil   \n",
       "0       Uruguay 1930  1930      Uruguay     Uruguay       Argentina   \n",
       "5        Sweden 1958  1958       Sweden      Brazil          Sweden   \n",
       "8        Mexico 1970  1970       Mexico      Brazil           Italy   \n",
       "11        Spain 1982  1982        Spain       Italy      Germany FR   \n",
       "6         Chile 1962  1962        Chile      Brazil  Czechoslovakia   \n",
       "7       England 1966  1966      England     England      Germany FR   \n",
       "14          USA 1994  1994          USA      Brazil           Italy   \n",
       "10    Argentina 1978  1978    Argentina   Argentina     Netherlands   \n",
       "15       France 1998  1998       France      France          Brazil   \n",
       "19       Brazil 2014  2014       Brazil     Germany       Argentina   \n",
       "9       Germany 1974  1974      Germany  Germany FR     Netherlands   \n",
       "\n",
       "          Third        Fourth  GoalsScored  QualifiedTeams  MatchesPlayed  \\\n",
       "4       Austria       Uruguay          140              16             26   \n",
       "2        Brazil        Sweden           84              15             18   \n",
       "1       Germany       Austria           70              16             17   \n",
       "3        Sweden         Spain           88              13             22   \n",
       "0           USA    Yugoslavia           70              13             18   \n",
       "5        France    Germany FR          126              16             35   \n",
       "8    Germany FR       Uruguay           95              16             32   \n",
       "11       Poland        France          146              24             52   \n",
       "6         Chile    Yugoslavia           89              16             32   \n",
       "7      Portugal  Soviet Union           89              16             32   \n",
       "14       Sweden      Bulgaria          141              24             52   \n",
       "10       Brazil         Italy          102              16             38   \n",
       "15      Croatia   Netherlands          171              32             64   \n",
       "19  Netherlands        Brazil          171              32             64   \n",
       "9        Poland        Brazil           97              16             38   \n",
       "\n",
       "   Attendance  AvgGoals  \n",
       "4     768.607  5.384615  \n",
       "2       375.7  4.666667  \n",
       "1         363  4.117647  \n",
       "3   1.045.246  4.000000  \n",
       "0     590.549  3.888889  \n",
       "5      819.81  3.600000  \n",
       "8   1.603.975  2.968750  \n",
       "11  2.109.723  2.807692  \n",
       "6     893.172  2.781250  \n",
       "7   1.563.135  2.781250  \n",
       "14  3.587.538  2.711538  \n",
       "10  1.545.791  2.684211  \n",
       "15  2.785.100  2.671875  \n",
       "19  3.386.810  2.671875  \n",
       "9   1.865.753  2.552632  "
      ],
      "text/html": "<div>\n<style scoped>\n    .dataframe tbody tr th:only-of-type {\n        vertical-align: middle;\n    }\n\n    .dataframe tbody tr th {\n        vertical-align: top;\n    }\n\n    .dataframe thead th {\n        text-align: right;\n    }\n</style>\n<table border=\"1\" class=\"dataframe\">\n  <thead>\n    <tr style=\"text-align: right;\">\n      <th></th>\n      <th>Name</th>\n      <th>Year</th>\n      <th>Country</th>\n      <th>Winner</th>\n      <th>Runners-Up</th>\n      <th>Third</th>\n      <th>Fourth</th>\n      <th>GoalsScored</th>\n      <th>QualifiedTeams</th>\n      <th>MatchesPlayed</th>\n      <th>Attendance</th>\n      <th>AvgGoals</th>\n    </tr>\n  </thead>\n  <tbody>\n    <tr>\n      <th>4</th>\n      <td>Switzerland 1954</td>\n      <td>1954</td>\n      <td>Switzerland</td>\n      <td>Germany FR</td>\n      <td>Hungary</td>\n      <td>Austria</td>\n      <td>Uruguay</td>\n      <td>140</td>\n      <td>16</td>\n      <td>26</td>\n      <td>768.607</td>\n      <td>5.384615</td>\n    </tr>\n    <tr>\n      <th>2</th>\n      <td>France 1938</td>\n      <td>1938</td>\n      <td>France</td>\n      <td>Italy</td>\n      <td>Hungary</td>\n      <td>Brazil</td>\n      <td>Sweden</td>\n      <td>84</td>\n      <td>15</td>\n      <td>18</td>\n      <td>375.7</td>\n      <td>4.666667</td>\n    </tr>\n    <tr>\n      <th>1</th>\n      <td>Italy 1934</td>\n      <td>1934</td>\n      <td>Italy</td>\n      <td>Italy</td>\n      <td>Czechoslovakia</td>\n      <td>Germany</td>\n      <td>Austria</td>\n      <td>70</td>\n      <td>16</td>\n      <td>17</td>\n      <td>363</td>\n      <td>4.117647</td>\n    </tr>\n    <tr>\n      <th>3</th>\n      <td>Brazil 1950</td>\n      <td>1950</td>\n      <td>Brazil</td>\n      <td>Uruguay</td>\n      <td>Brazil</td>\n      <td>Sweden</td>\n      <td>Spain</td>\n      <td>88</td>\n      <td>13</td>\n      <td>22</td>\n      <td>1.045.246</td>\n      <td>4.000000</td>\n    </tr>\n    <tr>\n      <th>0</th>\n      <td>Uruguay 1930</td>\n      <td>1930</td>\n      <td>Uruguay</td>\n      <td>Uruguay</td>\n      <td>Argentina</td>\n      <td>USA</td>\n      <td>Yugoslavia</td>\n      <td>70</td>\n      <td>13</td>\n      <td>18</td>\n      <td>590.549</td>\n      <td>3.888889</td>\n    </tr>\n    <tr>\n      <th>5</th>\n      <td>Sweden 1958</td>\n      <td>1958</td>\n      <td>Sweden</td>\n      <td>Brazil</td>\n      <td>Sweden</td>\n      <td>France</td>\n      <td>Germany FR</td>\n      <td>126</td>\n      <td>16</td>\n      <td>35</td>\n      <td>819.81</td>\n      <td>3.600000</td>\n    </tr>\n    <tr>\n      <th>8</th>\n      <td>Mexico 1970</td>\n      <td>1970</td>\n      <td>Mexico</td>\n      <td>Brazil</td>\n      <td>Italy</td>\n      <td>Germany FR</td>\n      <td>Uruguay</td>\n      <td>95</td>\n      <td>16</td>\n      <td>32</td>\n      <td>1.603.975</td>\n      <td>2.968750</td>\n    </tr>\n    <tr>\n      <th>11</th>\n      <td>Spain 1982</td>\n      <td>1982</td>\n      <td>Spain</td>\n      <td>Italy</td>\n      <td>Germany FR</td>\n      <td>Poland</td>\n      <td>France</td>\n      <td>146</td>\n      <td>24</td>\n      <td>52</td>\n      <td>2.109.723</td>\n      <td>2.807692</td>\n    </tr>\n    <tr>\n      <th>6</th>\n      <td>Chile 1962</td>\n      <td>1962</td>\n      <td>Chile</td>\n      <td>Brazil</td>\n      <td>Czechoslovakia</td>\n      <td>Chile</td>\n      <td>Yugoslavia</td>\n      <td>89</td>\n      <td>16</td>\n      <td>32</td>\n      <td>893.172</td>\n      <td>2.781250</td>\n    </tr>\n    <tr>\n      <th>7</th>\n      <td>England 1966</td>\n      <td>1966</td>\n      <td>England</td>\n      <td>England</td>\n      <td>Germany FR</td>\n      <td>Portugal</td>\n      <td>Soviet Union</td>\n      <td>89</td>\n      <td>16</td>\n      <td>32</td>\n      <td>1.563.135</td>\n      <td>2.781250</td>\n    </tr>\n    <tr>\n      <th>14</th>\n      <td>USA 1994</td>\n      <td>1994</td>\n      <td>USA</td>\n      <td>Brazil</td>\n      <td>Italy</td>\n      <td>Sweden</td>\n      <td>Bulgaria</td>\n      <td>141</td>\n      <td>24</td>\n      <td>52</td>\n      <td>3.587.538</td>\n      <td>2.711538</td>\n    </tr>\n    <tr>\n      <th>10</th>\n      <td>Argentina 1978</td>\n      <td>1978</td>\n      <td>Argentina</td>\n      <td>Argentina</td>\n      <td>Netherlands</td>\n      <td>Brazil</td>\n      <td>Italy</td>\n      <td>102</td>\n      <td>16</td>\n      <td>38</td>\n      <td>1.545.791</td>\n      <td>2.684211</td>\n    </tr>\n    <tr>\n      <th>15</th>\n      <td>France 1998</td>\n      <td>1998</td>\n      <td>France</td>\n      <td>France</td>\n      <td>Brazil</td>\n      <td>Croatia</td>\n      <td>Netherlands</td>\n      <td>171</td>\n      <td>32</td>\n      <td>64</td>\n      <td>2.785.100</td>\n      <td>2.671875</td>\n    </tr>\n    <tr>\n      <th>19</th>\n      <td>Brazil 2014</td>\n      <td>2014</td>\n      <td>Brazil</td>\n      <td>Germany</td>\n      <td>Argentina</td>\n      <td>Netherlands</td>\n      <td>Brazil</td>\n      <td>171</td>\n      <td>32</td>\n      <td>64</td>\n      <td>3.386.810</td>\n      <td>2.671875</td>\n    </tr>\n    <tr>\n      <th>9</th>\n      <td>Germany 1974</td>\n      <td>1974</td>\n      <td>Germany</td>\n      <td>Germany FR</td>\n      <td>Netherlands</td>\n      <td>Poland</td>\n      <td>Brazil</td>\n      <td>97</td>\n      <td>16</td>\n      <td>38</td>\n      <td>1.865.753</td>\n      <td>2.552632</td>\n    </tr>\n  </tbody>\n</table>\n</div>"
     },
     "metadata": {},
     "execution_count": 79
    }
   ],
   "source": [
    "df_mundiales.sort_values(by = 'AvgGoals', ascending=False).head(15)"
   ]
  },
  {
   "source": [
    "Goleadores Historicos de los Mundiales"
   ],
   "cell_type": "markdown",
   "metadata": {}
  },
  {
   "cell_type": "code",
   "execution_count": 81,
   "metadata": {},
   "outputs": [
    {
     "output_type": "execute_result",
     "data": {
      "text/plain": [
       "    RoundID  MatchID Team Initials           Coach Name Line-up  Shirt Number  \\\n",
       "2       201     1096           FRA  CAUDRON Raoul (FRA)       S             0   \n",
       "3       201     1096           MEX     LUQUE Juan (MEX)       S             0   \n",
       "6       201     1096           FRA  CAUDRON Raoul (FRA)       S             0   \n",
       "14      201     1096           FRA  CAUDRON Raoul (FRA)       S             0   \n",
       "35      201     1090           USA     MILLAR Bob (USA)       S             0   \n",
       "\n",
       "         Player Name Position      Event  \n",
       "2   Marcel LANGILLER      NaN       G40'  \n",
       "3       Juan CARRENO      NaN       G70'  \n",
       "6    Andre MASCHINOT      NaN  G43' G87'  \n",
       "14    Lucien LAURENT      NaN       G19'  \n",
       "35        Tom FLORIE        C       G45'  "
      ],
      "text/html": "<div>\n<style scoped>\n    .dataframe tbody tr th:only-of-type {\n        vertical-align: middle;\n    }\n\n    .dataframe tbody tr th {\n        vertical-align: top;\n    }\n\n    .dataframe thead th {\n        text-align: right;\n    }\n</style>\n<table border=\"1\" class=\"dataframe\">\n  <thead>\n    <tr style=\"text-align: right;\">\n      <th></th>\n      <th>RoundID</th>\n      <th>MatchID</th>\n      <th>Team Initials</th>\n      <th>Coach Name</th>\n      <th>Line-up</th>\n      <th>Shirt Number</th>\n      <th>Player Name</th>\n      <th>Position</th>\n      <th>Event</th>\n    </tr>\n  </thead>\n  <tbody>\n    <tr>\n      <th>2</th>\n      <td>201</td>\n      <td>1096</td>\n      <td>FRA</td>\n      <td>CAUDRON Raoul (FRA)</td>\n      <td>S</td>\n      <td>0</td>\n      <td>Marcel LANGILLER</td>\n      <td>NaN</td>\n      <td>G40'</td>\n    </tr>\n    <tr>\n      <th>3</th>\n      <td>201</td>\n      <td>1096</td>\n      <td>MEX</td>\n      <td>LUQUE Juan (MEX)</td>\n      <td>S</td>\n      <td>0</td>\n      <td>Juan CARRENO</td>\n      <td>NaN</td>\n      <td>G70'</td>\n    </tr>\n    <tr>\n      <th>6</th>\n      <td>201</td>\n      <td>1096</td>\n      <td>FRA</td>\n      <td>CAUDRON Raoul (FRA)</td>\n      <td>S</td>\n      <td>0</td>\n      <td>Andre MASCHINOT</td>\n      <td>NaN</td>\n      <td>G43' G87'</td>\n    </tr>\n    <tr>\n      <th>14</th>\n      <td>201</td>\n      <td>1096</td>\n      <td>FRA</td>\n      <td>CAUDRON Raoul (FRA)</td>\n      <td>S</td>\n      <td>0</td>\n      <td>Lucien LAURENT</td>\n      <td>NaN</td>\n      <td>G19'</td>\n    </tr>\n    <tr>\n      <th>35</th>\n      <td>201</td>\n      <td>1090</td>\n      <td>USA</td>\n      <td>MILLAR Bob (USA)</td>\n      <td>S</td>\n      <td>0</td>\n      <td>Tom FLORIE</td>\n      <td>C</td>\n      <td>G45'</td>\n    </tr>\n  </tbody>\n</table>\n</div>"
     },
     "metadata": {},
     "execution_count": 81
    }
   ],
   "source": [
    "df_players_events = df_players.dropna(subset=['Event'])\n",
    "df_players_events.head()"
   ]
  },
  {
   "cell_type": "code",
   "execution_count": 82,
   "metadata": {},
   "outputs": [],
   "source": [
    "def cantidad_goles(cadena):\n",
    "    return cadena.count('G')"
   ]
  },
  {
   "cell_type": "code",
   "execution_count": 87,
   "metadata": {},
   "outputs": [
    {
     "output_type": "stream",
     "name": "stderr",
     "text": [
      "ipykernel_launcher:2: SettingWithCopyWarning: \nA value is trying to be set on a copy of a slice from a DataFrame.\nTry using .loc[row_indexer,col_indexer] = value instead\n\nSee the caveats in the documentation: https://pandas.pydata.org/pandas-docs/stable/user_guide/indexing.html#returning-a-view-versus-a-copy\n"
     ]
    }
   ],
   "source": [
    "# Asigno a una nueva columna la cantidad de goles de un jugador aplicando la función cantidad_goles a la columna de eventos\n",
    "df_players_events['Goals'] = df_players_events['Event'].apply(cantidad_goles)"
   ]
  },
  {
   "cell_type": "code",
   "execution_count": 88,
   "metadata": {},
   "outputs": [
    {
     "output_type": "execute_result",
     "data": {
      "text/plain": [
       "    RoundID  MatchID Team Initials           Coach Name Line-up  Shirt Number  \\\n",
       "2       201     1096           FRA  CAUDRON Raoul (FRA)       S             0   \n",
       "3       201     1096           MEX     LUQUE Juan (MEX)       S             0   \n",
       "6       201     1096           FRA  CAUDRON Raoul (FRA)       S             0   \n",
       "14      201     1096           FRA  CAUDRON Raoul (FRA)       S             0   \n",
       "35      201     1090           USA     MILLAR Bob (USA)       S             0   \n",
       "\n",
       "         Player Name Position      Event  Goals  \n",
       "2   Marcel LANGILLER      NaN       G40'      1  \n",
       "3       Juan CARRENO      NaN       G70'      1  \n",
       "6    Andre MASCHINOT      NaN  G43' G87'      2  \n",
       "14    Lucien LAURENT      NaN       G19'      1  \n",
       "35        Tom FLORIE        C       G45'      1  "
      ],
      "text/html": "<div>\n<style scoped>\n    .dataframe tbody tr th:only-of-type {\n        vertical-align: middle;\n    }\n\n    .dataframe tbody tr th {\n        vertical-align: top;\n    }\n\n    .dataframe thead th {\n        text-align: right;\n    }\n</style>\n<table border=\"1\" class=\"dataframe\">\n  <thead>\n    <tr style=\"text-align: right;\">\n      <th></th>\n      <th>RoundID</th>\n      <th>MatchID</th>\n      <th>Team Initials</th>\n      <th>Coach Name</th>\n      <th>Line-up</th>\n      <th>Shirt Number</th>\n      <th>Player Name</th>\n      <th>Position</th>\n      <th>Event</th>\n      <th>Goals</th>\n    </tr>\n  </thead>\n  <tbody>\n    <tr>\n      <th>2</th>\n      <td>201</td>\n      <td>1096</td>\n      <td>FRA</td>\n      <td>CAUDRON Raoul (FRA)</td>\n      <td>S</td>\n      <td>0</td>\n      <td>Marcel LANGILLER</td>\n      <td>NaN</td>\n      <td>G40'</td>\n      <td>1</td>\n    </tr>\n    <tr>\n      <th>3</th>\n      <td>201</td>\n      <td>1096</td>\n      <td>MEX</td>\n      <td>LUQUE Juan (MEX)</td>\n      <td>S</td>\n      <td>0</td>\n      <td>Juan CARRENO</td>\n      <td>NaN</td>\n      <td>G70'</td>\n      <td>1</td>\n    </tr>\n    <tr>\n      <th>6</th>\n      <td>201</td>\n      <td>1096</td>\n      <td>FRA</td>\n      <td>CAUDRON Raoul (FRA)</td>\n      <td>S</td>\n      <td>0</td>\n      <td>Andre MASCHINOT</td>\n      <td>NaN</td>\n      <td>G43' G87'</td>\n      <td>2</td>\n    </tr>\n    <tr>\n      <th>14</th>\n      <td>201</td>\n      <td>1096</td>\n      <td>FRA</td>\n      <td>CAUDRON Raoul (FRA)</td>\n      <td>S</td>\n      <td>0</td>\n      <td>Lucien LAURENT</td>\n      <td>NaN</td>\n      <td>G19'</td>\n      <td>1</td>\n    </tr>\n    <tr>\n      <th>35</th>\n      <td>201</td>\n      <td>1090</td>\n      <td>USA</td>\n      <td>MILLAR Bob (USA)</td>\n      <td>S</td>\n      <td>0</td>\n      <td>Tom FLORIE</td>\n      <td>C</td>\n      <td>G45'</td>\n      <td>1</td>\n    </tr>\n  </tbody>\n</table>\n</div>"
     },
     "metadata": {},
     "execution_count": 88
    }
   ],
   "source": [
    "df_players_events.head()"
   ]
  },
  {
   "cell_type": "code",
   "execution_count": 91,
   "metadata": {},
   "outputs": [],
   "source": [
    "df_players_goleadores = df_players_events.get(['Player Name', 'Goals']).groupby('Player Name').sum().sort_values(by = 'Goals', ascending = False)"
   ]
  },
  {
   "cell_type": "code",
   "execution_count": 93,
   "metadata": {},
   "outputs": [
    {
     "output_type": "execute_result",
     "data": {
      "text/plain": [
       "                                      Goals\n",
       "Player Name                                \n",
       "KLOSE                                    17\n",
       "RONALDO                                  16\n",
       "Just FONTAINE                            13\n",
       "Gerd MUELLER                             13\n",
       "PELÔøΩ (Edson Arantes do Nascimento)     12\n",
       "Sandor KOCSIS                            11\n",
       "MÔøΩLLER                                 11\n",
       "Grzegorz LATO                            10\n",
       "Helmut RAHN                              10\n",
       "Karl-Heinz RUMMENIGGE                     9\n",
       "Paolo ROSSI                               9\n",
       "Uwe SEELER                                9\n",
       "VAVA                                      9\n",
       "JAIRZINHO                                 9\n",
       "Guillermo STABILE                         8\n",
       "ADEMIR                                    8\n",
       "Diego MARADONA                            8\n",
       "LEONIDAS                                  8\n",
       "Oscar MIGUEZ                              8\n",
       "Rudi VOELLER                              8"
      ],
      "text/html": "<div>\n<style scoped>\n    .dataframe tbody tr th:only-of-type {\n        vertical-align: middle;\n    }\n\n    .dataframe tbody tr th {\n        vertical-align: top;\n    }\n\n    .dataframe thead th {\n        text-align: right;\n    }\n</style>\n<table border=\"1\" class=\"dataframe\">\n  <thead>\n    <tr style=\"text-align: right;\">\n      <th></th>\n      <th>Goals</th>\n    </tr>\n    <tr>\n      <th>Player Name</th>\n      <th></th>\n    </tr>\n  </thead>\n  <tbody>\n    <tr>\n      <th>KLOSE</th>\n      <td>17</td>\n    </tr>\n    <tr>\n      <th>RONALDO</th>\n      <td>16</td>\n    </tr>\n    <tr>\n      <th>Just FONTAINE</th>\n      <td>13</td>\n    </tr>\n    <tr>\n      <th>Gerd MUELLER</th>\n      <td>13</td>\n    </tr>\n    <tr>\n      <th>PELÔøΩ (Edson Arantes do Nascimento)</th>\n      <td>12</td>\n    </tr>\n    <tr>\n      <th>Sandor KOCSIS</th>\n      <td>11</td>\n    </tr>\n    <tr>\n      <th>MÔøΩLLER</th>\n      <td>11</td>\n    </tr>\n    <tr>\n      <th>Grzegorz LATO</th>\n      <td>10</td>\n    </tr>\n    <tr>\n      <th>Helmut RAHN</th>\n      <td>10</td>\n    </tr>\n    <tr>\n      <th>Karl-Heinz RUMMENIGGE</th>\n      <td>9</td>\n    </tr>\n    <tr>\n      <th>Paolo ROSSI</th>\n      <td>9</td>\n    </tr>\n    <tr>\n      <th>Uwe SEELER</th>\n      <td>9</td>\n    </tr>\n    <tr>\n      <th>VAVA</th>\n      <td>9</td>\n    </tr>\n    <tr>\n      <th>JAIRZINHO</th>\n      <td>9</td>\n    </tr>\n    <tr>\n      <th>Guillermo STABILE</th>\n      <td>8</td>\n    </tr>\n    <tr>\n      <th>ADEMIR</th>\n      <td>8</td>\n    </tr>\n    <tr>\n      <th>Diego MARADONA</th>\n      <td>8</td>\n    </tr>\n    <tr>\n      <th>LEONIDAS</th>\n      <td>8</td>\n    </tr>\n    <tr>\n      <th>Oscar MIGUEZ</th>\n      <td>8</td>\n    </tr>\n    <tr>\n      <th>Rudi VOELLER</th>\n      <td>8</td>\n    </tr>\n  </tbody>\n</table>\n</div>"
     },
     "metadata": {},
     "execution_count": 93
    }
   ],
   "source": [
    "df_players_goleadores.head(20)"
   ]
  },
  {
   "source": [
    "Jugadores más expulsados de los mundiales"
   ],
   "cell_type": "markdown",
   "metadata": {}
  },
  {
   "cell_type": "code",
   "execution_count": 94,
   "metadata": {},
   "outputs": [],
   "source": [
    "def cantidad_rojas(cadena):\n",
    "    return cadena.count('R')"
   ]
  },
  {
   "cell_type": "code",
   "execution_count": 95,
   "metadata": {},
   "outputs": [
    {
     "output_type": "stream",
     "name": "stderr",
     "text": [
      "ipykernel_launcher:1: SettingWithCopyWarning: \nA value is trying to be set on a copy of a slice from a DataFrame.\nTry using .loc[row_indexer,col_indexer] = value instead\n\nSee the caveats in the documentation: https://pandas.pydata.org/pandas-docs/stable/user_guide/indexing.html#returning-a-view-versus-a-copy\n"
     ]
    }
   ],
   "source": [
    "df_players_events['Red Cards'] = df_players_events['Event'].apply(cantidad_rojas)"
   ]
  },
  {
   "cell_type": "code",
   "execution_count": 96,
   "metadata": {},
   "outputs": [
    {
     "output_type": "execute_result",
     "data": {
      "text/plain": [
       "    RoundID  MatchID Team Initials           Coach Name Line-up  Shirt Number  \\\n",
       "2       201     1096           FRA  CAUDRON Raoul (FRA)       S             0   \n",
       "3       201     1096           MEX     LUQUE Juan (MEX)       S             0   \n",
       "6       201     1096           FRA  CAUDRON Raoul (FRA)       S             0   \n",
       "14      201     1096           FRA  CAUDRON Raoul (FRA)       S             0   \n",
       "35      201     1090           USA     MILLAR Bob (USA)       S             0   \n",
       "\n",
       "         Player Name Position      Event  Goals  Red Cards  \n",
       "2   Marcel LANGILLER      NaN       G40'      1          0  \n",
       "3       Juan CARRENO      NaN       G70'      1          0  \n",
       "6    Andre MASCHINOT      NaN  G43' G87'      2          0  \n",
       "14    Lucien LAURENT      NaN       G19'      1          0  \n",
       "35        Tom FLORIE        C       G45'      1          0  "
      ],
      "text/html": "<div>\n<style scoped>\n    .dataframe tbody tr th:only-of-type {\n        vertical-align: middle;\n    }\n\n    .dataframe tbody tr th {\n        vertical-align: top;\n    }\n\n    .dataframe thead th {\n        text-align: right;\n    }\n</style>\n<table border=\"1\" class=\"dataframe\">\n  <thead>\n    <tr style=\"text-align: right;\">\n      <th></th>\n      <th>RoundID</th>\n      <th>MatchID</th>\n      <th>Team Initials</th>\n      <th>Coach Name</th>\n      <th>Line-up</th>\n      <th>Shirt Number</th>\n      <th>Player Name</th>\n      <th>Position</th>\n      <th>Event</th>\n      <th>Goals</th>\n      <th>Red Cards</th>\n    </tr>\n  </thead>\n  <tbody>\n    <tr>\n      <th>2</th>\n      <td>201</td>\n      <td>1096</td>\n      <td>FRA</td>\n      <td>CAUDRON Raoul (FRA)</td>\n      <td>S</td>\n      <td>0</td>\n      <td>Marcel LANGILLER</td>\n      <td>NaN</td>\n      <td>G40'</td>\n      <td>1</td>\n      <td>0</td>\n    </tr>\n    <tr>\n      <th>3</th>\n      <td>201</td>\n      <td>1096</td>\n      <td>MEX</td>\n      <td>LUQUE Juan (MEX)</td>\n      <td>S</td>\n      <td>0</td>\n      <td>Juan CARRENO</td>\n      <td>NaN</td>\n      <td>G70'</td>\n      <td>1</td>\n      <td>0</td>\n    </tr>\n    <tr>\n      <th>6</th>\n      <td>201</td>\n      <td>1096</td>\n      <td>FRA</td>\n      <td>CAUDRON Raoul (FRA)</td>\n      <td>S</td>\n      <td>0</td>\n      <td>Andre MASCHINOT</td>\n      <td>NaN</td>\n      <td>G43' G87'</td>\n      <td>2</td>\n      <td>0</td>\n    </tr>\n    <tr>\n      <th>14</th>\n      <td>201</td>\n      <td>1096</td>\n      <td>FRA</td>\n      <td>CAUDRON Raoul (FRA)</td>\n      <td>S</td>\n      <td>0</td>\n      <td>Lucien LAURENT</td>\n      <td>NaN</td>\n      <td>G19'</td>\n      <td>1</td>\n      <td>0</td>\n    </tr>\n    <tr>\n      <th>35</th>\n      <td>201</td>\n      <td>1090</td>\n      <td>USA</td>\n      <td>MILLAR Bob (USA)</td>\n      <td>S</td>\n      <td>0</td>\n      <td>Tom FLORIE</td>\n      <td>C</td>\n      <td>G45'</td>\n      <td>1</td>\n      <td>0</td>\n    </tr>\n  </tbody>\n</table>\n</div>"
     },
     "metadata": {},
     "execution_count": 96
    }
   ],
   "source": [
    "df_players_events.head()"
   ]
  },
  {
   "cell_type": "code",
   "execution_count": 97,
   "metadata": {},
   "outputs": [],
   "source": [
    "df_players_expulsados = df_players_events.get(['Player Name', 'Red Cards']).groupby('Player Name').sum().sort_values(by = 'Red Cards', ascending = False)"
   ]
  },
  {
   "cell_type": "code",
   "execution_count": 98,
   "metadata": {},
   "outputs": [
    {
     "output_type": "execute_result",
     "data": {
      "text/plain": [
       "                    Red Cards\n",
       "Player Name                  \n",
       "SONG                        2\n",
       "DUARTE O.                   2\n",
       "Emil KREMENLIEV             1\n",
       "Ray WILKINS                 1\n",
       "Dick NANNINGA               1\n",
       "Rafael ALBRECHT             1\n",
       "Ramon RAMIREZ               1\n",
       "David BECKHAM               1\n",
       "Darryl POWELL               1\n",
       "Ray RICHARDS                1\n",
       "Ricardo GIUSTI              1\n",
       "Refik SABANADZOVIC          1\n",
       "Rudi VOELLER                1\n",
       "Rigobert SONG               1\n",
       "DOMORAUD                    1"
      ],
      "text/html": "<div>\n<style scoped>\n    .dataframe tbody tr th:only-of-type {\n        vertical-align: middle;\n    }\n\n    .dataframe tbody tr th {\n        vertical-align: top;\n    }\n\n    .dataframe thead th {\n        text-align: right;\n    }\n</style>\n<table border=\"1\" class=\"dataframe\">\n  <thead>\n    <tr style=\"text-align: right;\">\n      <th></th>\n      <th>Red Cards</th>\n    </tr>\n    <tr>\n      <th>Player Name</th>\n      <th></th>\n    </tr>\n  </thead>\n  <tbody>\n    <tr>\n      <th>SONG</th>\n      <td>2</td>\n    </tr>\n    <tr>\n      <th>DUARTE O.</th>\n      <td>2</td>\n    </tr>\n    <tr>\n      <th>Emil KREMENLIEV</th>\n      <td>1</td>\n    </tr>\n    <tr>\n      <th>Ray WILKINS</th>\n      <td>1</td>\n    </tr>\n    <tr>\n      <th>Dick NANNINGA</th>\n      <td>1</td>\n    </tr>\n    <tr>\n      <th>Rafael ALBRECHT</th>\n      <td>1</td>\n    </tr>\n    <tr>\n      <th>Ramon RAMIREZ</th>\n      <td>1</td>\n    </tr>\n    <tr>\n      <th>David BECKHAM</th>\n      <td>1</td>\n    </tr>\n    <tr>\n      <th>Darryl POWELL</th>\n      <td>1</td>\n    </tr>\n    <tr>\n      <th>Ray RICHARDS</th>\n      <td>1</td>\n    </tr>\n    <tr>\n      <th>Ricardo GIUSTI</th>\n      <td>1</td>\n    </tr>\n    <tr>\n      <th>Refik SABANADZOVIC</th>\n      <td>1</td>\n    </tr>\n    <tr>\n      <th>Rudi VOELLER</th>\n      <td>1</td>\n    </tr>\n    <tr>\n      <th>Rigobert SONG</th>\n      <td>1</td>\n    </tr>\n    <tr>\n      <th>DOMORAUD</th>\n      <td>1</td>\n    </tr>\n  </tbody>\n</table>\n</div>"
     },
     "metadata": {},
     "execution_count": 98
    }
   ],
   "source": [
    "df_players_expulsados.head(15)"
   ]
  },
  {
   "source": [
    "Graficos con distintos casos en los Mundiales"
   ],
   "cell_type": "markdown",
   "metadata": {}
  },
  {
   "cell_type": "code",
   "execution_count": 104,
   "metadata": {},
   "outputs": [
    {
     "output_type": "error",
     "ename": "NameError",
     "evalue": "name 'bar' is not defined",
     "traceback": [
      "\u001b[1;31m---------------------------------------------------------------------------\u001b[0m",
      "\u001b[1;31mNameError\u001b[0m                                 Traceback (most recent call last)",
      "\u001b[1;32m<ipython-input-104-a928344e964a>\u001b[0m in \u001b[0;36m<module>\u001b[1;34m\u001b[0m\n\u001b[1;32m----> 1\u001b[1;33m \u001b[0mdf_mundiales\u001b[0m\u001b[1;33m.\u001b[0m\u001b[0mplot\u001b[0m\u001b[1;33m(\u001b[0m\u001b[0mkind\u001b[0m \u001b[1;33m=\u001b[0m \u001b[0mbar\u001b[0m\u001b[1;33m,\u001b[0m \u001b[0mx\u001b[0m \u001b[1;33m=\u001b[0m \u001b[1;34m'Year'\u001b[0m\u001b[1;33m,\u001b[0m \u001b[0my\u001b[0m \u001b[1;33m=\u001b[0m \u001b[1;34m'GoalsScored'\u001b[0m\u001b[1;33m)\u001b[0m\u001b[1;33m\u001b[0m\u001b[1;33m\u001b[0m\u001b[0m\n\u001b[0m",
      "\u001b[1;31mNameError\u001b[0m: name 'bar' is not defined"
     ]
    }
   ],
   "source": [
    "df_mundiales.plot(kind = 'bar', x = 'Year', y = 'GoalsScored')"
   ]
  },
  {
   "cell_type": "code",
   "execution_count": null,
   "metadata": {},
   "outputs": [],
   "source": [
    "df_players_goleadores.plot()"
   ]
  }
 ]
}